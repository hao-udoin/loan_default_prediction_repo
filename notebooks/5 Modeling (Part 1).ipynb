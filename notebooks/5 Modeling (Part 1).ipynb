{
 "cells": [
  {
   "cell_type": "markdown",
   "id": "e5406ad9",
   "metadata": {},
   "source": [
    "# Loan Default Prediction\n",
    "## Step 5: Modeling (part 1)"
   ]
  },
  {
   "cell_type": "markdown",
   "id": "e7b94bd6",
   "metadata": {},
   "source": [
    "## Table of Content\n",
    "1. Overview (current notebook)\n",
    "2. Imports and Data Loading\n",
    "3. Logistic Regression (current notebook)\n",
    "4. KNN (part 2)\n",
    "5. Random Forest (part 3)\n",
    "6. SVM (part 4)\n",
    "7. Final Model Selection and Summary (part 5)"
   ]
  },
  {
   "cell_type": "markdown",
   "id": "1844ec76",
   "metadata": {},
   "source": [
    "## 5.1 Overview\n",
    "\n",
    "### Evaluation Metrics\n",
    "The data is now ready for use in training models. But before training the models it is important to consider the evaluation metrics in the context of the problem. Without a reasonable evaluation metric, it would not be possible to track the progress of model training (underfitting or overfitting?) or select the most effective among various models. The goal of the model is to minimize loss by identifying probable defaults; therefore false negatives are of particular importance. Furthermore, the target class is imbalanced, so accuracy alone might not be a good metric. Some metrics to be considered are the confusion matrix (highlighting the recall or sensitivity), log loss and AUC-ROC.\n",
    "\n",
    "### Candidate Algorithms\n",
    "The baseline will be established by a logistic regression model (which could be best performing by all means!). Some other models to be tested are KNN, random forest, and SVM.\n",
    "\n",
    "### Work Flow\n",
    "For each model, we will need to\n",
    "1. set the parameters\n",
    "2. fit the training data\n",
    "3. predict based on the testing data\n",
    "4. score using the above-mentioned metrics\n",
    "\n",
    "Each set of parameters will be tested using k-fold cross-validations. Furthermore, the tunings of the parameters will be explored with a grid or random search. Algorithm-appropriate visualizations will also be made."
   ]
  },
  {
   "cell_type": "markdown",
   "id": "e0d9ec88-eeb9-46ac-9fd2-556fe60b02a7",
   "metadata": {},
   "source": [
    "## 5.2 Imports and Data Loading"
   ]
  },
  {
   "cell_type": "code",
   "execution_count": 1,
   "id": "00787950-4e73-46de-ae07-9a68dd9aa619",
   "metadata": {},
   "outputs": [],
   "source": [
    "# packages and libraries\n",
    "import os\n",
    "import numpy as np\n",
    "import pandas as pd\n",
    "import matplotlib.pyplot as plt\n",
    "import seaborn as sns"
   ]
  },
  {
   "cell_type": "code",
   "execution_count": 2,
   "id": "101d8ca9-662d-49ac-95d0-c3410db13478",
   "metadata": {},
   "outputs": [],
   "source": [
    "# Scikit learn"
   ]
  },
  {
   "cell_type": "code",
   "execution_count": 3,
   "id": "2446426c-3471-413c-aa44-f31377984371",
   "metadata": {},
   "outputs": [
    {
     "data": {
      "text/html": [
       "<div>\n",
       "<style scoped>\n",
       "    .dataframe tbody tr th:only-of-type {\n",
       "        vertical-align: middle;\n",
       "    }\n",
       "\n",
       "    .dataframe tbody tr th {\n",
       "        vertical-align: top;\n",
       "    }\n",
       "\n",
       "    .dataframe thead th {\n",
       "        text-align: right;\n",
       "    }\n",
       "</style>\n",
       "<table border=\"1\" class=\"dataframe\">\n",
       "  <thead>\n",
       "    <tr style=\"text-align: right;\">\n",
       "      <th></th>\n",
       "      <th>Unnamed: 0</th>\n",
       "      <th>credit_lines_outstanding</th>\n",
       "      <th>loan_amt_outstanding</th>\n",
       "      <th>total_debt_outstanding</th>\n",
       "      <th>income</th>\n",
       "      <th>years_employed</th>\n",
       "      <th>fico_score</th>\n",
       "      <th>credit_lines_outstanding_stan</th>\n",
       "      <th>loan_amt_outstanding_stan</th>\n",
       "      <th>total_debt_outstanding_stan</th>\n",
       "      <th>income_stan</th>\n",
       "      <th>years_employed_stan</th>\n",
       "      <th>fico_score_stan</th>\n",
       "      <th>credit_lines_outstanding_norm</th>\n",
       "      <th>loan_amt_outstanding_norm</th>\n",
       "      <th>total_debt_outstanding_norm</th>\n",
       "      <th>income_norm</th>\n",
       "      <th>years_employed_norm</th>\n",
       "      <th>fico_score_norm</th>\n",
       "      <th>default</th>\n",
       "    </tr>\n",
       "  </thead>\n",
       "  <tbody>\n",
       "    <tr>\n",
       "      <th>0</th>\n",
       "      <td>906</td>\n",
       "      <td>0</td>\n",
       "      <td>3066.012991</td>\n",
       "      <td>4088.408910</td>\n",
       "      <td>62090.43416</td>\n",
       "      <td>3</td>\n",
       "      <td>619</td>\n",
       "      <td>-0.835937</td>\n",
       "      <td>-0.770267</td>\n",
       "      <td>-0.695067</td>\n",
       "      <td>-0.393287</td>\n",
       "      <td>-0.988435</td>\n",
       "      <td>-0.307341</td>\n",
       "      <td>0.0</td>\n",
       "      <td>0.281839</td>\n",
       "      <td>0.092392</td>\n",
       "      <td>0.414419</td>\n",
       "      <td>0.3</td>\n",
       "      <td>0.477376</td>\n",
       "      <td>0</td>\n",
       "    </tr>\n",
       "    <tr>\n",
       "      <th>1</th>\n",
       "      <td>8841</td>\n",
       "      <td>1</td>\n",
       "      <td>3615.966492</td>\n",
       "      <td>5520.055959</td>\n",
       "      <td>62090.71989</td>\n",
       "      <td>5</td>\n",
       "      <td>639</td>\n",
       "      <td>-0.263321</td>\n",
       "      <td>-0.383727</td>\n",
       "      <td>-0.479970</td>\n",
       "      <td>-0.393273</td>\n",
       "      <td>0.285204</td>\n",
       "      <td>0.019814</td>\n",
       "      <td>0.2</td>\n",
       "      <td>0.333234</td>\n",
       "      <td>0.125204</td>\n",
       "      <td>0.414421</td>\n",
       "      <td>0.5</td>\n",
       "      <td>0.522624</td>\n",
       "      <td>0</td>\n",
       "    </tr>\n",
       "    <tr>\n",
       "      <th>2</th>\n",
       "      <td>1644</td>\n",
       "      <td>3</td>\n",
       "      <td>5702.346570</td>\n",
       "      <td>15067.143560</td>\n",
       "      <td>77954.83237</td>\n",
       "      <td>3</td>\n",
       "      <td>524</td>\n",
       "      <td>0.881910</td>\n",
       "      <td>1.082706</td>\n",
       "      <td>0.954427</td>\n",
       "      <td>0.394981</td>\n",
       "      <td>-0.988435</td>\n",
       "      <td>-1.861325</td>\n",
       "      <td>0.6</td>\n",
       "      <td>0.528214</td>\n",
       "      <td>0.344015</td>\n",
       "      <td>0.522038</td>\n",
       "      <td>0.3</td>\n",
       "      <td>0.262443</td>\n",
       "      <td>1</td>\n",
       "    </tr>\n",
       "    <tr>\n",
       "      <th>3</th>\n",
       "      <td>1377</td>\n",
       "      <td>1</td>\n",
       "      <td>4224.598684</td>\n",
       "      <td>10228.911200</td>\n",
       "      <td>71962.47797</td>\n",
       "      <td>4</td>\n",
       "      <td>623</td>\n",
       "      <td>-0.263321</td>\n",
       "      <td>0.044056</td>\n",
       "      <td>0.227510</td>\n",
       "      <td>0.097234</td>\n",
       "      <td>-0.351615</td>\n",
       "      <td>-0.241910</td>\n",
       "      <td>0.2</td>\n",
       "      <td>0.390113</td>\n",
       "      <td>0.233127</td>\n",
       "      <td>0.481388</td>\n",
       "      <td>0.4</td>\n",
       "      <td>0.486425</td>\n",
       "      <td>0</td>\n",
       "    </tr>\n",
       "    <tr>\n",
       "      <th>4</th>\n",
       "      <td>8255</td>\n",
       "      <td>1</td>\n",
       "      <td>6982.214944</td>\n",
       "      <td>9115.623310</td>\n",
       "      <td>104349.15850</td>\n",
       "      <td>7</td>\n",
       "      <td>639</td>\n",
       "      <td>-0.263321</td>\n",
       "      <td>1.982274</td>\n",
       "      <td>0.060244</td>\n",
       "      <td>1.706460</td>\n",
       "      <td>1.558844</td>\n",
       "      <td>0.019814</td>\n",
       "      <td>0.2</td>\n",
       "      <td>0.647823</td>\n",
       "      <td>0.207611</td>\n",
       "      <td>0.701090</td>\n",
       "      <td>0.7</td>\n",
       "      <td>0.522624</td>\n",
       "      <td>0</td>\n",
       "    </tr>\n",
       "  </tbody>\n",
       "</table>\n",
       "</div>"
      ],
      "text/plain": [
       "   Unnamed: 0  credit_lines_outstanding  loan_amt_outstanding  \\\n",
       "0         906                         0           3066.012991   \n",
       "1        8841                         1           3615.966492   \n",
       "2        1644                         3           5702.346570   \n",
       "3        1377                         1           4224.598684   \n",
       "4        8255                         1           6982.214944   \n",
       "\n",
       "   total_debt_outstanding        income  years_employed  fico_score  \\\n",
       "0             4088.408910   62090.43416               3         619   \n",
       "1             5520.055959   62090.71989               5         639   \n",
       "2            15067.143560   77954.83237               3         524   \n",
       "3            10228.911200   71962.47797               4         623   \n",
       "4             9115.623310  104349.15850               7         639   \n",
       "\n",
       "   credit_lines_outstanding_stan  loan_amt_outstanding_stan  \\\n",
       "0                      -0.835937                  -0.770267   \n",
       "1                      -0.263321                  -0.383727   \n",
       "2                       0.881910                   1.082706   \n",
       "3                      -0.263321                   0.044056   \n",
       "4                      -0.263321                   1.982274   \n",
       "\n",
       "   total_debt_outstanding_stan  income_stan  years_employed_stan  \\\n",
       "0                    -0.695067    -0.393287            -0.988435   \n",
       "1                    -0.479970    -0.393273             0.285204   \n",
       "2                     0.954427     0.394981            -0.988435   \n",
       "3                     0.227510     0.097234            -0.351615   \n",
       "4                     0.060244     1.706460             1.558844   \n",
       "\n",
       "   fico_score_stan  credit_lines_outstanding_norm  loan_amt_outstanding_norm  \\\n",
       "0        -0.307341                            0.0                   0.281839   \n",
       "1         0.019814                            0.2                   0.333234   \n",
       "2        -1.861325                            0.6                   0.528214   \n",
       "3        -0.241910                            0.2                   0.390113   \n",
       "4         0.019814                            0.2                   0.647823   \n",
       "\n",
       "   total_debt_outstanding_norm  income_norm  years_employed_norm  \\\n",
       "0                     0.092392     0.414419                  0.3   \n",
       "1                     0.125204     0.414421                  0.5   \n",
       "2                     0.344015     0.522038                  0.3   \n",
       "3                     0.233127     0.481388                  0.4   \n",
       "4                     0.207611     0.701090                  0.7   \n",
       "\n",
       "   fico_score_norm  default  \n",
       "0         0.477376        0  \n",
       "1         0.522624        0  \n",
       "2         0.262443        1  \n",
       "3         0.486425        0  \n",
       "4         0.522624        0  "
      ]
     },
     "execution_count": 3,
     "metadata": {},
     "output_type": "execute_result"
    }
   ],
   "source": [
    "# load training data\n",
    "path = '../data/'\n",
    "filename = 'train_scaled.csv'\n",
    "\n",
    "df = pd.read_csv(path+filename)\n",
    "df.head()"
   ]
  },
  {
   "cell_type": "markdown",
   "id": "908ce7f6-c43d-4288-949e-5379b4d86d3b",
   "metadata": {},
   "source": [
    "## 5.3 Logistic Regression\n"
   ]
  },
  {
   "cell_type": "markdown",
   "id": "39281f93-1e7f-4a55-a748-11b2d4fb75f7",
   "metadata": {},
   "source": [
    "### 5.3.1 Baseline Model"
   ]
  },
  {
   "cell_type": "code",
   "execution_count": 20,
   "id": "f467d7c7-1417-4677-9e63-5b0a3790978b",
   "metadata": {},
   "outputs": [],
   "source": [
    "# use the features scaled by StandardScaler()\n",
    "X = df.iloc[:,7:13]\n",
    "y = df['default']"
   ]
  },
  {
   "cell_type": "code",
   "execution_count": 53,
   "id": "b8cb9529-f72b-44d9-9544-8980ac779d5b",
   "metadata": {},
   "outputs": [],
   "source": [
    "# build a logistic regressor with default parameters\n",
    "from sklearn.linear_model import LogisticRegression\n",
    "from sklearn.model_selection import train_test_split\n",
    "\n",
    "X_train, X_test, y_train, y_test = \\\n",
    "    train_test_split(X, y, test_size=0.1, random_state=23)\n",
    "clf = LogisticRegression(random_state=23)\n",
    "clf.fit(X_train, y_train)\n",
    "y_pred = clf.predict(X_test)\n",
    "y_proba = clf.predict_proba(X_test)[:,1]"
   ]
  },
  {
   "cell_type": "code",
   "execution_count": 45,
   "id": "d14069c9-223d-40f7-b8b7-e365f357ee44",
   "metadata": {},
   "outputs": [
    {
     "data": {
      "image/png": "[encoded data removed]",
      "text/plain": [
       "<Figure size 640x480 with 2 Axes>"
      ]
     },
     "metadata": {},
     "output_type": "display_data"
    }
   ],
   "source": [
    "# visualize results with confusion matrix\n",
    "from sklearn.metrics import confusion_matrix, ConfusionMatrixDisplay\n",
    "\n",
    "cm = confusion_matrix(y_test, y_pred)\n",
    "cm_display = ConfusionMatrixDisplay(cm).plot()"
   ]
  },
  {
   "cell_type": "markdown",
   "id": "7dafecb5-973a-4845-9daf-dc9d7af683fa",
   "metadata": {},
   "source": [
    "The baseline model is performing reasonably well; we will produce results on some other metrics as well."
   ]
  },
  {
   "cell_type": "code",
   "execution_count": 47,
   "id": "b514f45a-60ce-45ea-89af-25c8bfb1b11b",
   "metadata": {},
   "outputs": [
    {
     "name": "stdout",
     "output_type": "stream",
     "text": [
      "               precision    recall  f1-score   support\n",
      "\n",
      "0(no default)       1.00      1.00      1.00       588\n",
      "   1(default)       0.99      0.98      0.99       112\n",
      "\n",
      "     accuracy                           1.00       700\n",
      "    macro avg       0.99      0.99      0.99       700\n",
      " weighted avg       1.00      1.00      1.00       700\n",
      "\n"
     ]
    }
   ],
   "source": [
    "# classification report\n",
    "from sklearn.metrics import classification_report\n",
    "\n",
    "target_names = ['0(no default)', '1(default)']\n",
    "print(classification_report(y_test, y_pred, target_names=target_names))"
   ]
  },
  {
   "cell_type": "code",
   "execution_count": 56,
   "id": "7c224504-98cf-4c75-a8b3-fcd9224b4d62",
   "metadata": {},
   "outputs": [
    {
     "name": "stdout",
     "output_type": "stream",
     "text": [
      "Brier score loss: \t0.003772891225423865\n",
      "log loss: \t\t0.015680088351767384\n"
     ]
    }
   ],
   "source": [
    "# Brier score and log loss\n",
    "from sklearn.metrics import brier_score_loss, log_loss\n",
    "\n",
    "print('Brier score loss: \\t' + str(brier_score_loss(y_test, y_proba)))\n",
    "print('log loss: \\t\\t' + str(log_loss(y_test, y_proba)))"
   ]
  },
  {
   "cell_type": "code",
   "execution_count": 57,
   "id": "01aa9133-cd2f-45be-883c-21e27c09c9a6",
   "metadata": {},
   "outputs": [
    {
     "name": "stdout",
     "output_type": "stream",
     "text": [
      "ROC_AUC score:  0.9999696307094267\n"
     ]
    },
    {
     "data": {
      "image/png": "[encoded data removed]",
      "text/plain": [
       "<Figure size 640x480 with 1 Axes>"
      ]
     },
     "metadata": {},
     "output_type": "display_data"
    }
   ],
   "source": [
    "# AUC-ROC score and visualization\n",
    "from sklearn.metrics import roc_auc_score, RocCurveDisplay\n",
    "\n",
    "print('ROC_AUC score: ', str(roc_auc_score(y_test, y_proba)))\n",
    "RocCurveDisplay.from_estimator(clf, X_test, y_test)\n",
    "plt.show()"
   ]
  },
  {
   "cell_type": "code",
   "execution_count": null,
   "id": "bdaa1cff-8afd-4c08-89df-46d816f4d851",
   "metadata": {},
   "outputs": [],
   "source": [
    "# for visualizing datapoints\n",
    "'''\n",
    "results = pd.DataFrame({'predicted':y_proba[:,1], 'actual':y_test})\n",
    "sorted_results = results.sort_values(by='predicted').reset_index()\n",
    "\n",
    "sns.scatterplot(x=sorted_results.index, y=sorted_results['predicted'])\n",
    "sns.scatterplot(x=sorted_results.index, y=sorted_results['actual'])\n",
    "plt.show()\n",
    "'''"
   ]
  },
  {
   "cell_type": "markdown",
   "id": "7fab721f",
   "metadata": {},
   "source": [
    "### 5.3.2 Fine-Tuning and Cross Validation\n",
    "\n",
    "The model is performing well as is; but we will still experiment with the hyperparameters as well as perfoming k-fold validation."
   ]
  },
  {
   "cell_type": "code",
   "execution_count": null,
   "id": "015430b9",
   "metadata": {},
   "outputs": [],
   "source": [
    "\n",
    "from sklearn.model_selection import RandomizedSearchCV\n",
    "\n",
    "# build a classifier\n",
    "clf = SGDClassifier(loss=\"hinge\", penalty=\"elasticnet\", fit_intercept=True)\n",
    "\n",
    "\n",
    "# Utility function to report best scores\n",
    "def report(results, n_top=3):\n",
    "    for i in range(1, n_top + 1):\n",
    "        candidates = np.flatnonzero(results[\"rank_test_score\"] == i)\n",
    "        for candidate in candidates:\n",
    "            print(\"Model with rank: {0}\".format(i))\n",
    "            print(\n",
    "                \"Mean validation score: {0:.3f} (std: {1:.3f})\".format(\n",
    "                    results[\"mean_test_score\"][candidate],\n",
    "                    results[\"std_test_score\"][candidate],\n",
    "                )\n",
    "            )\n",
    "            print(\"Parameters: {0}\".format(results[\"params\"][candidate]))\n",
    "            print(\"\")\n",
    "\n",
    "\n",
    "# specify parameters and distributions to sample from\n",
    "param_dist = {\n",
    "    \"average\": [True, False],\n",
    "    \"l1_ratio\": stats.uniform(0, 1),\n",
    "    \"alpha\": stats.loguniform(1e-2, 1e0),\n",
    "}\n",
    "\n",
    "# run randomized search\n",
    "n_iter_search = 15\n",
    "random_search = RandomizedSearchCV(\n",
    "    clf, param_distributions=param_dist, n_iter=n_iter_search\n",
    ")\n",
    "\n",
    "start = time()\n",
    "random_search.fit(X, y)\n",
    "print(\n",
    "    \"RandomizedSearchCV took %.2f seconds for %d candidates parameter settings.\"\n",
    "    % ((time() - start), n_iter_search)\n",
    ")\n",
    "report(random_search.cv_results_)\n",
    "\n",
    "# use a full grid over all parameters\n",
    "param_grid = {\n",
    "    \"average\": [True, False],\n",
    "    \"l1_ratio\": np.linspace(0, 1, num=10),\n",
    "    \"alpha\": np.power(10, np.arange(-2, 1, dtype=float)),\n",
    "}\n",
    "\n",
    "# run grid search\n",
    "grid_search = GridSearchCV(clf, param_grid=param_grid)\n",
    "start = time()\n",
    "grid_search.fit(X, y)\n",
    "\n",
    "print(\n",
    "    \"GridSearchCV took %.2f seconds for %d candidate parameter settings.\"\n",
    "    % (time() - start, len(grid_search.cv_results_[\"params\"]))\n",
    ")\n",
    "report(grid_search.cv_results_)\n"
   ]
  }
 ],
 "metadata": {
  "kernelspec": {
   "display_name": "Python 3 (ipykernel)",
   "language": "python",
   "name": "python3"
  },
  "language_info": {
   "codemirror_mode": {
    "name": "ipython",
    "version": 3
   },
   "file_extension": ".py",
   "mimetype": "text/x-python",
   "name": "python",
   "nbconvert_exporter": "python",
   "pygments_lexer": "ipython3",
   "version": "3.11.5"
  }
 },
 "nbformat": 4,
 "nbformat_minor": 5
}
