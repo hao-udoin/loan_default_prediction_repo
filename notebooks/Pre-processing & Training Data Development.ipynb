{
 "cells": [
  {
   "cell_type": "markdown",
   "id": "16ea2aa5-9d39-4201-8304-4d517221c49f",
   "metadata": {},
   "source": [
    "# Loan Default Prediction\n",
    "## Step 4: Pre-processing & Training Data Development"
   ]
  },
  {
   "cell_type": "markdown",
   "id": "f68fbde1-9fe2-45b7-813d-900c721d8220",
   "metadata": {},
   "source": [
    "## Table of Content\n",
    "1. Recap\n",
    "2. Imports and Data Loading\n",
    "3. \n",
    "4. \n",
    "5. "
   ]
  },
  {
   "cell_type": "markdown",
   "id": "c0a393e7-360c-4927-a9c6-266623e400b2",
   "metadata": {},
   "source": [
    "## 4.1 Recap\n",
    "In the previous step, data wrangling, we have checked that there are no missing values, and that the values are all in reasonable ranges. We also found the dataset to be mildly imbalanced in the default column (roughtly 80:20 not default to default); as this is the target feature, analysis would be done with respect to this variable regardless of whether it is balanced. The profiling of the dataset also revealed correlations between other variablea that we will investigate during exploratory data analysis.\n",
    "\n",
    "The data has been cleaned and validated. \n",
    "\n",
    "1. The target feature, default, is mildly imbalanced. "
   ]
  },
  {
   "cell_type": "code",
   "execution_count": null,
   "id": "22f56baf-8378-4687-bcd7-6ac0ae311213",
   "metadata": {},
   "outputs": [],
   "source": []
  }
 ],
 "metadata": {
  "kernelspec": {
   "display_name": "Python 3 (ipykernel)",
   "language": "python",
   "name": "python3"
  },
  "language_info": {
   "codemirror_mode": {
    "name": "ipython",
    "version": 3
   },
   "file_extension": ".py",
   "mimetype": "text/x-python",
   "name": "python",
   "nbconvert_exporter": "python",
   "pygments_lexer": "ipython3",
   "version": "3.11.7"
  }
 },
 "nbformat": 4,
 "nbformat_minor": 5
}
