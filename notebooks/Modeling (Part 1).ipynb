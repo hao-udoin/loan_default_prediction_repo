{
 "cells": [
  {
   "cell_type": "markdown",
   "id": "e5406ad9",
   "metadata": {},
   "source": [
    "# Loan Default Prediction\n",
    "## Step 5: Modeling (part 1)"
   ]
  },
  {
   "cell_type": "markdown",
   "id": "e7b94bd6",
   "metadata": {},
   "source": [
    "## Table of Content\n",
    "1. Overview (current notebook)\n",
    "2. Imports and Data Loading\n",
    "3. Logistic Regression (current notebook)\n",
    "4. KNN (part 2)\n",
    "5. Random Forest (part 3)\n",
    "6. SVM (part 4)\n",
    "7. Final Model Selection and Summary (part 5)"
   ]
  },
  {
   "cell_type": "markdown",
   "id": "1844ec76",
   "metadata": {},
   "source": [
    "## 5.1 Overview\n",
    "\n",
    "### Evaluation Metrics\n",
    "The data is now ready for use in training models. But before training the models it is important to consider the evaluation metrics in the context of the problem. Without a reasonable evaluation metric, it would not be possible to track the progress of model training (underfitting or overfitting?) or select the most effective among various models. The goal of the model is to minimize loss by identifying probable defaults; therefore false negatives are of particular importance. Furthermore, the target class is imbalanced, so accuracy alone might not be a good metric. Some metrics to be considered are the confusion matrix (highlighting the recall or sensitivity), log loss and AUC-ROC.\n",
    "\n",
    "### Candidate Algorithms\n",
    "The baseline will be established by a logistic regression model (which could be best performing by all means!). Some other models to be tested are KNN, random forest, and SVM.\n",
    "\n",
    "### Work Flow\n",
    "For each model, we will need to\n",
    "1. set the parameters\n",
    "2. fit the training data\n",
    "3. predict based on the testing data\n",
    "4. score using the above-mentioned metrics.\n",
    "\n",
    "Each set of parameters will be tested using k-fold cross-validations. Furthermore, the tunings of the parameters will be explored with a grid or random search. Algorithm-appropriate visualizations will also be made."
   ]
  },
  {
   "cell_type": "markdown",
   "id": "5689d1bd-2890-4b26-90d4-e5cc5803f506",
   "metadata": {},
   "source": [
    "## 5.1 Imports and Data Loading"
   ]
  },
  {
   "cell_type": "code",
   "execution_count": null,
   "id": "c4bbd794-862f-405c-a59b-80092b6794c7",
   "metadata": {},
   "outputs": [],
   "source": [
    "# Packages and Libraries\n",
    "import os\n",
    "import numpy as np\n",
    "import pandas as pd\n",
    "import matplotlib.pyplot as plt\n",
    "import seaborn as sns\n",
    "\n"
   ]
  }
 ],
 "metadata": {
  "kernelspec": {
   "display_name": "Python 3 (ipykernel)",
   "language": "python",
   "name": "python3"
  },
  "language_info": {
   "codemirror_mode": {
    "name": "ipython",
    "version": 3
   },
   "file_extension": ".py",
   "mimetype": "text/x-python",
   "name": "python",
   "nbconvert_exporter": "python",
   "pygments_lexer": "ipython3",
   "version": "3.11.7"
  }
 },
 "nbformat": 4,
 "nbformat_minor": 5
}
