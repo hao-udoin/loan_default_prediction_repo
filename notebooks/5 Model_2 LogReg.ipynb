{
 "cells": [
  {
   "cell_type": "markdown",
   "id": "ae8e3395-f9ed-46c2-a17b-86c7a47108df",
   "metadata": {},
   "source": [
    "# Loan Default Prediction\n",
    "## Step 5: Modelling (LogReg)\n",
    "## Table of Content\n",
    "7. Imports and Data Loading\n",
    "8. Test LogReg\n",
    "9. Hyperparameter Tuning\n",
    "10. Final LogReg Model"
   ]
  },
  {
   "cell_type": "markdown",
   "id": "a56f5162-e446-477a-b910-b6c3a938b5d4",
   "metadata": {},
   "source": [
    "## 5.7 Imports and Data Loading"
   ]
  },
  {
   "cell_type": "code",
   "execution_count": 1,
   "id": "32c9a52c-162a-4130-b22a-18e96401d854",
   "metadata": {},
   "outputs": [],
   "source": [
    "import os\n",
    "import numpy as np\n",
    "import pandas as pd\n",
    "import matplotlib.pyplot as plt\n",
    "import seaborn as sns"
   ]
  },
  {
   "cell_type": "code",
   "execution_count": 10,
   "id": "cbbafab4-dcee-4d1e-88bc-d3dabaa42b7a",
   "metadata": {},
   "outputs": [],
   "source": [
    "from sklearn.metrics import confusion_matrix, ConfusionMatrixDisplay\n",
    "from sklearn.metrics import classification_report\n",
    "from sklearn.metrics import brier_score_loss, log_loss\n",
    "from sklearn.metrics import roc_auc_score, RocCurveDisplay"
   ]
  },
  {
   "cell_type": "code",
   "execution_count": 2,
   "id": "fd6051dd-1b96-404b-9597-aa5520c8c5a0",
   "metadata": {},
   "outputs": [
    {
     "data": {
      "text/html": [
       "<div>\n",
       "<style scoped>\n",
       "    .dataframe tbody tr th:only-of-type {\n",
       "        vertical-align: middle;\n",
       "    }\n",
       "\n",
       "    .dataframe tbody tr th {\n",
       "        vertical-align: top;\n",
       "    }\n",
       "\n",
       "    .dataframe thead th {\n",
       "        text-align: right;\n",
       "    }\n",
       "</style>\n",
       "<table border=\"1\" class=\"dataframe\">\n",
       "  <thead>\n",
       "    <tr style=\"text-align: right;\">\n",
       "      <th></th>\n",
       "      <th>Unnamed: 0</th>\n",
       "      <th>customer_id</th>\n",
       "      <th>credit_lines_outstanding</th>\n",
       "      <th>loan_amt_outstanding</th>\n",
       "      <th>total_debt_outstanding</th>\n",
       "      <th>income</th>\n",
       "      <th>years_employed</th>\n",
       "      <th>fico_score</th>\n",
       "      <th>default</th>\n",
       "    </tr>\n",
       "  </thead>\n",
       "  <tbody>\n",
       "    <tr>\n",
       "      <th>0</th>\n",
       "      <td>5038</td>\n",
       "      <td>6071496</td>\n",
       "      <td>3</td>\n",
       "      <td>2507.210974</td>\n",
       "      <td>8599.977362</td>\n",
       "      <td>47737.07095</td>\n",
       "      <td>6</td>\n",
       "      <td>618</td>\n",
       "      <td>0</td>\n",
       "    </tr>\n",
       "    <tr>\n",
       "      <th>1</th>\n",
       "      <td>8929</td>\n",
       "      <td>5006576</td>\n",
       "      <td>0</td>\n",
       "      <td>3879.481181</td>\n",
       "      <td>4894.867489</td>\n",
       "      <td>70287.44380</td>\n",
       "      <td>4</td>\n",
       "      <td>631</td>\n",
       "      <td>0</td>\n",
       "    </tr>\n",
       "    <tr>\n",
       "      <th>2</th>\n",
       "      <td>9024</td>\n",
       "      <td>3181518</td>\n",
       "      <td>0</td>\n",
       "      <td>2517.012371</td>\n",
       "      <td>2958.774379</td>\n",
       "      <td>39506.04322</td>\n",
       "      <td>5</td>\n",
       "      <td>763</td>\n",
       "      <td>0</td>\n",
       "    </tr>\n",
       "    <tr>\n",
       "      <th>3</th>\n",
       "      <td>3218</td>\n",
       "      <td>3770987</td>\n",
       "      <td>2</td>\n",
       "      <td>6581.765984</td>\n",
       "      <td>9023.147830</td>\n",
       "      <td>84959.97714</td>\n",
       "      <td>8</td>\n",
       "      <td>711</td>\n",
       "      <td>0</td>\n",
       "    </tr>\n",
       "    <tr>\n",
       "      <th>4</th>\n",
       "      <td>8550</td>\n",
       "      <td>3481740</td>\n",
       "      <td>5</td>\n",
       "      <td>5243.031680</td>\n",
       "      <td>27422.854140</td>\n",
       "      <td>85183.17609</td>\n",
       "      <td>4</td>\n",
       "      <td>586</td>\n",
       "      <td>1</td>\n",
       "    </tr>\n",
       "  </tbody>\n",
       "</table>\n",
       "</div>"
      ],
      "text/plain": [
       "   Unnamed: 0  customer_id  credit_lines_outstanding  loan_amt_outstanding  \\\n",
       "0        5038      6071496                         3           2507.210974   \n",
       "1        8929      5006576                         0           3879.481181   \n",
       "2        9024      3181518                         0           2517.012371   \n",
       "3        3218      3770987                         2           6581.765984   \n",
       "4        8550      3481740                         5           5243.031680   \n",
       "\n",
       "   total_debt_outstanding       income  years_employed  fico_score  default  \n",
       "0             8599.977362  47737.07095               6         618        0  \n",
       "1             4894.867489  70287.44380               4         631        0  \n",
       "2             2958.774379  39506.04322               5         763        0  \n",
       "3             9023.147830  84959.97714               8         711        0  \n",
       "4            27422.854140  85183.17609               4         586        1  "
      ]
     },
     "execution_count": 2,
     "metadata": {},
     "output_type": "execute_result"
    }
   ],
   "source": [
    "# As before, load training data\n",
    "df = pd.read_csv('../data/interim/train.csv')\n",
    "df.head()"
   ]
  },
  {
   "cell_type": "code",
   "execution_count": 4,
   "id": "2c961f83-66de-4f7e-8587-f938e8ca9204",
   "metadata": {},
   "outputs": [],
   "source": [
    "# Apply the same feature reduction as before to draw comparison\n",
    "X = df[['income', 'years_employed', 'fico_score']]\n",
    "y = df['default']"
   ]
  },
  {
   "cell_type": "markdown",
   "id": "3e7d8d94-37c5-4679-8129-d52ede2c6d62",
   "metadata": {},
   "source": [
    "## 5.8 Test LogReg\n",
    "\n",
    "We have loaded the training data into variables X and y. Here we will:\n",
    "1. perform a train/test split\n",
    "2. build a first CatBoost model using edfault perameters\n",
    "3. examine the performance of the model"
   ]
  },
  {
   "cell_type": "code",
   "execution_count": 5,
   "id": "021b5f3a-b524-4e59-8910-b7de803febe0",
   "metadata": {},
   "outputs": [],
   "source": [
    "# Perform train/test split\n",
    "from sklearn.model_selection import train_test_split\n",
    "\n",
    "X_train, X_test, y_train, y_test = \\\n",
    "    train_test_split(X, y, test_size=0.1, random_state=23)"
   ]
  },
  {
   "cell_type": "code",
   "execution_count": 7,
   "id": "976a09fb-28a2-4a2b-a8ab-99c31e5eabcf",
   "metadata": {},
   "outputs": [],
   "source": [
    "# Train a first model using default parameters\n",
    "from sklearn.linear_model import LogisticRegression\n",
    "\n",
    "model = LogisticRegression()\n",
    "fit_model = model.fit(X_train, y_train)"
   ]
  },
  {
   "cell_type": "code",
   "execution_count": 8,
   "id": "3347c9ef-1c20-484a-a6a1-16cdef91caa7",
   "metadata": {},
   "outputs": [],
   "source": [
    "# Use this model to predict on the test set\n",
    "y_pred = fit_model.predict(X_test)\n",
    "y_proba = fit_model.predict_proba(X_test)[:,1]"
   ]
  },
  {
   "cell_type": "code",
   "execution_count": 11,
   "id": "32a64e01-67d8-401f-a851-febf23d54bb1",
   "metadata": {},
   "outputs": [
    {
     "name": "stdout",
     "output_type": "stream",
     "text": [
      "               precision    recall  f1-score   support\n",
      "\n",
      "0(no default)       0.82      1.00      0.90       653\n",
      "   1(default)       0.00      0.00      0.00       147\n",
      "\n",
      "     accuracy                           0.82       800\n",
      "    macro avg       0.41      0.50      0.45       800\n",
      " weighted avg       0.67      0.82      0.73       800\n",
      "\n",
      "Brier score loss: \t0.1460115287943058\n",
      "log loss: \t\t0.46373583969474713\n",
      "ROC_AUC score:  0.6289235449156692\n"
     ]
    },
    {
     "name": "stderr",
     "output_type": "stream",
     "text": [
      "/Users/hao/anaconda3/lib/python3.11/site-packages/sklearn/metrics/_classification.py:1344: UndefinedMetricWarning: Precision and F-score are ill-defined and being set to 0.0 in labels with no predicted samples. Use `zero_division` parameter to control this behavior.\n",
      "  _warn_prf(average, modifier, msg_start, len(result))\n",
      "/Users/hao/anaconda3/lib/python3.11/site-packages/sklearn/metrics/_classification.py:1344: UndefinedMetricWarning: Precision and F-score are ill-defined and being set to 0.0 in labels with no predicted samples. Use `zero_division` parameter to control this behavior.\n",
      "  _warn_prf(average, modifier, msg_start, len(result))\n",
      "/Users/hao/anaconda3/lib/python3.11/site-packages/sklearn/metrics/_classification.py:1344: UndefinedMetricWarning: Precision and F-score are ill-defined and being set to 0.0 in labels with no predicted samples. Use `zero_division` parameter to control this behavior.\n",
      "  _warn_prf(average, modifier, msg_start, len(result))\n"
     ]
    },
    {
     "data": {
      "image/png": "[encoded data removed]",
      "text/plain": [
       "<Figure size 640x480 with 2 Axes>"
      ]
     },
     "metadata": {},
     "output_type": "display_data"
    },
    {
     "data": {
      "image/png": "[encoded data removed]",
      "text/plain": [
       "<Figure size 640x480 with 1 Axes>"
      ]
     },
     "metadata": {},
     "output_type": "display_data"
    }
   ],
   "source": [
    "# Take a look at performance metrics\n",
    "cm = confusion_matrix(y_test, y_pred)\n",
    "cm_display = ConfusionMatrixDisplay(cm).plot()\n",
    "\n",
    "target_names = ['0(no default)', '1(default)']\n",
    "print(classification_report(y_test, y_pred, target_names=target_names))\n",
    "\n",
    "print('Brier score loss: \\t' + str(brier_score_loss(y_test, y_proba)))\n",
    "print('log loss: \\t\\t' + str(log_loss(y_test, y_proba)))\n",
    "\n",
    "print('ROC_AUC score: ', str(roc_auc_score(y_test, y_proba)))\n",
    "RocCurveDisplay.from_estimator(model, X_test, y_test)\n",
    "plt.show()"
   ]
  },
  {
   "cell_type": "markdown",
   "id": "d53c3fb1-6045-4259-b763-3e13e350eda5",
   "metadata": {},
   "source": [
    "## 5.9 Hyperparameter Tuning\n",
    "As we can see already, the default LogReg model is performing worse than the default CatBoost model. It will be worthwhile to see if some hyperparameter tuning would improve the performance and by how much.\n",
    "\n",
    "Here are the default hyperparameters:\n",
    "penalty='l2', *, dual=False, tol=0.0001, C=1.0, fit_intercept=True, intercept_scaling=1, class_weight=None, random_state=None, solver='lbfgs', max_iter=100, multi_class='deprecated', verbose=0, warm_start=False, n_jobs=None, l1_ratio=None"
   ]
  },
  {
   "cell_type": "code",
   "execution_count": 28,
   "id": "13c2c8a3-4f39-4c86-9318-68ac082a3632",
   "metadata": {},
   "outputs": [
    {
     "ename": "NameError",
     "evalue": "name 'ConvergenceWarning' is not defined",
     "output_type": "error",
     "traceback": [
      "\u001b[0;31m---------------------------------------------------------------------------\u001b[0m",
      "\u001b[0;31mNameError\u001b[0m                                 Traceback (most recent call last)",
      "Cell \u001b[0;32mIn[28], line 3\u001b[0m\n\u001b[1;32m      1\u001b[0m \u001b[38;5;66;03m# Suppress convergence warnings\u001b[39;00m\n\u001b[1;32m      2\u001b[0m \u001b[38;5;28;01mimport\u001b[39;00m \u001b[38;5;21;01mwarnings\u001b[39;00m\n\u001b[0;32m----> 3\u001b[0m warnings\u001b[38;5;241m.\u001b[39mfilterwarnings(\u001b[38;5;124m'\u001b[39m\u001b[38;5;124mignore\u001b[39m\u001b[38;5;124m'\u001b[39m, category\u001b[38;5;241m=\u001b[39mConvergenceWarning)\n\u001b[1;32m      4\u001b[0m warnings\u001b[38;5;241m.\u001b[39mfilterwarnings(\u001b[38;5;124m'\u001b[39m\u001b[38;5;124mignore\u001b[39m\u001b[38;5;124m'\u001b[39m, category\u001b[38;5;241m=\u001b[39mLineSearchWarning)\n\u001b[1;32m      5\u001b[0m warnings\u001b[38;5;241m.\u001b[39mfilterwarnings(\u001b[38;5;124m'\u001b[39m\u001b[38;5;124mignore\u001b[39m\u001b[38;5;124m'\u001b[39m, category\u001b[38;5;241m=\u001b[39m\u001b[38;5;167;01mUserWarning\u001b[39;00m)\n",
      "\u001b[0;31mNameError\u001b[0m: name 'ConvergenceWarning' is not defined"
     ]
    }
   ],
   "source": [
    "# Suppress convergence warnings\n",
    "import warnings\n",
    "warnings.filterwarnings('ignore', category=ConvergenceWarning)\n",
    "warnings.filterwarnings('ignore', category=LineSearchWarning)\n",
    "warnings.filterwarnings('ignore', category=UserWarning)\n",
    "\n",
    "from sklearn.model_selection import RandomizedSearchCV\n",
    "\n",
    "clf = LogisticRegression(max_iter=500, penalty='l2')\n",
    "\n",
    "param_distributions = {'solver': ['lbfgs', 'newton-cg', 'liblinear'],\n",
    "                       'C' : [0.01, 0.1, 1, 10, 100]}\n",
    "\n",
    "search = RandomizedSearchCV(clf, param_distributions, scoring='roc_auc', n_iter=50).fit(X_train, y_train)\n",
    "print('search done')\n",
    "print(search.best_params_)"
   ]
  },
  {
   "cell_type": "markdown",
   "id": "9cba380c-a32a-484b-af53-5f4060a860ed",
   "metadata": {},
   "source": [
    "Let us examine the performance using this set of hyperparameters\n",
    "\n",
    "{'solver': 'newton-cg', 'penalty': 'l2', 'C': 10}"
   ]
  },
  {
   "cell_type": "code",
   "execution_count": 22,
   "id": "cc99e8c0-30a1-4614-bb5a-ab39441e3f31",
   "metadata": {},
   "outputs": [
    {
     "name": "stderr",
     "output_type": "stream",
     "text": [
      "/Users/hao/anaconda3/lib/python3.11/site-packages/scipy/optimize/_linesearch.py:313: LineSearchWarning: The line search algorithm did not converge\n",
      "  alpha_star, phi_star, old_fval, derphi_star = scalar_search_wolfe2(\n",
      "/Users/hao/anaconda3/lib/python3.11/site-packages/sklearn/utils/optimize.py:43: LineSearchWarning: The line search algorithm did not converge\n",
      "  ret = line_search_wolfe2(\n",
      "/Users/hao/anaconda3/lib/python3.11/site-packages/scipy/optimize/_linesearch.py:313: LineSearchWarning: Rounding errors prevent the line search from converging\n",
      "  alpha_star, phi_star, old_fval, derphi_star = scalar_search_wolfe2(\n",
      "/Users/hao/anaconda3/lib/python3.11/site-packages/sklearn/utils/optimize.py:203: UserWarning: Line Search failed\n",
      "  warnings.warn(\"Line Search failed\")\n"
     ]
    }
   ],
   "source": [
    "model = LogisticRegression(solver='newton-cg', penalty='l2', C=10, max_iter=500)\n",
    "fit_model = model.fit(X_train, y_train)\n",
    "\n",
    "y_pred = fit_model.predict(X_test)\n",
    "y_proba = fit_model.predict_proba(X_test)[:,1]"
   ]
  },
  {
   "cell_type": "code",
   "execution_count": null,
   "id": "13fb0283-56df-49d5-9894-1bd03f9d1ada",
   "metadata": {},
   "outputs": [],
   "source": []
  }
 ],
 "metadata": {
  "kernelspec": {
   "display_name": "Python 3 (ipykernel)",
   "language": "python",
   "name": "python3"
  },
  "language_info": {
   "codemirror_mode": {
    "name": "ipython",
    "version": 3
   },
   "file_extension": ".py",
   "mimetype": "text/x-python",
   "name": "python",
   "nbconvert_exporter": "python",
   "pygments_lexer": "ipython3",
   "version": "3.11.5"
  }
 },
 "nbformat": 4,
 "nbformat_minor": 5
}
