{
 "cells": [
  {
   "cell_type": "markdown",
   "id": "9940bded-00a3-41b9-81df-9110fd939bf0",
   "metadata": {},
   "source": [
    "# Loan Default Prediction\n",
    "## Step 5: Modelling (LogReg)\n",
    "## Table of Content\n",
    "11. Imports and Data Loading\n",
    "12. Test KNN\n",
    "13. Hyperparameter Tuning\n",
    "14. Final KNN Model"
   ]
  },
  {
   "cell_type": "markdown",
   "id": "e92f0030-e8c3-4689-ae2e-f5f0ac74589c",
   "metadata": {},
   "source": [
    "## 5.11 Imports and Data Loading"
   ]
  },
  {
   "cell_type": "code",
   "execution_count": 1,
   "id": "8b849d79-e0c2-4c43-96d3-b871444653af",
   "metadata": {},
   "outputs": [],
   "source": [
    "import os\n",
    "import numpy as np\n",
    "import pandas as pd\n",
    "import matplotlib.pyplot as plt\n",
    "import seaborn as sns"
   ]
  },
  {
   "cell_type": "code",
   "execution_count": 2,
   "id": "5407a5ca-942d-4452-99ae-8eed6ee94fa3",
   "metadata": {},
   "outputs": [],
   "source": [
    "from sklearn.metrics import confusion_matrix, ConfusionMatrixDisplay\n",
    "from sklearn.metrics import classification_report\n",
    "from sklearn.metrics import brier_score_loss, log_loss\n",
    "from sklearn.metrics import roc_auc_score, RocCurveDisplay"
   ]
  },
  {
   "cell_type": "code",
   "execution_count": 3,
   "id": "4ec77bad-3ea4-49f4-8def-6f8cfab34996",
   "metadata": {},
   "outputs": [
    {
     "data": {
      "text/html": [
       "<div>\n",
       "<style scoped>\n",
       "    .dataframe tbody tr th:only-of-type {\n",
       "        vertical-align: middle;\n",
       "    }\n",
       "\n",
       "    .dataframe tbody tr th {\n",
       "        vertical-align: top;\n",
       "    }\n",
       "\n",
       "    .dataframe thead th {\n",
       "        text-align: right;\n",
       "    }\n",
       "</style>\n",
       "<table border=\"1\" class=\"dataframe\">\n",
       "  <thead>\n",
       "    <tr style=\"text-align: right;\">\n",
       "      <th></th>\n",
       "      <th>Unnamed: 0</th>\n",
       "      <th>customer_id</th>\n",
       "      <th>credit_lines_outstanding</th>\n",
       "      <th>loan_amt_outstanding</th>\n",
       "      <th>total_debt_outstanding</th>\n",
       "      <th>income</th>\n",
       "      <th>years_employed</th>\n",
       "      <th>fico_score</th>\n",
       "      <th>default</th>\n",
       "    </tr>\n",
       "  </thead>\n",
       "  <tbody>\n",
       "    <tr>\n",
       "      <th>0</th>\n",
       "      <td>5038</td>\n",
       "      <td>6071496</td>\n",
       "      <td>3</td>\n",
       "      <td>2507.210974</td>\n",
       "      <td>8599.977362</td>\n",
       "      <td>47737.07095</td>\n",
       "      <td>6</td>\n",
       "      <td>618</td>\n",
       "      <td>0</td>\n",
       "    </tr>\n",
       "    <tr>\n",
       "      <th>1</th>\n",
       "      <td>8929</td>\n",
       "      <td>5006576</td>\n",
       "      <td>0</td>\n",
       "      <td>3879.481181</td>\n",
       "      <td>4894.867489</td>\n",
       "      <td>70287.44380</td>\n",
       "      <td>4</td>\n",
       "      <td>631</td>\n",
       "      <td>0</td>\n",
       "    </tr>\n",
       "    <tr>\n",
       "      <th>2</th>\n",
       "      <td>9024</td>\n",
       "      <td>3181518</td>\n",
       "      <td>0</td>\n",
       "      <td>2517.012371</td>\n",
       "      <td>2958.774379</td>\n",
       "      <td>39506.04322</td>\n",
       "      <td>5</td>\n",
       "      <td>763</td>\n",
       "      <td>0</td>\n",
       "    </tr>\n",
       "    <tr>\n",
       "      <th>3</th>\n",
       "      <td>3218</td>\n",
       "      <td>3770987</td>\n",
       "      <td>2</td>\n",
       "      <td>6581.765984</td>\n",
       "      <td>9023.147830</td>\n",
       "      <td>84959.97714</td>\n",
       "      <td>8</td>\n",
       "      <td>711</td>\n",
       "      <td>0</td>\n",
       "    </tr>\n",
       "    <tr>\n",
       "      <th>4</th>\n",
       "      <td>8550</td>\n",
       "      <td>3481740</td>\n",
       "      <td>5</td>\n",
       "      <td>5243.031680</td>\n",
       "      <td>27422.854140</td>\n",
       "      <td>85183.17609</td>\n",
       "      <td>4</td>\n",
       "      <td>586</td>\n",
       "      <td>1</td>\n",
       "    </tr>\n",
       "  </tbody>\n",
       "</table>\n",
       "</div>"
      ],
      "text/plain": [
       "   Unnamed: 0  customer_id  credit_lines_outstanding  loan_amt_outstanding  \\\n",
       "0        5038      6071496                         3           2507.210974   \n",
       "1        8929      5006576                         0           3879.481181   \n",
       "2        9024      3181518                         0           2517.012371   \n",
       "3        3218      3770987                         2           6581.765984   \n",
       "4        8550      3481740                         5           5243.031680   \n",
       "\n",
       "   total_debt_outstanding       income  years_employed  fico_score  default  \n",
       "0             8599.977362  47737.07095               6         618        0  \n",
       "1             4894.867489  70287.44380               4         631        0  \n",
       "2             2958.774379  39506.04322               5         763        0  \n",
       "3             9023.147830  84959.97714               8         711        0  \n",
       "4            27422.854140  85183.17609               4         586        1  "
      ]
     },
     "execution_count": 3,
     "metadata": {},
     "output_type": "execute_result"
    }
   ],
   "source": [
    "# As before, load training data\n",
    "df = pd.read_csv('../data/interim/train.csv')\n",
    "df.head()"
   ]
  },
  {
   "cell_type": "code",
   "execution_count": 4,
   "id": "abed2d12-f769-4cb8-b893-46261ea074f5",
   "metadata": {},
   "outputs": [],
   "source": [
    "# Apply the same feature reduction as before to draw comparison\n",
    "X = df[['income', 'years_employed', 'fico_score']]\n",
    "y = df['default']"
   ]
  },
  {
   "cell_type": "markdown",
   "id": "55a98a1b-313e-48c6-aca9-7a599fa56889",
   "metadata": {},
   "source": [
    "## 5.12 Test LogReg\n",
    "\n",
    "We have loaded the training data into variables X and y. Here we will:\n",
    "1. perform a train/test split\n",
    "2. build a first LogReg model using default parameters\n",
    "3. examine the performance of the model"
   ]
  },
  {
   "cell_type": "code",
   "execution_count": null,
   "id": "4857b291-46dd-41b6-bcec-c43932894e84",
   "metadata": {},
   "outputs": [],
   "source": [
    "class sklearn.neighbors.KNeighborsClassifier\n",
    "# Perform train/test split\n",
    "from sklearn.model_selection import train_test_split\n",
    "\n",
    "X_train, X_test, y_train, y_test = \\\n",
    "    train_test_split(X, y, test_size=0.1, random_state=23)\n"
   ]
  }
 ],
 "metadata": {
  "kernelspec": {
   "display_name": "Python 3 (ipykernel)",
   "language": "python",
   "name": "python3"
  },
  "language_info": {
   "codemirror_mode": {
    "name": "ipython",
    "version": 3
   },
   "file_extension": ".py",
   "mimetype": "text/x-python",
   "name": "python",
   "nbconvert_exporter": "python",
   "pygments_lexer": "ipython3",
   "version": "3.11.5"
  }
 },
 "nbformat": 4,
 "nbformat_minor": 5
}
