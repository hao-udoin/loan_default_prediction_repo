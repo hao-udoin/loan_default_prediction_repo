{
 "cells": [
  {
   "cell_type": "markdown",
   "metadata": {
    "id": "hWX95qqFULh9"
   },
   "source": [
    "# Loan Default Prediction\n",
    "## Step 5: Modelling (CatBoost)\n",
    "## Table of Content\n",
    "1. Imports and Data Loading\n",
    "2. Test CastBoost\n",
    "3. Feature Reduction\n",
    "4. Aggressive Feature Reduction\n",
    "5. Hyperparameter Tuning\n",
    "6. Final Catboost Model"
   ]
  },
  {
   "cell_type": "markdown",
   "metadata": {
    "id": "4azr_8PjUymA"
   },
   "source": [
    "## 5.1 Imports and Data Loading"
   ]
  },
  {
   "cell_type": "code",
   "execution_count": 1,
   "metadata": {
    "executionInfo": {
     "elapsed": 3374,
     "status": "ok",
     "timestamp": 1715538236367,
     "user": {
      "displayName": "Hao Tang",
      "userId": "00827237582043251461"
     },
     "user_tz": 240
    },
    "id": "Wj-G0PPaC3UH"
   },
   "outputs": [],
   "source": [
    "import os\n",
    "import numpy as np\n",
    "import pandas as pd\n",
    "import matplotlib.pyplot as plt\n",
    "import seaborn as sns"
   ]
  },
  {
   "cell_type": "code",
   "execution_count": 2,
   "metadata": {
    "colab": {
     "base_uri": "https://localhost:8080/"
    },
    "executionInfo": {
     "elapsed": 24274,
     "status": "ok",
     "timestamp": 1715538229759,
     "user": {
      "displayName": "Hao Tang",
      "userId": "00827237582043251461"
     },
     "user_tz": 240
    },
    "id": "GX6wG8gABl31",
    "outputId": "54ebde25-8417-4391-896c-116828f640b2"
   },
   "outputs": [],
   "source": [
    "#!pip install catboost"
   ]
  },
  {
   "cell_type": "code",
   "execution_count": 3,
   "metadata": {
    "colab": {
     "base_uri": "https://localhost:8080/"
    },
    "executionInfo": {
     "elapsed": 10232,
     "status": "ok",
     "timestamp": 1715539125166,
     "user": {
      "displayName": "Hao Tang",
      "userId": "00827237582043251461"
     },
     "user_tz": 240
    },
    "id": "3RkPiBc9GP5v",
    "outputId": "8dd32a16-fbd2-40d1-9cd4-f35a5a23ac31"
   },
   "outputs": [],
   "source": [
    "#!pip install ipywidgets\n",
    "#!jupyter nbextension enable --py widgetsnbextension"
   ]
  },
  {
   "cell_type": "code",
   "execution_count": 4,
   "metadata": {
    "colab": {
     "base_uri": "https://localhost:8080/",
     "height": 243
    },
    "executionInfo": {
     "elapsed": 346,
     "status": "ok",
     "timestamp": 1715538892971,
     "user": {
      "displayName": "Hao Tang",
      "userId": "00827237582043251461"
     },
     "user_tz": 240
    },
    "id": "D2MVlUEKE4z-",
    "outputId": "b3b1118f-697d-4db5-a7d7-071ea2dae0a5"
   },
   "outputs": [
    {
     "data": {
      "text/html": [
       "<div>\n",
       "<style scoped>\n",
       "    .dataframe tbody tr th:only-of-type {\n",
       "        vertical-align: middle;\n",
       "    }\n",
       "\n",
       "    .dataframe tbody tr th {\n",
       "        vertical-align: top;\n",
       "    }\n",
       "\n",
       "    .dataframe thead th {\n",
       "        text-align: right;\n",
       "    }\n",
       "</style>\n",
       "<table border=\"1\" class=\"dataframe\">\n",
       "  <thead>\n",
       "    <tr style=\"text-align: right;\">\n",
       "      <th></th>\n",
       "      <th>Unnamed: 0</th>\n",
       "      <th>customer_id</th>\n",
       "      <th>credit_lines_outstanding</th>\n",
       "      <th>loan_amt_outstanding</th>\n",
       "      <th>total_debt_outstanding</th>\n",
       "      <th>income</th>\n",
       "      <th>years_employed</th>\n",
       "      <th>fico_score</th>\n",
       "      <th>default</th>\n",
       "    </tr>\n",
       "  </thead>\n",
       "  <tbody>\n",
       "    <tr>\n",
       "      <th>0</th>\n",
       "      <td>5038</td>\n",
       "      <td>6071496</td>\n",
       "      <td>3</td>\n",
       "      <td>2507.210974</td>\n",
       "      <td>8599.977362</td>\n",
       "      <td>47737.07095</td>\n",
       "      <td>6</td>\n",
       "      <td>618</td>\n",
       "      <td>0</td>\n",
       "    </tr>\n",
       "    <tr>\n",
       "      <th>1</th>\n",
       "      <td>8929</td>\n",
       "      <td>5006576</td>\n",
       "      <td>0</td>\n",
       "      <td>3879.481181</td>\n",
       "      <td>4894.867489</td>\n",
       "      <td>70287.44380</td>\n",
       "      <td>4</td>\n",
       "      <td>631</td>\n",
       "      <td>0</td>\n",
       "    </tr>\n",
       "    <tr>\n",
       "      <th>2</th>\n",
       "      <td>9024</td>\n",
       "      <td>3181518</td>\n",
       "      <td>0</td>\n",
       "      <td>2517.012371</td>\n",
       "      <td>2958.774379</td>\n",
       "      <td>39506.04322</td>\n",
       "      <td>5</td>\n",
       "      <td>763</td>\n",
       "      <td>0</td>\n",
       "    </tr>\n",
       "    <tr>\n",
       "      <th>3</th>\n",
       "      <td>3218</td>\n",
       "      <td>3770987</td>\n",
       "      <td>2</td>\n",
       "      <td>6581.765984</td>\n",
       "      <td>9023.147830</td>\n",
       "      <td>84959.97714</td>\n",
       "      <td>8</td>\n",
       "      <td>711</td>\n",
       "      <td>0</td>\n",
       "    </tr>\n",
       "    <tr>\n",
       "      <th>4</th>\n",
       "      <td>8550</td>\n",
       "      <td>3481740</td>\n",
       "      <td>5</td>\n",
       "      <td>5243.031680</td>\n",
       "      <td>27422.854140</td>\n",
       "      <td>85183.17609</td>\n",
       "      <td>4</td>\n",
       "      <td>586</td>\n",
       "      <td>1</td>\n",
       "    </tr>\n",
       "  </tbody>\n",
       "</table>\n",
       "</div>"
      ],
      "text/plain": [
       "   Unnamed: 0  customer_id  credit_lines_outstanding  loan_amt_outstanding  \\\n",
       "0        5038      6071496                         3           2507.210974   \n",
       "1        8929      5006576                         0           3879.481181   \n",
       "2        9024      3181518                         0           2517.012371   \n",
       "3        3218      3770987                         2           6581.765984   \n",
       "4        8550      3481740                         5           5243.031680   \n",
       "\n",
       "   total_debt_outstanding       income  years_employed  fico_score  default  \n",
       "0             8599.977362  47737.07095               6         618        0  \n",
       "1             4894.867489  70287.44380               4         631        0  \n",
       "2             2958.774379  39506.04322               5         763        0  \n",
       "3             9023.147830  84959.97714               8         711        0  \n",
       "4            27422.854140  85183.17609               4         586        1  "
      ]
     },
     "execution_count": 4,
     "metadata": {},
     "output_type": "execute_result"
    }
   ],
   "source": [
    "df = pd.read_csv('../data/interim/train.csv')\n",
    "df.head()"
   ]
  },
  {
   "cell_type": "code",
   "execution_count": 5,
   "metadata": {
    "colab": {
     "base_uri": "https://localhost:8080/",
     "height": 226
    },
    "executionInfo": {
     "elapsed": 161,
     "status": "ok",
     "timestamp": 1715539481217,
     "user": {
      "displayName": "Hao Tang",
      "userId": "00827237582043251461"
     },
     "user_tz": 240
    },
    "id": "0cYNCP9GGw6M",
    "outputId": "8edb4b17-80ff-4d0f-f36d-f74b6f3321ef"
   },
   "outputs": [
    {
     "data": {
      "text/html": [
       "<div>\n",
       "<style scoped>\n",
       "    .dataframe tbody tr th:only-of-type {\n",
       "        vertical-align: middle;\n",
       "    }\n",
       "\n",
       "    .dataframe tbody tr th {\n",
       "        vertical-align: top;\n",
       "    }\n",
       "\n",
       "    .dataframe thead th {\n",
       "        text-align: right;\n",
       "    }\n",
       "</style>\n",
       "<table border=\"1\" class=\"dataframe\">\n",
       "  <thead>\n",
       "    <tr style=\"text-align: right;\">\n",
       "      <th></th>\n",
       "      <th>credit_lines_outstanding</th>\n",
       "      <th>loan_amt_outstanding</th>\n",
       "      <th>total_debt_outstanding</th>\n",
       "      <th>income</th>\n",
       "      <th>years_employed</th>\n",
       "      <th>fico_score</th>\n",
       "    </tr>\n",
       "  </thead>\n",
       "  <tbody>\n",
       "    <tr>\n",
       "      <th>0</th>\n",
       "      <td>3</td>\n",
       "      <td>2507.210974</td>\n",
       "      <td>8599.977362</td>\n",
       "      <td>47737.07095</td>\n",
       "      <td>6</td>\n",
       "      <td>618</td>\n",
       "    </tr>\n",
       "    <tr>\n",
       "      <th>1</th>\n",
       "      <td>0</td>\n",
       "      <td>3879.481181</td>\n",
       "      <td>4894.867489</td>\n",
       "      <td>70287.44380</td>\n",
       "      <td>4</td>\n",
       "      <td>631</td>\n",
       "    </tr>\n",
       "    <tr>\n",
       "      <th>2</th>\n",
       "      <td>0</td>\n",
       "      <td>2517.012371</td>\n",
       "      <td>2958.774379</td>\n",
       "      <td>39506.04322</td>\n",
       "      <td>5</td>\n",
       "      <td>763</td>\n",
       "    </tr>\n",
       "    <tr>\n",
       "      <th>3</th>\n",
       "      <td>2</td>\n",
       "      <td>6581.765984</td>\n",
       "      <td>9023.147830</td>\n",
       "      <td>84959.97714</td>\n",
       "      <td>8</td>\n",
       "      <td>711</td>\n",
       "    </tr>\n",
       "    <tr>\n",
       "      <th>4</th>\n",
       "      <td>5</td>\n",
       "      <td>5243.031680</td>\n",
       "      <td>27422.854140</td>\n",
       "      <td>85183.17609</td>\n",
       "      <td>4</td>\n",
       "      <td>586</td>\n",
       "    </tr>\n",
       "  </tbody>\n",
       "</table>\n",
       "</div>"
      ],
      "text/plain": [
       "   credit_lines_outstanding  loan_amt_outstanding  total_debt_outstanding  \\\n",
       "0                         3           2507.210974             8599.977362   \n",
       "1                         0           3879.481181             4894.867489   \n",
       "2                         0           2517.012371             2958.774379   \n",
       "3                         2           6581.765984             9023.147830   \n",
       "4                         5           5243.031680            27422.854140   \n",
       "\n",
       "        income  years_employed  fico_score  \n",
       "0  47737.07095               6         618  \n",
       "1  70287.44380               4         631  \n",
       "2  39506.04322               5         763  \n",
       "3  84959.97714               8         711  \n",
       "4  85183.17609               4         586  "
      ]
     },
     "execution_count": 5,
     "metadata": {},
     "output_type": "execute_result"
    }
   ],
   "source": [
    "X = df.iloc[:,2:-1]\n",
    "X.head()"
   ]
  },
  {
   "cell_type": "code",
   "execution_count": 6,
   "metadata": {
    "colab": {
     "base_uri": "https://localhost:8080/"
    },
    "executionInfo": {
     "elapsed": 3,
     "status": "ok",
     "timestamp": 1715539371082,
     "user": {
      "displayName": "Hao Tang",
      "userId": "00827237582043251461"
     },
     "user_tz": 240
    },
    "id": "149GVyAyHIwr",
    "outputId": "bd129ce6-c2ab-4943-85ea-77a8b55070dd"
   },
   "outputs": [
    {
     "data": {
      "text/plain": [
       "0    0\n",
       "1    0\n",
       "2    0\n",
       "3    0\n",
       "4    1\n",
       "Name: default, dtype: int64"
      ]
     },
     "execution_count": 6,
     "metadata": {},
     "output_type": "execute_result"
    }
   ],
   "source": [
    "y = df['default']\n",
    "y.head()"
   ]
  },
  {
   "cell_type": "markdown",
   "metadata": {
    "id": "H3qGseZjU_qV"
   },
   "source": [
    "## 5.2 Test CatBoost\n",
    "\n",
    "We have loaded the training data into variables X and y. Here we will:\n",
    "1. perform a train/test split\n",
    "2. build a first CatBoost model using edfault perameters\n",
    "3. examine the performance of the model"
   ]
  },
  {
   "cell_type": "code",
   "execution_count": 7,
   "metadata": {
    "executionInfo": {
     "elapsed": 162,
     "status": "ok",
     "timestamp": 1715539483232,
     "user": {
      "displayName": "Hao Tang",
      "userId": "00827237582043251461"
     },
     "user_tz": 240
    },
    "id": "zcQRmGUCHlC1"
   },
   "outputs": [],
   "source": [
    "# Perform train/test split\n",
    "from sklearn.model_selection import train_test_split\n",
    "\n",
    "X_train, X_test, y_train, y_test = \\\n",
    "    train_test_split(X, y, test_size=0.1, random_state=23)"
   ]
  },
  {
   "cell_type": "code",
   "execution_count": 28,
   "metadata": {
    "colab": {
     "base_uri": "https://localhost:8080/",
     "height": 17,
     "referenced_widgets": [
      "99dfa521be66471ba1f8d6dab45d4328"
     ]
    },
    "executionInfo": {
     "elapsed": 3546,
     "status": "ok",
     "timestamp": 1715543427988,
     "user": {
      "displayName": "Hao Tang",
      "userId": "00827237582043251461"
     },
     "user_tz": 240
    },
    "id": "HzyWwBxWFRJO",
    "outputId": "072a021c-c308-4b50-86f9-09b96846a0dc"
   },
   "outputs": [
    {
     "data": {
      "application/vnd.jupyter.widget-view+json": {
       "model_id": "5dd7e115fc8c4265833ab275f45b10be",
       "version_major": 2,
       "version_minor": 0
      },
      "text/plain": [
       "MetricVisualizer(layout=Layout(align_self='stretch', height='500px'))"
      ]
     },
     "metadata": {},
     "output_type": "display_data"
    }
   ],
   "source": [
    "# Train a first model using default parameters\n",
    "from catboost import CatBoostClassifier\n",
    "\n",
    "model = CatBoostClassifier()\n",
    "fit_model = model.fit(X_train, y_train, verbose=False, plot=True)"
   ]
  },
  {
   "cell_type": "code",
   "execution_count": 9,
   "metadata": {
    "id": "e0LnxPJ3WJ0c"
   },
   "outputs": [],
   "source": [
    "# Use this model to predict on the test set\n",
    "y_pred = fit_model.predict(X_test)\n",
    "y_proba = fit_model.predict_proba(X_test)[:,1]"
   ]
  },
  {
   "cell_type": "code",
   "execution_count": 10,
   "metadata": {},
   "outputs": [
    {
     "data": {
      "image/png": "[encoded data removed]",
      "text/plain": [
       "<Figure size 640x480 with 2 Axes>"
      ]
     },
     "metadata": {},
     "output_type": "display_data"
    }
   ],
   "source": [
    "# visualize results with confusion matrix\n",
    "from sklearn.metrics import confusion_matrix, ConfusionMatrixDisplay\n",
    "\n",
    "cm = confusion_matrix(y_test, y_pred)\n",
    "cm_display = ConfusionMatrixDisplay(cm).plot()"
   ]
  },
  {
   "cell_type": "code",
   "execution_count": 11,
   "metadata": {},
   "outputs": [
    {
     "name": "stdout",
     "output_type": "stream",
     "text": [
      "               precision    recall  f1-score   support\n",
      "\n",
      "0(no default)       1.00      1.00      1.00       653\n",
      "   1(default)       0.99      0.98      0.99       147\n",
      "\n",
      "     accuracy                           0.99       800\n",
      "    macro avg       0.99      0.99      0.99       800\n",
      " weighted avg       0.99      0.99      0.99       800\n",
      "\n"
     ]
    }
   ],
   "source": [
    "# classification report\n",
    "from sklearn.metrics import classification_report\n",
    "\n",
    "target_names = ['0(no default)', '1(default)']\n",
    "print(classification_report(y_test, y_pred, target_names=target_names))"
   ]
  },
  {
   "cell_type": "code",
   "execution_count": 12,
   "metadata": {},
   "outputs": [
    {
     "name": "stdout",
     "output_type": "stream",
     "text": [
      "Brier score loss: \t0.0040418590027132715\n",
      "log loss: \t\t0.012927338497727085\n"
     ]
    }
   ],
   "source": [
    "# Brier score and log loss\n",
    "from sklearn.metrics import brier_score_loss, log_loss\n",
    "\n",
    "print('Brier score loss: \\t' + str(brier_score_loss(y_test, y_proba)))\n",
    "print('log loss: \\t\\t' + str(log_loss(y_test, y_proba)))"
   ]
  },
  {
   "cell_type": "code",
   "execution_count": 13,
   "metadata": {},
   "outputs": [
    {
     "name": "stdout",
     "output_type": "stream",
     "text": [
      "ROC_AUC score:  0.9998958235667927\n"
     ]
    },
    {
     "data": {
      "image/png": "[encoded data removed]",
      "text/plain": [
       "<Figure size 640x480 with 1 Axes>"
      ]
     },
     "metadata": {},
     "output_type": "display_data"
    }
   ],
   "source": [
    "# AUC-ROC score and visualization\n",
    "from sklearn.metrics import roc_auc_score, RocCurveDisplay\n",
    "\n",
    "print('ROC_AUC score: ', str(roc_auc_score(y_test, y_proba)))\n",
    "RocCurveDisplay.from_estimator(model, X_test, y_test)\n",
    "plt.show()"
   ]
  },
  {
   "cell_type": "markdown",
   "metadata": {},
   "source": [
    "## 5.3 Feature Reduction\n",
    "It seems that we have done very well even with a test attempt. A reasonable next step would be reducing the number of features and see if accurate models could be built on less features available. First let's look at what features hold the most predictive power."
   ]
  },
  {
   "cell_type": "code",
   "execution_count": 14,
   "metadata": {
    "colab": {
     "base_uri": "https://localhost:8080/",
     "height": 237
    },
    "executionInfo": {
     "elapsed": 13,
     "status": "ok",
     "timestamp": 1715540121400,
     "user": {
      "displayName": "Hao Tang",
      "userId": "00827237582043251461"
     },
     "user_tz": 240
    },
    "id": "Z91Ip7NfIvfm",
    "outputId": "4ee6ce47-3449-4fe2-f40a-9d3a3182af25"
   },
   "outputs": [
    {
     "data": {
      "text/html": [
       "<div>\n",
       "<style scoped>\n",
       "    .dataframe tbody tr th:only-of-type {\n",
       "        vertical-align: middle;\n",
       "    }\n",
       "\n",
       "    .dataframe tbody tr th {\n",
       "        vertical-align: top;\n",
       "    }\n",
       "\n",
       "    .dataframe thead th {\n",
       "        text-align: right;\n",
       "    }\n",
       "</style>\n",
       "<table border=\"1\" class=\"dataframe\">\n",
       "  <thead>\n",
       "    <tr style=\"text-align: right;\">\n",
       "      <th></th>\n",
       "      <th>Feature Id</th>\n",
       "      <th>Importances</th>\n",
       "    </tr>\n",
       "  </thead>\n",
       "  <tbody>\n",
       "    <tr>\n",
       "      <th>0</th>\n",
       "      <td>credit_lines_outstanding</td>\n",
       "      <td>41.642504</td>\n",
       "    </tr>\n",
       "    <tr>\n",
       "      <th>1</th>\n",
       "      <td>years_employed</td>\n",
       "      <td>27.133336</td>\n",
       "    </tr>\n",
       "    <tr>\n",
       "      <th>2</th>\n",
       "      <td>total_debt_outstanding</td>\n",
       "      <td>10.848737</td>\n",
       "    </tr>\n",
       "    <tr>\n",
       "      <th>3</th>\n",
       "      <td>fico_score</td>\n",
       "      <td>10.598897</td>\n",
       "    </tr>\n",
       "    <tr>\n",
       "      <th>4</th>\n",
       "      <td>income</td>\n",
       "      <td>6.910185</td>\n",
       "    </tr>\n",
       "    <tr>\n",
       "      <th>5</th>\n",
       "      <td>loan_amt_outstanding</td>\n",
       "      <td>2.866341</td>\n",
       "    </tr>\n",
       "  </tbody>\n",
       "</table>\n",
       "</div>"
      ],
      "text/plain": [
       "                 Feature Id  Importances\n",
       "0  credit_lines_outstanding    41.642504\n",
       "1            years_employed    27.133336\n",
       "2    total_debt_outstanding    10.848737\n",
       "3                fico_score    10.598897\n",
       "4                    income     6.910185\n",
       "5      loan_amt_outstanding     2.866341"
      ]
     },
     "execution_count": 14,
     "metadata": {},
     "output_type": "execute_result"
    }
   ],
   "source": [
    "fit_model.get_feature_importance(prettified=True)"
   ]
  },
  {
   "cell_type": "markdown",
   "metadata": {
    "id": "20iDUTt4KNQB"
   },
   "source": [
    "According to the above chart, 'credit_lines_outstanding' accounts for over 42% of the predictive power. Let's remove this feature and retrain a model."
   ]
  },
  {
   "cell_type": "code",
   "execution_count": 15,
   "metadata": {},
   "outputs": [
    {
     "data": {
      "text/html": [
       "<div>\n",
       "<style scoped>\n",
       "    .dataframe tbody tr th:only-of-type {\n",
       "        vertical-align: middle;\n",
       "    }\n",
       "\n",
       "    .dataframe tbody tr th {\n",
       "        vertical-align: top;\n",
       "    }\n",
       "\n",
       "    .dataframe thead th {\n",
       "        text-align: right;\n",
       "    }\n",
       "</style>\n",
       "<table border=\"1\" class=\"dataframe\">\n",
       "  <thead>\n",
       "    <tr style=\"text-align: right;\">\n",
       "      <th></th>\n",
       "      <th>loan_amt_outstanding</th>\n",
       "      <th>total_debt_outstanding</th>\n",
       "      <th>income</th>\n",
       "      <th>years_employed</th>\n",
       "      <th>fico_score</th>\n",
       "    </tr>\n",
       "  </thead>\n",
       "  <tbody>\n",
       "    <tr>\n",
       "      <th>0</th>\n",
       "      <td>2507.210974</td>\n",
       "      <td>8599.977362</td>\n",
       "      <td>47737.07095</td>\n",
       "      <td>6</td>\n",
       "      <td>618</td>\n",
       "    </tr>\n",
       "    <tr>\n",
       "      <th>1</th>\n",
       "      <td>3879.481181</td>\n",
       "      <td>4894.867489</td>\n",
       "      <td>70287.44380</td>\n",
       "      <td>4</td>\n",
       "      <td>631</td>\n",
       "    </tr>\n",
       "    <tr>\n",
       "      <th>2</th>\n",
       "      <td>2517.012371</td>\n",
       "      <td>2958.774379</td>\n",
       "      <td>39506.04322</td>\n",
       "      <td>5</td>\n",
       "      <td>763</td>\n",
       "    </tr>\n",
       "    <tr>\n",
       "      <th>3</th>\n",
       "      <td>6581.765984</td>\n",
       "      <td>9023.147830</td>\n",
       "      <td>84959.97714</td>\n",
       "      <td>8</td>\n",
       "      <td>711</td>\n",
       "    </tr>\n",
       "    <tr>\n",
       "      <th>4</th>\n",
       "      <td>5243.031680</td>\n",
       "      <td>27422.854140</td>\n",
       "      <td>85183.17609</td>\n",
       "      <td>4</td>\n",
       "      <td>586</td>\n",
       "    </tr>\n",
       "  </tbody>\n",
       "</table>\n",
       "</div>"
      ],
      "text/plain": [
       "   loan_amt_outstanding  total_debt_outstanding       income  years_employed  \\\n",
       "0           2507.210974             8599.977362  47737.07095               6   \n",
       "1           3879.481181             4894.867489  70287.44380               4   \n",
       "2           2517.012371             2958.774379  39506.04322               5   \n",
       "3           6581.765984             9023.147830  84959.97714               8   \n",
       "4           5243.031680            27422.854140  85183.17609               4   \n",
       "\n",
       "   fico_score  \n",
       "0         618  \n",
       "1         631  \n",
       "2         763  \n",
       "3         711  \n",
       "4         586  "
      ]
     },
     "execution_count": 15,
     "metadata": {},
     "output_type": "execute_result"
    }
   ],
   "source": [
    "X1 = X.drop(columns='credit_lines_outstanding')\n",
    "X1.head()"
   ]
  },
  {
   "cell_type": "code",
   "execution_count": 16,
   "metadata": {},
   "outputs": [
    {
     "data": {
      "application/vnd.jupyter.widget-view+json": {
       "model_id": "95ded0f38f3e4280b01c7de838db3ff6",
       "version_major": 2,
       "version_minor": 0
      },
      "text/plain": [
       "MetricVisualizer(layout=Layout(align_self='stretch', height='500px'))"
      ]
     },
     "metadata": {},
     "output_type": "display_data"
    }
   ],
   "source": [
    "# Perform same steps as above\n",
    "X_train, X_test, y_train, y_test = \\\n",
    "    train_test_split(X1, y, test_size=0.1, random_state=23)\n",
    "\n",
    "model = CatBoostClassifier()\n",
    "fit_model = model.fit(X_train, y_train, verbose=False, plot=True)\n",
    "\n",
    "y_pred = fit_model.predict(X_test)\n",
    "y_proba = fit_model.predict_proba(X_test)[:,1]"
   ]
  },
  {
   "cell_type": "code",
   "execution_count": 17,
   "metadata": {},
   "outputs": [
    {
     "name": "stdout",
     "output_type": "stream",
     "text": [
      "               precision    recall  f1-score   support\n",
      "\n",
      "0(no default)       0.98      1.00      0.99       653\n",
      "   1(default)       0.99      0.93      0.96       147\n",
      "\n",
      "     accuracy                           0.98       800\n",
      "    macro avg       0.99      0.96      0.97       800\n",
      " weighted avg       0.99      0.98      0.98       800\n",
      "\n",
      "Brier score loss: \t0.011271126987279716\n",
      "log loss: \t\t0.034019660222545045\n",
      "ROC_AUC score:  0.9989999062412102\n"
     ]
    },
    {
     "data": {
      "image/png": "[encoded data removed]",
      "text/plain": [
       "<Figure size 640x480 with 2 Axes>"
      ]
     },
     "metadata": {},
     "output_type": "display_data"
    },
    {
     "data": {
      "image/png": "[encoded data removed]",
      "text/plain": [
       "<Figure size 640x480 with 1 Axes>"
      ]
     },
     "metadata": {},
     "output_type": "display_data"
    }
   ],
   "source": [
    "# Take a look at performance metrics\n",
    "cm = confusion_matrix(y_test, y_pred)\n",
    "cm_display = ConfusionMatrixDisplay(cm).plot()\n",
    "\n",
    "target_names = ['0(no default)', '1(default)']\n",
    "print(classification_report(y_test, y_pred, target_names=target_names))\n",
    "\n",
    "print('Brier score loss: \\t' + str(brier_score_loss(y_test, y_proba)))\n",
    "print('log loss: \\t\\t' + str(log_loss(y_test, y_proba)))\n",
    "\n",
    "print('ROC_AUC score: ', str(roc_auc_score(y_test, y_proba)))\n",
    "RocCurveDisplay.from_estimator(model, X_test, y_test)\n",
    "plt.show()"
   ]
  },
  {
   "cell_type": "markdown",
   "metadata": {},
   "source": [
    "## 5.4 Aggressive Feature Reduction\n",
    "Let us use only 'income,' 'years_employed,' and 'fico_score' to test the effect of parameter tuning."
   ]
  },
  {
   "cell_type": "code",
   "execution_count": 18,
   "metadata": {},
   "outputs": [
    {
     "data": {
      "text/html": [
       "<div>\n",
       "<style scoped>\n",
       "    .dataframe tbody tr th:only-of-type {\n",
       "        vertical-align: middle;\n",
       "    }\n",
       "\n",
       "    .dataframe tbody tr th {\n",
       "        vertical-align: top;\n",
       "    }\n",
       "\n",
       "    .dataframe thead th {\n",
       "        text-align: right;\n",
       "    }\n",
       "</style>\n",
       "<table border=\"1\" class=\"dataframe\">\n",
       "  <thead>\n",
       "    <tr style=\"text-align: right;\">\n",
       "      <th></th>\n",
       "      <th>income</th>\n",
       "      <th>years_employed</th>\n",
       "      <th>fico_score</th>\n",
       "    </tr>\n",
       "  </thead>\n",
       "  <tbody>\n",
       "    <tr>\n",
       "      <th>0</th>\n",
       "      <td>47737.07095</td>\n",
       "      <td>6</td>\n",
       "      <td>618</td>\n",
       "    </tr>\n",
       "    <tr>\n",
       "      <th>1</th>\n",
       "      <td>70287.44380</td>\n",
       "      <td>4</td>\n",
       "      <td>631</td>\n",
       "    </tr>\n",
       "    <tr>\n",
       "      <th>2</th>\n",
       "      <td>39506.04322</td>\n",
       "      <td>5</td>\n",
       "      <td>763</td>\n",
       "    </tr>\n",
       "    <tr>\n",
       "      <th>3</th>\n",
       "      <td>84959.97714</td>\n",
       "      <td>8</td>\n",
       "      <td>711</td>\n",
       "    </tr>\n",
       "    <tr>\n",
       "      <th>4</th>\n",
       "      <td>85183.17609</td>\n",
       "      <td>4</td>\n",
       "      <td>586</td>\n",
       "    </tr>\n",
       "  </tbody>\n",
       "</table>\n",
       "</div>"
      ],
      "text/plain": [
       "        income  years_employed  fico_score\n",
       "0  47737.07095               6         618\n",
       "1  70287.44380               4         631\n",
       "2  39506.04322               5         763\n",
       "3  84959.97714               8         711\n",
       "4  85183.17609               4         586"
      ]
     },
     "execution_count": 18,
     "metadata": {},
     "output_type": "execute_result"
    }
   ],
   "source": [
    "X2 = df[['income', 'years_employed', 'fico_score']]\n",
    "X2.head()"
   ]
  },
  {
   "cell_type": "code",
   "execution_count": 19,
   "metadata": {},
   "outputs": [
    {
     "data": {
      "application/vnd.jupyter.widget-view+json": {
       "model_id": "cdbe2cd9ebd6436f95ded385f6c9f985",
       "version_major": 2,
       "version_minor": 0
      },
      "text/plain": [
       "MetricVisualizer(layout=Layout(align_self='stretch', height='500px'))"
      ]
     },
     "metadata": {},
     "output_type": "display_data"
    }
   ],
   "source": [
    "# Perform same steps as above\n",
    "X_train, X_test, y_train, y_test = \\\n",
    "    train_test_split(X2, y, test_size=0.1, random_state=23)\n",
    "\n",
    "model = CatBoostClassifier()\n",
    "fit_model = model.fit(X_train, y_train, verbose=False, plot=True)\n",
    "\n",
    "y_pred = fit_model.predict(X_test)\n",
    "y_proba = fit_model.predict_proba(X_test)[:,1]"
   ]
  },
  {
   "cell_type": "code",
   "execution_count": 20,
   "metadata": {},
   "outputs": [
    {
     "name": "stdout",
     "output_type": "stream",
     "text": [
      "               precision    recall  f1-score   support\n",
      "\n",
      "0(no default)       0.84      0.97      0.90       653\n",
      "   1(default)       0.58      0.20      0.29       147\n",
      "\n",
      "     accuracy                           0.83       800\n",
      "    macro avg       0.71      0.58      0.60       800\n",
      " weighted avg       0.79      0.83      0.79       800\n",
      "\n",
      "Brier score loss: \t0.13494448138370876\n",
      "log loss: \t\t0.4323157578207221\n",
      "ROC_AUC score:  0.7347563834109447\n"
     ]
    },
    {
     "data": {
      "image/png": "[encoded data removed]",
      "text/plain": [
       "<Figure size 640x480 with 2 Axes>"
      ]
     },
     "metadata": {},
     "output_type": "display_data"
    },
    {
     "data": {
      "image/png": "[encoded data removed]",
      "text/plain": [
       "<Figure size 640x480 with 1 Axes>"
      ]
     },
     "metadata": {},
     "output_type": "display_data"
    }
   ],
   "source": [
    "# Take a look at performance metrics\n",
    "cm = confusion_matrix(y_test, y_pred)\n",
    "cm_display = ConfusionMatrixDisplay(cm).plot()\n",
    "\n",
    "target_names = ['0(no default)', '1(default)']\n",
    "print(classification_report(y_test, y_pred, target_names=target_names))\n",
    "\n",
    "print('Brier score loss: \\t' + str(brier_score_loss(y_test, y_proba)))\n",
    "print('log loss: \\t\\t' + str(log_loss(y_test, y_proba)))\n",
    "\n",
    "print('ROC_AUC score: ', str(roc_auc_score(y_test, y_proba)))\n",
    "RocCurveDisplay.from_estimator(model, X_test, y_test)\n",
    "plt.show()"
   ]
  },
  {
   "cell_type": "markdown",
   "metadata": {},
   "source": [
    "## 5.5 Hyperparameter Tuning\n",
    "Now we are in a place to see if the model could be optimized. Using X2 (3 features), let's start with a randomized grid search."
   ]
  },
  {
   "cell_type": "code",
   "execution_count": 26,
   "metadata": {},
   "outputs": [
    {
     "data": {
      "application/vnd.jupyter.widget-view+json": {
       "model_id": "a5f9a9219dea47e6af246e78469023b9",
       "version_major": 2,
       "version_minor": 0
      },
      "text/plain": [
       "MetricVisualizer(layout=Layout(align_self='stretch', height='500px'))"
      ]
     },
     "metadata": {},
     "output_type": "display_data"
    },
    {
     "name": "stdout",
     "output_type": "stream",
     "text": [
      "\n",
      "bestTest = 0.3925258196\n",
      "bestIteration = 108\n",
      "\n",
      "\n",
      "bestTest = 0.3924510603\n",
      "bestIteration = 100\n",
      "\n",
      "\n",
      "bestTest = 0.3923053049\n",
      "bestIteration = 154\n",
      "\n",
      "\n",
      "bestTest = 0.3916892008\n",
      "bestIteration = 33\n",
      "\n",
      "\n",
      "bestTest = 0.3920182497\n",
      "bestIteration = 190\n",
      "\n",
      "\n",
      "bestTest = 0.3905961967\n",
      "bestIteration = 41\n",
      "\n",
      "\n",
      "bestTest = 0.3923301751\n",
      "bestIteration = 41\n",
      "\n",
      "\n",
      "bestTest = 0.3934945582\n",
      "bestIteration = 28\n",
      "\n",
      "\n",
      "bestTest = 0.3930881081\n",
      "bestIteration = 113\n",
      "\n",
      "\n",
      "bestTest = 0.3929081909\n",
      "bestIteration = 29\n",
      "\n",
      "Training on fold [0/3]\n",
      "\n",
      "bestTest = 0.3958410844\n",
      "bestIteration = 56\n",
      "\n",
      "Training on fold [1/3]\n",
      "\n",
      "bestTest = 0.3899972065\n",
      "bestIteration = 40\n",
      "\n",
      "Training on fold [2/3]\n",
      "\n",
      "bestTest = 0.3991083149\n",
      "bestIteration = 34\n",
      "\n"
     ]
    }
   ],
   "source": [
    "model = CatBoostClassifier(loss_function='Logloss', verbose=False)\n",
    "\n",
    "grid = {'learning_rate': [0.03, 0.1],\n",
    "        'depth': [4, 6, 10],\n",
    "        'l2_leaf_reg': [1, 3, 5, 7, 9]}\n",
    "\n",
    "randomized_search_result = model.randomized_search(grid,\n",
    "                                                   X=X_train,\n",
    "                                                   y=y_train,\n",
    "                                                   cv=3,\n",
    "                                                   n_iter=10,\n",
    "                                                   plot=True,\n",
    "                                                   verbose=False)"
   ]
  },
  {
   "cell_type": "markdown",
   "metadata": {},
   "source": [
    "## 5.6 Final Catboost Model\n",
    "Using the results of the last section, the best values for the test parameters are:\n",
    "depth = 10 (default 6)\n",
    "leaning rate = 0.1 (default 0.03)\n",
    "l2 leaf ref reg = 1 (default 3.0)\n",
    "Using these parameters, we will train the model and calculate metrics on the validation set."
   ]
  },
  {
   "cell_type": "code",
   "execution_count": 22,
   "metadata": {},
   "outputs": [
    {
     "data": {
      "application/vnd.jupyter.widget-view+json": {
       "model_id": "4cbc8f1190bf41b7b4a0c60b90fa90af",
       "version_major": 2,
       "version_minor": 0
      },
      "text/plain": [
       "MetricVisualizer(layout=Layout(align_self='stretch', height='500px'))"
      ]
     },
     "metadata": {},
     "output_type": "display_data"
    }
   ],
   "source": [
    "# Train model on all of the training data\n",
    "model = CatBoostClassifier()\n",
    "fit_model = model.fit(X2, y, verbose=False, plot=True)"
   ]
  },
  {
   "cell_type": "code",
   "execution_count": 23,
   "metadata": {},
   "outputs": [],
   "source": [
    "# Import validation data\n",
    "df_valid = pd.read_csv('../data/interim/train.csv')\n",
    "X_valid = df_valid[['income', 'years_employed', 'fico_score']]\n",
    "y_valid = df_valid['default']"
   ]
  },
  {
   "cell_type": "code",
   "execution_count": 24,
   "metadata": {},
   "outputs": [],
   "source": [
    "# Use the trained model to make predictions\n",
    "y_pred = fit_model.predict(X_valid)\n",
    "y_proba = fit_model.predict_proba(X_valid)[:,1]"
   ]
  },
  {
   "cell_type": "code",
   "execution_count": 25,
   "metadata": {},
   "outputs": [
    {
     "name": "stdout",
     "output_type": "stream",
     "text": [
      "               precision    recall  f1-score   support\n",
      "\n",
      "0(no default)       0.86      0.99      0.92      6525\n",
      "   1(default)       0.82      0.29      0.42      1475\n",
      "\n",
      "     accuracy                           0.86      8000\n",
      "    macro avg       0.84      0.64      0.67      8000\n",
      " weighted avg       0.85      0.86      0.83      8000\n",
      "\n",
      "Brier score loss: \t0.10480896293054924\n",
      "log loss: \t\t0.3409227932270669\n",
      "ROC_AUC score:  0.8511689330476004\n"
     ]
    },
    {
     "data": {
      "image/png": "[encoded data removed]",
      "text/plain": [
       "<Figure size 640x480 with 2 Axes>"
      ]
     },
     "metadata": {},
     "output_type": "display_data"
    },
    {
     "data": {
      "image/png": "[encoded data removed]",
      "text/plain": [
       "<Figure size 640x480 with 1 Axes>"
      ]
     },
     "metadata": {},
     "output_type": "display_data"
    }
   ],
   "source": [
    "# Generate performance metrics from the predictions\n",
    "cm = confusion_matrix(y_valid, y_pred)\n",
    "cm_display = ConfusionMatrixDisplay(cm).plot()\n",
    "\n",
    "target_names = ['0(no default)', '1(default)']\n",
    "print(classification_report(y_valid, y_pred, target_names=target_names))\n",
    "\n",
    "print('Brier score loss: \\t' + str(brier_score_loss(y_valid, y_proba)))\n",
    "print('log loss: \\t\\t' + str(log_loss(y_valid, y_proba)))\n",
    "\n",
    "print('ROC_AUC score: ', str(roc_auc_score(y_valid, y_proba)))\n",
    "RocCurveDisplay.from_estimator(model, X_valid, y_valid)\n",
    "plt.show()"
   ]
  },
  {
   "cell_type": "code",
   "execution_count": null,
   "metadata": {},
   "outputs": [],
   "source": []
  }
 ],
 "metadata": {
  "colab": {
   "authorship_tag": "ABX9TyOzYQK0r1taTRcfgtPXfnfm",
   "provenance": [],
   "toc_visible": true
  },
  "kernelspec": {
   "display_name": "Python 3 (ipykernel)",
   "language": "python",
   "name": "python3"
  },
  "language_info": {
   "codemirror_mode": {
    "name": "ipython",
    "version": 3
   },
   "file_extension": ".py",
   "mimetype": "text/x-python",
   "name": "python",
   "nbconvert_exporter": "python",
   "pygments_lexer": "ipython3",
   "version": "3.11.5"
  },
  "widgets": {
   "application/vnd.jupyter.widget-state+json": {
    "99dfa521be66471ba1f8d6dab45d4328": {
     "model_module": "catboost-widget",
     "model_module_version": "^1.0.0",
     "model_name": "CatboostWidgetModel",
     "state": {
      "_dom_classes": [],
      "_model_module": "catboost-widget",
      "_model_module_version": "^1.0.0",
      "_model_name": "CatboostWidgetModel",
      "_view_count": null,
      "_view_module": "catboost-widget",
      "_view_module_version": "^1.0.0",
      "_view_name": "CatboostWidgetView",
      "data": {
       "catboost_info": {
        "content": {
         "data": {
          "iterations": [
           {
            "iteration": 0,
            "learn": [
             0.6161474609
            ],
            "passed_time": 0.003304675198,
            "remaining_time": 3.301370523
           },
           {
            "iteration": 1,
            "learn": [
             0.5505200534
            ],
            "passed_time": 0.006244277806,
            "remaining_time": 3.115894625
           },
           {
            "iteration": 2,
            "learn": [
             0.5129523722
            ],
            "passed_time": 0.00944178128,
            "remaining_time": 3.137818645
           },
           {
            "iteration": 3,
            "learn": [
             0.4757269287
            ],
            "passed_time": 0.01261579831,
            "remaining_time": 3.14133378
           },
           {
            "iteration": 4,
            "learn": [
             0.4250147163
            ],
            "passed_time": 0.01553325721,
            "remaining_time": 3.091118185
           },
           {
            "iteration": 5,
            "learn": [
             0.3820175849
            ],
            "passed_time": 0.01842688648,
            "remaining_time": 3.05272086
           },
           {
            "iteration": 6,
            "learn": [
             0.3430449083
            ],
            "passed_time": 0.02584391005,
            "remaining_time": 3.666143239
           },
           {
            "iteration": 7,
            "learn": [
             0.3104548475
            ],
            "passed_time": 0.02885139425,
            "remaining_time": 3.577572886
           },
           {
            "iteration": 8,
            "learn": [
             0.2862006293
            ],
            "passed_time": 0.03181954377,
            "remaining_time": 3.503685319
           },
           {
            "iteration": 9,
            "learn": [
             0.2625352987
            ],
            "passed_time": 0.03478397919,
            "remaining_time": 3.443613939
           },
           {
            "iteration": 10,
            "learn": [
             0.2440534465
            ],
            "passed_time": 0.03772637453,
            "remaining_time": 3.391944037
           },
           {
            "iteration": 11,
            "learn": [
             0.2192194282
            ],
            "passed_time": 0.04072832916,
            "remaining_time": 3.353299101
           },
           {
            "iteration": 12,
            "learn": [
             0.2028161791
            ],
            "passed_time": 0.0432068184,
            "remaining_time": 3.280394597
           },
           {
            "iteration": 13,
            "learn": [
             0.1915496148
            ],
            "passed_time": 0.04617302656,
            "remaining_time": 3.251900299
           },
           {
            "iteration": 14,
            "learn": [
             0.1737486776
            ],
            "passed_time": 0.04915396067,
            "remaining_time": 3.22777675
           },
           {
            "iteration": 15,
            "learn": [
             0.1584851413
            ],
            "passed_time": 0.05244225763,
            "remaining_time": 3.225198844
           },
           {
            "iteration": 16,
            "learn": [
             0.1483506605
            ],
            "passed_time": 0.0554168499,
            "remaining_time": 3.20439785
           },
           {
            "iteration": 17,
            "learn": [
             0.1375178189
            ],
            "passed_time": 0.05846732061,
            "remaining_time": 3.189717157
           },
           {
            "iteration": 18,
            "learn": [
             0.1304725732
            ],
            "passed_time": 0.06145226837,
            "remaining_time": 3.172877646
           },
           {
            "iteration": 19,
            "learn": [
             0.1194881015
            ],
            "passed_time": 0.06444623116,
            "remaining_time": 3.157865327
           },
           {
            "iteration": 20,
            "learn": [
             0.113297153
            ],
            "passed_time": 0.06771051485,
            "remaining_time": 3.156599716
           },
           {
            "iteration": 21,
            "learn": [
             0.1082144165
            ],
            "passed_time": 0.07091174061,
            "remaining_time": 3.152349196
           },
           {
            "iteration": 22,
            "learn": [
             0.09994774712
            ],
            "passed_time": 0.07388918153,
            "remaining_time": 3.138683929
           },
           {
            "iteration": 23,
            "learn": [
             0.09259449429
            ],
            "passed_time": 0.07684825375,
            "remaining_time": 3.125162319
           },
           {
            "iteration": 24,
            "learn": [
             0.08664408366
            ],
            "passed_time": 0.08023951378,
            "remaining_time": 3.129341038
           },
           {
            "iteration": 25,
            "learn": [
             0.08360854255
            ],
            "passed_time": 0.08533081408,
            "remaining_time": 3.196623574
           },
           {
            "iteration": 26,
            "learn": [
             0.07789195591
            ],
            "passed_time": 0.08890854929,
            "remaining_time": 3.204000684
           },
           {
            "iteration": 27,
            "learn": [
             0.07461787754
            ],
            "passed_time": 0.09192029304,
            "remaining_time": 3.190947316
           },
           {
            "iteration": 28,
            "learn": [
             0.06981737773
            ],
            "passed_time": 0.09671365234,
            "remaining_time": 3.238239877
           },
           {
            "iteration": 29,
            "learn": [
             0.06782173581
            ],
            "passed_time": 0.09973911432,
            "remaining_time": 3.22489803
           },
           {
            "iteration": 30,
            "learn": [
             0.06371861776
            ],
            "passed_time": 0.1028916072,
            "remaining_time": 3.216192496
           },
           {
            "iteration": 31,
            "learn": [
             0.06171911452
            ],
            "passed_time": 0.1059752553,
            "remaining_time": 3.205751472
           },
           {
            "iteration": 32,
            "learn": [
             0.05952484979
            ],
            "passed_time": 0.1089636826,
            "remaining_time": 3.192966093
           },
           {
            "iteration": 33,
            "learn": [
             0.05617278205
            ],
            "passed_time": 0.1120182756,
            "remaining_time": 3.182636889
           },
           {
            "iteration": 34,
            "learn": [
             0.05319131639
            ],
            "passed_time": 0.1171748988,
            "remaining_time": 3.230679354
           },
           {
            "iteration": 35,
            "learn": [
             0.05058176253
            ],
            "passed_time": 0.1209288792,
            "remaining_time": 3.238206654
           },
           {
            "iteration": 36,
            "learn": [
             0.04804784987
            ],
            "passed_time": 0.1239894954,
            "remaining_time": 3.227077947
           },
           {
            "iteration": 37,
            "learn": [
             0.0456947369
            ],
            "passed_time": 0.1274411106,
            "remaining_time": 3.226272327
           },
           {
            "iteration": 38,
            "learn": [
             0.04355711619
            ],
            "passed_time": 0.1306615914,
            "remaining_time": 3.219635625
           },
           {
            "iteration": 39,
            "learn": [
             0.04166600121
            ],
            "passed_time": 0.1337199926,
            "remaining_time": 3.209279823
           },
           {
            "iteration": 40,
            "learn": [
             0.03994222853
            ],
            "passed_time": 0.1367797529,
            "remaining_time": 3.199311782
           },
           {
            "iteration": 41,
            "learn": [
             0.03899870978
            ],
            "passed_time": 0.1401413824,
            "remaining_time": 3.196558198
           },
           {
            "iteration": 42,
            "learn": [
             0.03773320092
            ],
            "passed_time": 0.1433662846,
            "remaining_time": 3.190733357
           },
           {
            "iteration": 43,
            "learn": [
             0.0365707567
            ],
            "passed_time": 0.1467810652,
            "remaining_time": 3.189152234
           },
           {
            "iteration": 44,
            "learn": [
             0.03521577411
            ],
            "passed_time": 0.1498221022,
            "remaining_time": 3.179557947
           },
           {
            "iteration": 45,
            "learn": [
             0.03395343992
            ],
            "passed_time": 0.1528100341,
            "remaining_time": 3.169147228
           },
           {
            "iteration": 46,
            "learn": [
             0.03287535985
            ],
            "passed_time": 0.1558130996,
            "remaining_time": 3.159359233
           },
           {
            "iteration": 47,
            "learn": [
             0.03176430172
            ],
            "passed_time": 0.1588690485,
            "remaining_time": 3.150902796
           },
           {
            "iteration": 48,
            "learn": [
             0.03120756785
            ],
            "passed_time": 0.1625509573,
            "remaining_time": 3.154815517
           },
           {
            "iteration": 49,
            "learn": [
             0.03057551066
            ],
            "passed_time": 0.1658365101,
            "remaining_time": 3.150893692
           },
           {
            "iteration": 50,
            "learn": [
             0.02969792684
            ],
            "passed_time": 0.1688108147,
            "remaining_time": 3.141205159
           },
           {
            "iteration": 51,
            "learn": [
             0.02884694841
            ],
            "passed_time": 0.1717126508,
            "remaining_time": 3.13045371
           },
           {
            "iteration": 52,
            "learn": [
             0.02838838789
            ],
            "passed_time": 0.1746994167,
            "remaining_time": 3.121515993
           },
           {
            "iteration": 53,
            "learn": [
             0.02756922404
            ],
            "passed_time": 0.1787292503,
            "remaining_time": 3.131071681
           },
           {
            "iteration": 54,
            "learn": [
             0.02700593736
            ],
            "passed_time": 0.1820041099,
            "remaining_time": 3.127161525
           },
           {
            "iteration": 55,
            "learn": [
             0.02657518811
            ],
            "passed_time": 0.1851504959,
            "remaining_time": 3.12110836
           },
           {
            "iteration": 56,
            "learn": [
             0.02594556385
            ],
            "passed_time": 0.1880909813,
            "remaining_time": 3.111750796
           },
           {
            "iteration": 57,
            "learn": [
             0.02530481974
            ],
            "passed_time": 0.1926527975,
            "remaining_time": 3.12894716
           },
           {
            "iteration": 58,
            "learn": [
             0.02499345144
            ],
            "passed_time": 0.1959761532,
            "remaining_time": 3.125653563
           },
           {
            "iteration": 59,
            "learn": [
             0.02434546153
            ],
            "passed_time": 0.1998010238,
            "remaining_time": 3.13021604
           },
           {
            "iteration": 60,
            "learn": [
             0.02405245463
            ],
            "passed_time": 0.2032730005,
            "remaining_time": 3.12907127
           },
           {
            "iteration": 61,
            "learn": [
             0.02357576582
            ],
            "passed_time": 0.2063255467,
            "remaining_time": 3.121505851
           },
           {
            "iteration": 62,
            "learn": [
             0.02305636724
            ],
            "passed_time": 0.2094934709,
            "remaining_time": 3.115799719
           },
           {
            "iteration": 63,
            "learn": [
             0.02259132385
            ],
            "passed_time": 0.2126453625,
            "remaining_time": 3.109938426
           },
           {
            "iteration": 64,
            "learn": [
             0.02222143385
            ],
            "passed_time": 0.2162769906,
            "remaining_time": 3.111061326
           },
           {
            "iteration": 65,
            "learn": [
             0.02178070916
            ],
            "passed_time": 0.2192227405,
            "remaining_time": 3.102333933
           },
           {
            "iteration": 66,
            "learn": [
             0.02132604811
            ],
            "passed_time": 0.2222232842,
            "remaining_time": 3.094542151
           },
           {
            "iteration": 67,
            "learn": [
             0.02104535845
            ],
            "passed_time": 0.2251359149,
            "remaining_time": 3.085686363
           },
           {
            "iteration": 68,
            "learn": [
             0.02068908479
            ],
            "passed_time": 0.2280814434,
            "remaining_time": 3.077446722
           },
           {
            "iteration": 69,
            "learn": [
             0.02044901742
            ],
            "passed_time": 0.2310398293,
            "remaining_time": 3.06952916
           },
           {
            "iteration": 70,
            "learn": [
             0.0201914533
            ],
            "passed_time": 0.2352764517,
            "remaining_time": 3.078476389
           },
           {
            "iteration": 71,
            "learn": [
             0.01990545485
            ],
            "passed_time": 0.2404063635,
            "remaining_time": 3.098570907
           },
           {
            "iteration": 72,
            "learn": [
             0.01955376095
            ],
            "passed_time": 0.2433767794,
            "remaining_time": 3.090551705
           },
           {
            "iteration": 73,
            "learn": [
             0.01919552061
            ],
            "passed_time": 0.2463304743,
            "remaining_time": 3.082459719
           },
           {
            "iteration": 74,
            "learn": [
             0.01895597246
            ],
            "passed_time": 0.2511427487,
            "remaining_time": 3.097427234
           },
           {
            "iteration": 75,
            "learn": [
             0.01875021617
            ],
            "passed_time": 0.2559953382,
            "remaining_time": 3.112364374
           },
           {
            "iteration": 76,
            "learn": [
             0.0186062834
            ],
            "passed_time": 0.259274696,
            "remaining_time": 3.107929148
           },
           {
            "iteration": 77,
            "learn": [
             0.01831738154
            ],
            "passed_time": 0.2622566674,
            "remaining_time": 3.100008299
           },
           {
            "iteration": 78,
            "learn": [
             0.01812504662
            ],
            "passed_time": 0.2671919799,
            "remaining_time": 3.114984981
           },
           {
            "iteration": 79,
            "learn": [
             0.01796761407
            ],
            "passed_time": 0.2703088249,
            "remaining_time": 3.108551486
           },
           {
            "iteration": 80,
            "learn": [
             0.0177665986
            ],
            "passed_time": 0.2733693788,
            "remaining_time": 3.101561224
           },
           {
            "iteration": 81,
            "learn": [
             0.01754200088
            ],
            "passed_time": 0.276555995,
            "remaining_time": 3.09607809
           },
           {
            "iteration": 82,
            "learn": [
             0.01736544927
            ],
            "passed_time": 0.279539515,
            "remaining_time": 3.088406449
           },
           {
            "iteration": 83,
            "learn": [
             0.01722527822
            ],
            "passed_time": 0.2827148611,
            "remaining_time": 3.082938248
           },
           {
            "iteration": 84,
            "learn": [
             0.01706830978
            ],
            "passed_time": 0.2856156936,
            "remaining_time": 3.074568937
           },
           {
            "iteration": 85,
            "learn": [
             0.01689984745
            ],
            "passed_time": 0.2887249718,
            "remaining_time": 3.068542142
           },
           {
            "iteration": 86,
            "learn": [
             0.01667974684
            ],
            "passed_time": 0.2919822127,
            "remaining_time": 3.064135175
           },
           {
            "iteration": 87,
            "learn": [
             0.01654245377
            ],
            "passed_time": 0.2949273099,
            "remaining_time": 3.056519394
           },
           {
            "iteration": 88,
            "learn": [
             0.01641798549
            ],
            "passed_time": 0.2979621283,
            "remaining_time": 3.049926954
           },
           {
            "iteration": 89,
            "learn": [
             0.01630567339
            ],
            "passed_time": 0.3012573207,
            "remaining_time": 3.046046243
           },
           {
            "iteration": 90,
            "learn": [
             0.01619145393
            ],
            "passed_time": 0.3042194921,
            "remaining_time": 3.038851849
           },
           {
            "iteration": 91,
            "learn": [
             0.01616352505
            ],
            "passed_time": 0.3070614484,
            "remaining_time": 3.030562991
           },
           {
            "iteration": 92,
            "learn": [
             0.0160547426
            ],
            "passed_time": 0.3101200487,
            "remaining_time": 3.024504131
           },
           {
            "iteration": 93,
            "learn": [
             0.01591762543
            ],
            "passed_time": 0.3130192503,
            "remaining_time": 3.016972774
           },
           {
            "iteration": 94,
            "learn": [
             0.01581231223
            ],
            "passed_time": 0.3159607852,
            "remaining_time": 3.009942217
           },
           {
            "iteration": 95,
            "learn": [
             0.01571500566
            ],
            "passed_time": 0.3188729781,
            "remaining_time": 3.002720544
           },
           {
            "iteration": 96,
            "learn": [
             0.01555522283
            ],
            "passed_time": 0.3217672856,
            "remaining_time": 2.995421226
           },
           {
            "iteration": 97,
            "learn": [
             0.01544982486
            ],
            "passed_time": 0.3248527341,
            "remaining_time": 2.989971084
           },
           {
            "iteration": 98,
            "learn": [
             0.01535866949
            ],
            "passed_time": 0.3279035303,
            "remaining_time": 2.984253341
           },
           {
            "iteration": 99,
            "learn": [
             0.01517905765
            ],
            "passed_time": 0.3311759808,
            "remaining_time": 2.980583828
           },
           {
            "iteration": 100,
            "learn": [
             0.01510662397
            ],
            "passed_time": 0.3340672156,
            "remaining_time": 2.973528978
           },
           {
            "iteration": 101,
            "learn": [
             0.01501194
            ],
            "passed_time": 0.3370234669,
            "remaining_time": 2.967128169
           },
           {
            "iteration": 102,
            "learn": [
             0.01490326352
            ],
            "passed_time": 0.3402453477,
            "remaining_time": 2.963107543
           },
           {
            "iteration": 103,
            "learn": [
             0.01483670447
            ],
            "passed_time": 0.3432735261,
            "remaining_time": 2.957433455
           },
           {
            "iteration": 104,
            "learn": [
             0.0147931046
            ],
            "passed_time": 0.3462958976,
            "remaining_time": 2.95176027
           },
           {
            "iteration": 105,
            "learn": [
             0.01468189875
            ],
            "passed_time": 0.3492429966,
            "remaining_time": 2.945502254
           },
           {
            "iteration": 106,
            "learn": [
             0.01457488802
            ],
            "passed_time": 0.3521895606,
            "remaining_time": 2.93930166
           },
           {
            "iteration": 107,
            "learn": [
             0.01448906581
            ],
            "passed_time": 0.3550421947,
            "remaining_time": 2.932385534
           },
           {
            "iteration": 108,
            "learn": [
             0.014426349
            ],
            "passed_time": 0.3579097375,
            "remaining_time": 2.925665836
           },
           {
            "iteration": 109,
            "learn": [
             0.01434894668
            ],
            "passed_time": 0.3611847935,
            "remaining_time": 2.922313329
           },
           {
            "iteration": 110,
            "learn": [
             0.01429655605
            ],
            "passed_time": 0.3645515358,
            "remaining_time": 2.919696534
           },
           {
            "iteration": 111,
            "learn": [
             0.01426973661
            ],
            "passed_time": 0.3677285805,
            "remaining_time": 2.915562317
           },
           {
            "iteration": 112,
            "learn": [
             0.01416562822
            ],
            "passed_time": 0.37068359,
            "remaining_time": 2.909702162
           },
           {
            "iteration": 113,
            "learn": [
             0.01407472505
            ],
            "passed_time": 0.3735806147,
            "remaining_time": 2.903442322
           },
           {
            "iteration": 114,
            "learn": [
             0.01394831022
            ],
            "passed_time": 0.3842747275,
            "remaining_time": 2.957244642
           },
           {
            "iteration": 115,
            "learn": [
             0.01391489983
            ],
            "passed_time": 0.3913587349,
            "remaining_time": 2.982423463
           },
           {
            "iteration": 116,
            "learn": [
             0.01390283161
            ],
            "passed_time": 0.3969799866,
            "remaining_time": 2.996011352
           },
           {
            "iteration": 117,
            "learn": [
             0.01384757996
            ],
            "passed_time": 0.4051699941,
            "remaining_time": 3.028474024
           },
           {
            "iteration": 118,
            "learn": [
             0.01375816451
            ],
            "passed_time": 0.4130948985,
            "remaining_time": 3.058290803
           },
           {
            "iteration": 119,
            "learn": [
             0.01370278147
            ],
            "passed_time": 0.4160946194,
            "remaining_time": 3.051360543
           },
           {
            "iteration": 120,
            "learn": [
             0.01366805394
            ],
            "passed_time": 0.4192862565,
            "remaining_time": 3.045889417
           },
           {
            "iteration": 121,
            "learn": [
             0.01356322712
            ],
            "passed_time": 0.4252810462,
            "remaining_time": 3.060629169
           },
           {
            "iteration": 122,
            "learn": [
             0.01354137527
            ],
            "passed_time": 0.4283267124,
            "remaining_time": 3.054004283
           },
           {
            "iteration": 123,
            "learn": [
             0.01346647051
            ],
            "passed_time": 0.4312598177,
            "remaining_time": 3.046641938
           },
           {
            "iteration": 124,
            "learn": [
             0.01341439565
            ],
            "passed_time": 0.4341659434,
            "remaining_time": 3.039161604
           },
           {
            "iteration": 125,
            "learn": [
             0.01334661484
            ],
            "passed_time": 0.4370909146,
            "remaining_time": 3.031884598
           },
           {
            "iteration": 126,
            "learn": [
             0.01327448527
            ],
            "passed_time": 0.4400070244,
            "remaining_time": 3.024615215
           },
           {
            "iteration": 127,
            "learn": [
             0.01320659637
            ],
            "passed_time": 0.4429245869,
            "remaining_time": 3.017423748
           },
           {
            "iteration": 128,
            "learn": [
             0.01318412357
            ],
            "passed_time": 0.4458825741,
            "remaining_time": 3.010571489
           },
           {
            "iteration": 129,
            "learn": [
             0.01317241669
            ],
            "passed_time": 0.448812364,
            "remaining_time": 3.003590436
           },
           {
            "iteration": 130,
            "learn": [
             0.01310100132
            ],
            "passed_time": 0.4517072137,
            "remaining_time": 2.996439456
           },
           {
            "iteration": 131,
            "learn": [
             0.01304156515
            ],
            "passed_time": 0.4546149512,
            "remaining_time": 2.989437709
           },
           {
            "iteration": 132,
            "learn": [
             0.01294958009
            ],
            "passed_time": 0.457817457,
            "remaining_time": 2.984419062
           },
           {
            "iteration": 133,
            "learn": [
             0.01290564325
            ],
            "passed_time": 0.4600285321,
            "remaining_time": 2.973020215
           },
           {
            "iteration": 134,
            "learn": [
             0.0128582308
            ],
            "passed_time": 0.4629002268,
            "remaining_time": 2.965990342
           },
           {
            "iteration": 135,
            "learn": [
             0.0128176509
            ],
            "passed_time": 0.4658196234,
            "remaining_time": 2.959324666
           },
           {
            "iteration": 136,
            "learn": [
             0.01278766208
            ],
            "passed_time": 0.4687097645,
            "remaining_time": 2.952529392
           },
           {
            "iteration": 137,
            "learn": [
             0.01273433367
            ],
            "passed_time": 0.4715379494,
            "remaining_time": 2.945403713
           },
           {
            "iteration": 138,
            "learn": [
             0.0126053132
            ],
            "passed_time": 0.4744137505,
            "remaining_time": 2.938634814
           },
           {
            "iteration": 139,
            "learn": [
             0.01251386113
            ],
            "passed_time": 0.4772982802,
            "remaining_time": 2.93197515
           },
           {
            "iteration": 140,
            "learn": [
             0.01242586454
            ],
            "passed_time": 0.4802277664,
            "remaining_time": 2.925642917
           },
           {
            "iteration": 141,
            "learn": [
             0.01239463488
            ],
            "passed_time": 0.4832053946,
            "remaining_time": 2.919649497
           },
           {
            "iteration": 142,
            "learn": [
             0.0123344379
            ],
            "passed_time": 0.4862987554,
            "remaining_time": 2.914391842
           },
           {
            "iteration": 143,
            "learn": [
             0.01230682161
            ],
            "passed_time": 0.4892172261,
            "remaining_time": 2.908124622
           },
           {
            "iteration": 144,
            "learn": [
             0.0122787359
            ],
            "passed_time": 0.4920844458,
            "remaining_time": 2.901601387
           },
           {
            "iteration": 145,
            "learn": [
             0.0122618209
            ],
            "passed_time": 0.4958303552,
            "remaining_time": 2.900267968
           },
           {
            "iteration": 146,
            "learn": [
             0.01220543967
            ],
            "passed_time": 0.4990467701,
            "remaining_time": 2.895829217
           },
           {
            "iteration": 147,
            "learn": [
             0.01218556086
            ],
            "passed_time": 0.5025414132,
            "remaining_time": 2.893008676
           },
           {
            "iteration": 148,
            "learn": [
             0.01214933713
            ],
            "passed_time": 0.5055403087,
            "remaining_time": 2.887347669
           },
           {
            "iteration": 149,
            "learn": [
             0.01205029064
            ],
            "passed_time": 0.5085029573,
            "remaining_time": 2.881516758
           },
           {
            "iteration": 150,
            "learn": [
             0.0120264562
            ],
            "passed_time": 0.5115218143,
            "remaining_time": 2.87603987
           },
           {
            "iteration": 151,
            "learn": [
             0.01194031186
            ],
            "passed_time": 0.5144334345,
            "remaining_time": 2.869997056
           },
           {
            "iteration": 152,
            "learn": [
             0.01192909135
            ],
            "passed_time": 0.5179069835,
            "remaining_time": 2.86710598
           },
           {
            "iteration": 153,
            "learn": [
             0.01188624064
            ],
            "passed_time": 0.5208627548,
            "remaining_time": 2.861362926
           },
           {
            "iteration": 154,
            "learn": [
             0.01180657069
            ],
            "passed_time": 0.5239459765,
            "remaining_time": 2.856350646
           },
           {
            "iteration": 155,
            "learn": [
             0.01176931275
            ],
            "passed_time": 0.5268878487,
            "remaining_time": 2.850598361
           },
           {
            "iteration": 156,
            "learn": [
             0.01171007686
            ],
            "passed_time": 0.5298634223,
            "remaining_time": 2.845062834
           },
           {
            "iteration": 157,
            "learn": [
             0.0116251776
            ],
            "passed_time": 0.5328347491,
            "remaining_time": 2.839537081
           },
           {
            "iteration": 158,
            "learn": [
             0.01156766044
            ],
            "passed_time": 0.540851646,
            "remaining_time": 2.860731033
           },
           {
            "iteration": 159,
            "learn": [
             0.01154589759
            ],
            "passed_time": 0.5452181707,
            "remaining_time": 2.862395396
           },
           {
            "iteration": 160,
            "learn": [
             0.01151181539
            ],
            "passed_time": 0.5495596035,
            "remaining_time": 2.863854083
           },
           {
            "iteration": 161,
            "learn": [
             0.01145544794
            ],
            "passed_time": 0.5551835969,
            "remaining_time": 2.871875643
           },
           {
            "iteration": 162,
            "learn": [
             0.01135085424
            ],
            "passed_time": 0.5591523016,
            "remaining_time": 2.871229917
           },
           {
            "iteration": 163,
            "learn": [
             0.01130693436
            ],
            "passed_time": 0.5629648163,
            "remaining_time": 2.869747478
           },
           {
            "iteration": 164,
            "learn": [
             0.01125861274
            ],
            "passed_time": 0.5691091019,
            "remaining_time": 2.88003697
           },
           {
            "iteration": 165,
            "learn": [
             0.01119069417
            ],
            "passed_time": 0.5733322343,
            "remaining_time": 2.880476406
           },
           {
            "iteration": 166,
            "learn": [
             0.01118824217
            ],
            "passed_time": 0.5758231195,
            "remaining_time": 2.872219512
           },
           {
            "iteration": 167,
            "learn": [
             0.01112638685
            ],
            "passed_time": 0.5789104317,
            "remaining_time": 2.866984995
           },
           {
            "iteration": 168,
            "learn": [
             0.01103147719
            ],
            "passed_time": 0.5818332301,
            "remaining_time": 2.860966948
           },
           {
            "iteration": 169,
            "learn": [
             0.0110202429
            ],
            "passed_time": 0.5847280076,
            "remaining_time": 2.854848508
           },
           {
            "iteration": 170,
            "learn": [
             0.01099131266
            ],
            "passed_time": 0.5877022108,
            "remaining_time": 2.849152823
           },
           {
            "iteration": 171,
            "learn": [
             0.01093257586
            ],
            "passed_time": 0.5906020883,
            "remaining_time": 2.843130983
           },
           {
            "iteration": 172,
            "learn": [
             0.01086150699
            ],
            "passed_time": 0.5935741464,
            "remaining_time": 2.837490284
           },
           {
            "iteration": 173,
            "learn": [
             0.01081668006
            ],
            "passed_time": 0.5964207537,
            "remaining_time": 2.831284727
           },
           {
            "iteration": 174,
            "learn": [
             0.01078710556
            ],
            "passed_time": 0.5993208212,
            "remaining_time": 2.825369586
           },
           {
            "iteration": 175,
            "learn": [
             0.01072223134
            ],
            "passed_time": 0.6026891802,
            "remaining_time": 2.821681162
           },
           {
            "iteration": 176,
            "learn": [
             0.01068858041
            ],
            "passed_time": 0.6057099549,
            "remaining_time": 2.816380186
           },
           {
            "iteration": 177,
            "learn": [
             0.01065691206
            ],
            "passed_time": 0.6086900804,
            "remaining_time": 2.810917113
           },
           {
            "iteration": 178,
            "learn": [
             0.01060272429
            ],
            "passed_time": 0.6118231673,
            "remaining_time": 2.806183354
           },
           {
            "iteration": 179,
            "learn": [
             0.01056777318
            ],
            "passed_time": 0.6146723996,
            "remaining_time": 2.800174265
           },
           {
            "iteration": 180,
            "learn": [
             0.01052500619
            ],
            "passed_time": 0.6175795908,
            "remaining_time": 2.794462347
           },
           {
            "iteration": 181,
            "learn": [
             0.01049725427
            ],
            "passed_time": 0.6205239893,
            "remaining_time": 2.788948479
           },
           {
            "iteration": 182,
            "learn": [
             0.01044792069
            ],
            "passed_time": 0.6235282794,
            "remaining_time": 2.783730078
           },
           {
            "iteration": 183,
            "learn": [
             0.0104097271
            ],
            "passed_time": 0.626398574,
            "remaining_time": 2.777941502
           },
           {
            "iteration": 184,
            "learn": [
             0.01033892949
            ],
            "passed_time": 0.629312932,
            "remaining_time": 2.772378592
           },
           {
            "iteration": 185,
            "learn": [
             0.0102993181
            ],
            "passed_time": 0.632971737,
            "remaining_time": 2.770102118
           },
           {
            "iteration": 186,
            "learn": [
             0.01027430005
            ],
            "passed_time": 0.6359839917,
            "remaining_time": 2.764999921
           },
           {
            "iteration": 187,
            "learn": [
             0.01026719517
            ],
            "passed_time": 0.6389211084,
            "remaining_time": 2.759595426
           },
           {
            "iteration": 188,
            "learn": [
             0.01021615664
            ],
            "passed_time": 0.6423493508,
            "remaining_time": 2.756324463
           },
           {
            "iteration": 189,
            "learn": [
             0.01018939336
            ],
            "passed_time": 0.645292683,
            "remaining_time": 2.750984596
           },
           {
            "iteration": 190,
            "learn": [
             0.01014895121
            ],
            "passed_time": 0.6481763986,
            "remaining_time": 2.745417311
           },
           {
            "iteration": 191,
            "learn": [
             0.01012047132
            ],
            "passed_time": 0.6510801152,
            "remaining_time": 2.739962151
           },
           {
            "iteration": 192,
            "learn": [
             0.01007932875
            ],
            "passed_time": 0.6535326398,
            "remaining_time": 2.732646841
           },
           {
            "iteration": 193,
            "learn": [
             0.01004728741
            ],
            "passed_time": 0.6563775884,
            "remaining_time": 2.727012043
           },
           {
            "iteration": 194,
            "learn": [
             0.01002849367
            ],
            "passed_time": 0.6592692118,
            "remaining_time": 2.721598541
           },
           {
            "iteration": 195,
            "learn": [
             0.009973748525
            ],
            "passed_time": 0.6624205551,
            "remaining_time": 2.717276155
           },
           {
            "iteration": 196,
            "learn": [
             0.009944561852
            ],
            "passed_time": 0.6652836643,
            "remaining_time": 2.711790774
           },
           {
            "iteration": 197,
            "learn": [
             0.009923201667
            ],
            "passed_time": 0.6681211697,
            "remaining_time": 2.706228172
           },
           {
            "iteration": 198,
            "learn": [
             0.009869074292
            ],
            "passed_time": 0.671507482,
            "remaining_time": 2.702901975
           },
           {
            "iteration": 199,
            "learn": [
             0.009860712687
            ],
            "passed_time": 0.6745891383,
            "remaining_time": 2.698356553
           },
           {
            "iteration": 200,
            "learn": [
             0.009831174215
            ],
            "passed_time": 0.6775032299,
            "remaining_time": 2.693159605
           },
           {
            "iteration": 201,
            "learn": [
             0.009818109936
            ],
            "passed_time": 0.6805957603,
            "remaining_time": 2.688690182
           },
           {
            "iteration": 202,
            "learn": [
             0.009781937069
            ],
            "passed_time": 0.6834806318,
            "remaining_time": 2.683419032
           },
           {
            "iteration": 203,
            "learn": [
             0.009741761949
            ],
            "passed_time": 0.686390917,
            "remaining_time": 2.678270441
           },
           {
            "iteration": 204,
            "learn": [
             0.00970896403
            ],
            "passed_time": 0.6891984015,
            "remaining_time": 2.67274502
           },
           {
            "iteration": 205,
            "learn": [
             0.009660686917
            ],
            "passed_time": 0.6926513335,
            "remaining_time": 2.669733781
           },
           {
            "iteration": 206,
            "learn": [
             0.009627469381
            ],
            "passed_time": 0.6965064824,
            "remaining_time": 2.668259133
           },
           {
            "iteration": 207,
            "learn": [
             0.009620774587
            ],
            "passed_time": 0.6994830397,
            "remaining_time": 2.66341619
           },
           {
            "iteration": 208,
            "learn": [
             0.009577187432
            ],
            "passed_time": 0.7023302411,
            "remaining_time": 2.658101534
           },
           {
            "iteration": 209,
            "learn": [
             0.00954477946
            ],
            "passed_time": 0.7052394931,
            "remaining_time": 2.653043807
           },
           {
            "iteration": 210,
            "learn": [
             0.009527144962
            ],
            "passed_time": 0.7081036518,
            "remaining_time": 2.647837826
           },
           {
            "iteration": 211,
            "learn": [
             0.009484649234
            ],
            "passed_time": 0.7116603874,
            "remaining_time": 2.645228232
           },
           {
            "iteration": 212,
            "learn": [
             0.009425461027
            ],
            "passed_time": 0.7151408391,
            "remaining_time": 2.642327889
           },
           {
            "iteration": 213,
            "learn": [
             0.009381572935
            ],
            "passed_time": 0.7192988045,
            "remaining_time": 2.641910562
           },
           {
            "iteration": 214,
            "learn": [
             0.009369124307
            ],
            "passed_time": 0.7221926383,
            "remaining_time": 2.636842889
           },
           {
            "iteration": 215,
            "learn": [
             0.009348846012
            ],
            "passed_time": 0.7250937626,
            "remaining_time": 2.631821805
           },
           {
            "iteration": 216,
            "learn": [
             0.009315950606
            ],
            "passed_time": 0.7280113715,
            "remaining_time": 2.626879741
           },
           {
            "iteration": 217,
            "learn": [
             0.009287324482
            ],
            "passed_time": 0.7308651511,
            "remaining_time": 2.621727285
           },
           {
            "iteration": 218,
            "learn": [
             0.009238497416
            ],
            "passed_time": 0.7337510053,
            "remaining_time": 2.616710206
           },
           {
            "iteration": 219,
            "learn": [
             0.009208386739
            ],
            "passed_time": 0.7368769908,
            "remaining_time": 2.612563877
           },
           {
            "iteration": 220,
            "learn": [
             0.009196961721
            ],
            "passed_time": 0.7398516931,
            "remaining_time": 2.607893524
           },
           {
            "iteration": 221,
            "learn": [
             0.009174653159
            ],
            "passed_time": 0.7428195617,
            "remaining_time": 2.6032145
           },
           {
            "iteration": 222,
            "learn": [
             0.009112618764
            ],
            "passed_time": 0.7458845515,
            "remaining_time": 2.598889222
           },
           {
            "iteration": 223,
            "learn": [
             0.009102229012
            ],
            "passed_time": 0.748921814,
            "remaining_time": 2.594479141
           },
           {
            "iteration": 224,
            "learn": [
             0.009086464776
            ],
            "passed_time": 0.7519865461,
            "remaining_time": 2.590175881
           },
           {
            "iteration": 225,
            "learn": [
             0.009049241808
            ],
            "passed_time": 0.7549572952,
            "remaining_time": 2.58556171
           },
           {
            "iteration": 226,
            "learn": [
             0.009026173486
            ],
            "passed_time": 0.7583660994,
            "remaining_time": 2.582453722
           },
           {
            "iteration": 227,
            "learn": [
             0.008993337419
            ],
            "passed_time": 0.761231109,
            "remaining_time": 2.577501825
           },
           {
            "iteration": 228,
            "learn": [
             0.008964494069
            ],
            "passed_time": 0.7641127819,
            "remaining_time": 2.572624257
           },
           {
            "iteration": 229,
            "learn": [
             0.008936901093
            ],
            "passed_time": 0.7669773438,
            "remaining_time": 2.56770676
           },
           {
            "iteration": 230,
            "learn": [
             0.008905420303
            ],
            "passed_time": 0.7698470221,
            "remaining_time": 2.562824069
           },
           {
            "iteration": 231,
            "learn": [
             0.008883487913
            ],
            "passed_time": 0.7727098667,
            "remaining_time": 2.55793611
           },
           {
            "iteration": 232,
            "learn": [
             0.008870051702
            ],
            "passed_time": 0.7756317138,
            "remaining_time": 2.553259762
           },
           {
            "iteration": 233,
            "learn": [
             0.008847753207
            ],
            "passed_time": 0.7785438427,
            "remaining_time": 2.548566596
           },
           {
            "iteration": 234,
            "learn": [
             0.008805088467
            ],
            "passed_time": 0.7814653402,
            "remaining_time": 2.543919086
           },
           {
            "iteration": 235,
            "learn": [
             0.008777493371
            ],
            "passed_time": 0.7855825727,
            "remaining_time": 2.543157142
           },
           {
            "iteration": 236,
            "learn": [
             0.008762800958
            ],
            "passed_time": 0.7889294885,
            "remaining_time": 2.539886919
           },
           {
            "iteration": 237,
            "learn": [
             0.008750558959
            ],
            "passed_time": 0.7918519583,
            "remaining_time": 2.53525711
           },
           {
            "iteration": 238,
            "learn": [
             0.008728552394
            ],
            "passed_time": 0.7947705972,
            "remaining_time": 2.530629391
           },
           {
            "iteration": 239,
            "learn": [
             0.008715156979
            ],
            "passed_time": 0.7975950031,
            "remaining_time": 2.52571751
           },
           {
            "iteration": 240,
            "learn": [
             0.008687245581
            ],
            "passed_time": 0.8004830541,
            "remaining_time": 2.521023395
           },
           {
            "iteration": 241,
            "learn": [
             0.008677567376
            ],
            "passed_time": 0.8033852548,
            "remaining_time": 2.516388525
           },
           {
            "iteration": 242,
            "learn": [
             0.008660356734
            ],
            "passed_time": 0.8063197851,
            "remaining_time": 2.511868631
           },
           {
            "iteration": 243,
            "learn": [
             0.008617446158
            ],
            "passed_time": 0.8091542451,
            "remaining_time": 2.507051677
           },
           {
            "iteration": 244,
            "learn": [
             0.008601498074
            ],
            "passed_time": 0.8120506589,
            "remaining_time": 2.502441827
           },
           {
            "iteration": 245,
            "learn": [
             0.008563929134
            ],
            "passed_time": 0.8149353564,
            "remaining_time": 2.497809995
           },
           {
            "iteration": 246,
            "learn": [
             0.008537964821
            ],
            "passed_time": 0.8177752941,
            "remaining_time": 2.493055856
           },
           {
            "iteration": 247,
            "learn": [
             0.008531945546
            ],
            "passed_time": 0.8206489592,
            "remaining_time": 2.488419425
           },
           {
            "iteration": 248,
            "learn": [
             0.008520374828
            ],
            "passed_time": 0.8235944991,
            "remaining_time": 2.484013931
           },
           {
            "iteration": 249,
            "learn": [
             0.00848391215
            ],
            "passed_time": 0.8265769705,
            "remaining_time": 2.479730911
           },
           {
            "iteration": 250,
            "learn": [
             0.008463787503
            ],
            "passed_time": 0.8309561525,
            "remaining_time": 2.479626128
           },
           {
            "iteration": 251,
            "learn": [
             0.008440065914
            ],
            "passed_time": 0.8344341483,
            "remaining_time": 2.476812472
           },
           {
            "iteration": 252,
            "learn": [
             0.008417966101
            ],
            "passed_time": 0.8375524156,
            "remaining_time": 2.47293144
           },
           {
            "iteration": 253,
            "learn": [
             0.008412042194
            ],
            "passed_time": 0.8404584876,
            "remaining_time": 2.468433196
           },
           {
            "iteration": 254,
            "learn": [
             0.008389273749
            ],
            "passed_time": 0.8433847802,
            "remaining_time": 2.464006515
           },
           {
            "iteration": 255,
            "learn": [
             0.008370718426
            ],
            "passed_time": 0.8462617271,
            "remaining_time": 2.459448144
           },
           {
            "iteration": 256,
            "learn": [
             0.008352461391
            ],
            "passed_time": 0.8491614328,
            "remaining_time": 2.454968656
           },
           {
            "iteration": 257,
            "learn": [
             0.008339598974
            ],
            "passed_time": 0.8520217492,
            "remaining_time": 2.450388131
           },
           {
            "iteration": 258,
            "learn": [
             0.008325167232
            ],
            "passed_time": 0.8549007816,
            "remaining_time": 2.445874437
           },
           {
            "iteration": 259,
            "learn": [
             0.008318156666
            ],
            "passed_time": 0.8577204565,
            "remaining_time": 2.441204376
           },
           {
            "iteration": 260,
            "learn": [
             0.008295478821
            ],
            "passed_time": 0.8606446427,
            "remaining_time": 2.43684441
           },
           {
            "iteration": 261,
            "learn": [
             0.008252124786
            ],
            "passed_time": 0.8635101314,
            "remaining_time": 2.432330065
           },
           {
            "iteration": 262,
            "learn": [
             0.008225637012
            ],
            "passed_time": 0.8663689624,
            "remaining_time": 2.427809602
           },
           {
            "iteration": 263,
            "learn": [
             0.008218811883
            ],
            "passed_time": 0.8692700931,
            "remaining_time": 2.423419653
           },
           {
            "iteration": 264,
            "learn": [
             0.008192869292
            ],
            "passed_time": 0.8728230132,
            "remaining_time": 2.420848735
           },
           {
            "iteration": 265,
            "learn": [
             0.008177845213
            ],
            "passed_time": 0.8760113748,
            "remaining_time": 2.41726447
           },
           {
            "iteration": 266,
            "learn": [
             0.008144037459
            ],
            "passed_time": 0.878826197,
            "remaining_time": 2.412657687
           },
           {
            "iteration": 267,
            "learn": [
             0.008138320711
            ],
            "passed_time": 0.883160822,
            "remaining_time": 2.41221538
           },
           {
            "iteration": 268,
            "learn": [
             0.008101352056
            ],
            "passed_time": 0.8861469375,
            "remaining_time": 2.408079596
           },
           {
            "iteration": 269,
            "learn": [
             0.008066166772
            ],
            "passed_time": 0.8891386249,
            "remaining_time": 2.403967393
           },
           {
            "iteration": 270,
            "learn": [
             0.008053828345
            ],
            "passed_time": 0.8919651944,
            "remaining_time": 2.399419287
           },
           {
            "iteration": 271,
            "learn": [
             0.008022375637
            ],
            "passed_time": 0.8948626155,
            "remaining_time": 2.395073471
           },
           {
            "iteration": 272,
            "learn": [
             0.008011868795
            ],
            "passed_time": 0.8978205063,
            "remaining_time": 2.390899297
           },
           {
            "iteration": 273,
            "learn": [
             0.007983119753
            ],
            "passed_time": 0.9006832918,
            "remaining_time": 2.386482007
           },
           {
            "iteration": 274,
            "learn": [
             0.007969760895
            ],
            "passed_time": 0.9035339405,
            "remaining_time": 2.382044025
           },
           {
            "iteration": 275,
            "learn": [
             0.007946455744
            ],
            "passed_time": 0.9065125269,
            "remaining_time": 2.37795315
           },
           {
            "iteration": 276,
            "learn": [
             0.007901162042
            ],
            "passed_time": 0.9095232747,
            "remaining_time": 2.373954251
           },
           {
            "iteration": 277,
            "learn": [
             0.007881115807
            ],
            "passed_time": 0.912509798,
            "remaining_time": 2.369899547
           },
           {
            "iteration": 278,
            "learn": [
             0.007858815193
            ],
            "passed_time": 0.9156126193,
            "remaining_time": 2.366153041
           },
           {
            "iteration": 279,
            "learn": [
             0.007843263414
            ],
            "passed_time": 0.9184778762,
            "remaining_time": 2.361800253
           },
           {
            "iteration": 280,
            "learn": [
             0.007831775877
            ],
            "passed_time": 0.9214115842,
            "remaining_time": 2.3576332
           },
           {
            "iteration": 281,
            "learn": [
             0.007829709583
            ],
            "passed_time": 0.9251279935,
            "remaining_time": 2.355467728
           },
           {
            "iteration": 282,
            "learn": [
             0.007816969554
            ],
            "passed_time": 0.9283080388,
            "remaining_time": 2.351932381
           },
           {
            "iteration": 283,
            "learn": [
             0.007766888936
            ],
            "passed_time": 0.9312111808,
            "remaining_time": 2.347701428
           },
           {
            "iteration": 284,
            "learn": [
             0.007743008402
            ],
            "passed_time": 0.9340980855,
            "remaining_time": 2.343439057
           },
           {
            "iteration": 285,
            "learn": [
             0.00772626241
            ],
            "passed_time": 0.936998493,
            "remaining_time": 2.339220014
           },
           {
            "iteration": 286,
            "learn": [
             0.007699153688
            ],
            "passed_time": 0.9407114168,
            "remaining_time": 2.337028712
           },
           {
            "iteration": 287,
            "learn": [
             0.00769185808
            ],
            "passed_time": 0.9441784612,
            "remaining_time": 2.334218974
           },
           {
            "iteration": 288,
            "learn": [
             0.007649043401
            ],
            "passed_time": 0.9470771769,
            "remaining_time": 2.33000648
           },
           {
            "iteration": 289,
            "learn": [
             0.007621968587
            ],
            "passed_time": 0.9501160966,
            "remaining_time": 2.326146306
           },
           {
            "iteration": 290,
            "learn": [
             0.007594513893
            ],
            "passed_time": 0.9530754311,
            "remaining_time": 2.322097872
           },
           {
            "iteration": 291,
            "learn": [
             0.007557122972
            ],
            "passed_time": 0.9559627085,
            "remaining_time": 2.317882184
           },
           {
            "iteration": 292,
            "learn": [
             0.007548348109
            ],
            "passed_time": 0.9587974108,
            "remaining_time": 2.313548701
           },
           {
            "iteration": 293,
            "learn": [
             0.007539924516
            ],
            "passed_time": 0.9617977618,
            "remaining_time": 2.309623197
           },
           {
            "iteration": 294,
            "learn": [
             0.007509229448
            ],
            "passed_time": 0.9728783463,
            "remaining_time": 2.325014353
           },
           {
            "iteration": 295,
            "learn": [
             0.007485876083
            ],
            "passed_time": 0.9798639884,
            "remaining_time": 2.330487324
           },
           {
            "iteration": 296,
            "learn": [
             0.007468086349
            ],
            "passed_time": 0.9849580665,
            "remaining_time": 2.33139906
           },
           {
            "iteration": 297,
            "learn": [
             0.007439728843
            ],
            "passed_time": 0.9935866823,
            "remaining_time": 2.340596815
           },
           {
            "iteration": 298,
            "learn": [
             0.007415342861
            ],
            "passed_time": 0.9964834452,
            "remaining_time": 2.336237107
           },
           {
            "iteration": 299,
            "learn": [
             0.007407353719
            ],
            "passed_time": 0.9993866645,
            "remaining_time": 2.331902217
           },
           {
            "iteration": 300,
            "learn": [
             0.007397182782
            ],
            "passed_time": 1.002346157,
            "remaining_time": 2.32770752
           },
           {
            "iteration": 301,
            "learn": [
             0.007388905949
            ],
            "passed_time": 1.005560728,
            "remaining_time": 2.324110556
           },
           {
            "iteration": 302,
            "learn": [
             0.007363726298
            ],
            "passed_time": 1.008451542,
            "remaining_time": 2.319771369
           },
           {
            "iteration": 303,
            "learn": [
             0.007337040371
            ],
            "passed_time": 1.01156257,
            "remaining_time": 2.315945884
           },
           {
            "iteration": 304,
            "learn": [
             0.007324654791
            ],
            "passed_time": 1.014552282,
            "remaining_time": 2.311848642
           },
           {
            "iteration": 305,
            "learn": [
             0.007290814718
            ],
            "passed_time": 1.017565387,
            "remaining_time": 2.307811694
           },
           {
            "iteration": 306,
            "learn": [
             0.007272968292
            ],
            "passed_time": 1.020561353,
            "remaining_time": 2.303742728
           },
           {
            "iteration": 307,
            "learn": [
             0.007259140544
            ],
            "passed_time": 1.023547042,
            "remaining_time": 2.299657639
           },
           {
            "iteration": 308,
            "learn": [
             0.007216068904
            ],
            "passed_time": 1.026910201,
            "remaining_time": 2.296423783
           },
           {
            "iteration": 309,
            "learn": [
             0.007210997476
            ],
            "passed_time": 1.030053711,
            "remaining_time": 2.292700196
           },
           {
            "iteration": 310,
            "learn": [
             0.007196913825
            ],
            "passed_time": 1.033236622,
            "remaining_time": 2.289067629
           },
           {
            "iteration": 311,
            "learn": [
             0.0071835751
            ],
            "passed_time": 1.036191277,
            "remaining_time": 2.28493461
           },
           {
            "iteration": 312,
            "learn": [
             0.007167301178
            ],
            "passed_time": 1.039134656,
            "remaining_time": 2.280784372
           },
           {
            "iteration": 313,
            "learn": [
             0.007142326037
            ],
            "passed_time": 1.042222002,
            "remaining_time": 2.276956349
           },
           {
            "iteration": 314,
            "learn": [
             0.007132647302
            ],
            "passed_time": 1.045087269,
            "remaining_time": 2.272650093
           },
           {
            "iteration": 315,
            "learn": [
             0.007103687392
            ],
            "passed_time": 1.04795911,
            "remaining_time": 2.268367187
           },
           {
            "iteration": 316,
            "learn": [
             0.007088369264
            ],
            "passed_time": 1.050957451,
            "remaining_time": 2.264365737
           },
           {
            "iteration": 317,
            "learn": [
             0.007058183882
            ],
            "passed_time": 1.053866884,
            "remaining_time": 2.260179922
           },
           {
            "iteration": 318,
            "learn": [
             0.007036413617
            ],
            "passed_time": 1.056742361,
            "remaining_time": 2.255929617
           },
           {
            "iteration": 319,
            "learn": [
             0.007008367115
            ],
            "passed_time": 1.059921973,
            "remaining_time": 2.252334194
           },
           {
            "iteration": 320,
            "learn": [
             0.006974582142
            ],
            "passed_time": 1.062844176,
            "remaining_time": 2.248196872
           },
           {
            "iteration": 321,
            "learn": [
             0.006968473328
            ],
            "passed_time": 1.06564696,
            "remaining_time": 2.243815649
           },
           {
            "iteration": 322,
            "learn": [
             0.006955106523
            ],
            "passed_time": 1.068611983,
            "remaining_time": 2.239784249
           },
           {
            "iteration": 323,
            "learn": [
             0.006938213772
            ],
            "passed_time": 1.071424515,
            "remaining_time": 2.235441273
           },
           {
            "iteration": 324,
            "learn": [
             0.006917569902
            ],
            "passed_time": 1.074174957,
            "remaining_time": 2.230978757
           },
           {
            "iteration": 325,
            "learn": [
             0.006884375678
            ],
            "passed_time": 1.077031397,
            "remaining_time": 2.226745894
           },
           {
            "iteration": 326,
            "learn": [
             0.006857735316
            ],
            "passed_time": 1.080026339,
            "remaining_time": 2.222806501
           },
           {
            "iteration": 327,
            "learn": [
             0.006846940782
            ],
            "passed_time": 1.083006785,
            "remaining_time": 2.218843169
           },
           {
            "iteration": 328,
            "learn": [
             0.006826109356
            ],
            "passed_time": 1.087414031,
            "remaining_time": 2.21779579
           },
           {
            "iteration": 329,
            "learn": [
             0.006817306942
            ],
            "passed_time": 1.090394018,
            "remaining_time": 2.213830278
           },
           {
            "iteration": 330,
            "learn": [
             0.006805949741
            ],
            "passed_time": 1.093270896,
            "remaining_time": 2.209662324
           },
           {
            "iteration": 331,
            "learn": [
             0.006785070101
            ],
            "passed_time": 1.096263114,
            "remaining_time": 2.205734217
           },
           {
            "iteration": 332,
            "learn": [
             0.00676700645
            ],
            "passed_time": 1.099149068,
            "remaining_time": 2.201598883
           },
           {
            "iteration": 333,
            "learn": [
             0.006739792824
            ],
            "passed_time": 1.102704155,
            "remaining_time": 2.198805292
           },
           {
            "iteration": 334,
            "learn": [
             0.006723207898
            ],
            "passed_time": 1.110626916,
            "remaining_time": 2.20467731
           },
           {
            "iteration": 335,
            "learn": [
             0.006675341394
            ],
            "passed_time": 1.113767968,
            "remaining_time": 2.201017651
           },
           {
            "iteration": 336,
            "learn": [
             0.006642630895
            ],
            "passed_time": 1.11705957,
            "remaining_time": 2.197657254
           },
           {
            "iteration": 337,
            "learn": [
             0.006630278163
            ],
            "passed_time": 1.123664434,
            "remaining_time": 2.200786555
           },
           {
            "iteration": 338,
            "learn": [
             0.006624620226
            ],
            "passed_time": 1.128065602,
            "remaining_time": 2.199561543
           },
           {
            "iteration": 339,
            "learn": [
             0.006617129644
            ],
            "passed_time": 1.131064417,
            "remaining_time": 2.195595632
           },
           {
            "iteration": 340,
            "learn": [
             0.006588061651
            ],
            "passed_time": 1.133937882,
            "remaining_time": 2.191393151
           },
           {
            "iteration": 341,
            "learn": [
             0.006570710076
            ],
            "passed_time": 1.136843082,
            "remaining_time": 2.187259498
           },
           {
            "iteration": 342,
            "learn": [
             0.006553483009
            ],
            "passed_time": 1.140092815,
            "remaining_time": 2.183792942
           },
           {
            "iteration": 343,
            "learn": [
             0.006548089981
            ],
            "passed_time": 1.143823649,
            "remaining_time": 2.181245097
           },
           {
            "iteration": 344,
            "learn": [
             0.006518339581
            ],
            "passed_time": 1.147084692,
            "remaining_time": 2.177798473
           },
           {
            "iteration": 345,
            "learn": [
             0.006504414346
            ],
            "passed_time": 1.150150923,
            "remaining_time": 2.173984693
           },
           {
            "iteration": 346,
            "learn": [
             0.006498913235
            ],
            "passed_time": 1.153149708,
            "remaining_time": 2.170048298
           },
           {
            "iteration": 347,
            "learn": [
             0.006490658124
            ],
            "passed_time": 1.156081238,
            "remaining_time": 2.165991286
           },
           {
            "iteration": 348,
            "learn": [
             0.006481597688
            ],
            "passed_time": 1.159542818,
            "remaining_time": 2.16292944
           },
           {
            "iteration": 349,
            "learn": [
             0.006468624539
            ],
            "passed_time": 1.162760276,
            "remaining_time": 2.159411941
           },
           {
            "iteration": 350,
            "learn": [
             0.006462857988
            ],
            "passed_time": 1.165949247,
            "remaining_time": 2.155843479
           },
           {
            "iteration": 351,
            "learn": [
             0.006427338918
            ],
            "passed_time": 1.170134982,
            "remaining_time": 2.154112127
           },
           {
            "iteration": 352,
            "learn": [
             0.006407474942
            ],
            "passed_time": 1.173681245,
            "remaining_time": 2.151194804
           },
           {
            "iteration": 353,
            "learn": [
             0.006401445601
            ],
            "passed_time": 1.176691282,
            "remaining_time": 2.14729539
           },
           {
            "iteration": 354,
            "learn": [
             0.006388421588
            ],
            "passed_time": 1.179719924,
            "remaining_time": 2.143434791
           },
           {
            "iteration": 355,
            "learn": [
             0.006357707977
            ],
            "passed_time": 1.182738766,
            "remaining_time": 2.139561138
           },
           {
            "iteration": 356,
            "learn": [
             0.006347823673
            ],
            "passed_time": 1.186128511,
            "remaining_time": 2.136360316
           },
           {
            "iteration": 357,
            "learn": [
             0.006334234873
            ],
            "passed_time": 1.189061504,
            "remaining_time": 2.132339345
           },
           {
            "iteration": 358,
            "learn": [
             0.006301188469
            ],
            "passed_time": 1.192028008,
            "remaining_time": 2.128384271
           },
           {
            "iteration": 359,
            "learn": [
             0.006296837065
            ],
            "passed_time": 1.194926478,
            "remaining_time": 2.124313739
           },
           {
            "iteration": 360,
            "learn": [
             0.006264823808
            ],
            "passed_time": 1.197881114,
            "remaining_time": 2.120349119
           },
           {
            "iteration": 361,
            "learn": [
             0.006259326935
            ],
            "passed_time": 1.201907912,
            "remaining_time": 2.11827969
           },
           {
            "iteration": 362,
            "learn": [
             0.006245726479
            ],
            "passed_time": 1.2048862,
            "remaining_time": 2.11435953
           },
           {
            "iteration": 363,
            "learn": [
             0.006217477057
            ],
            "passed_time": 1.208421593,
            "remaining_time": 2.111417947
           },
           {
            "iteration": 364,
            "learn": [
             0.0062011279
            ],
            "passed_time": 1.211790653,
            "remaining_time": 2.108183739
           },
           {
            "iteration": 365,
            "learn": [
             0.006198730469
            ],
            "passed_time": 1.214910997,
            "remaining_time": 2.104517956
           },
           {
            "iteration": 366,
            "learn": [
             0.006182941861
            ],
            "passed_time": 1.218563823,
            "remaining_time": 2.10177357
           },
           {
            "iteration": 367,
            "learn": [
             0.006175822682
            ],
            "passed_time": 1.221600783,
            "remaining_time": 2.097966562
           },
           {
            "iteration": 368,
            "learn": [
             0.006171408759
            ],
            "passed_time": 1.224783786,
            "remaining_time": 2.094413466
           },
           {
            "iteration": 369,
            "learn": [
             0.006154309909
            ],
            "passed_time": 1.227727331,
            "remaining_time": 2.090454644
           },
           {
            "iteration": 370,
            "learn": [
             0.006142551634
            ],
            "passed_time": 1.230608676,
            "remaining_time": 2.086395841
           },
           {
            "iteration": 371,
            "learn": [
             0.006125846439
            ],
            "passed_time": 1.234176049,
            "remaining_time": 2.083501501
           },
           {
            "iteration": 372,
            "learn": [
             0.006118227641
            ],
            "passed_time": 1.237217247,
            "remaining_time": 2.079719071
           },
           {
            "iteration": 373,
            "learn": [
             0.006090302467
            ],
            "passed_time": 1.240146053,
            "remaining_time": 2.075752485
           },
           {
            "iteration": 374,
            "learn": [
             0.006084641351
            ],
            "passed_time": 1.244906431,
            "remaining_time": 2.074844052
           },
           {
            "iteration": 375,
            "learn": [
             0.006068058014
            ],
            "passed_time": 1.247848405,
            "remaining_time": 2.070897352
           },
           {
            "iteration": 376,
            "learn": [
             0.006041197247
            ],
            "passed_time": 1.251169548,
            "remaining_time": 2.067582568
           },
           {
            "iteration": 377,
            "learn": [
             0.006021754477
            ],
            "passed_time": 1.254938373,
            "remaining_time": 2.065004413
           },
           {
            "iteration": 378,
            "learn": [
             0.00601014826
            ],
            "passed_time": 1.258063799,
            "remaining_time": 2.06136575
           },
           {
            "iteration": 379,
            "learn": [
             0.005989524523
            ],
            "passed_time": 1.261696979,
            "remaining_time": 2.058558229
           },
           {
            "iteration": 380,
            "learn": [
             0.005985382928
            ],
            "passed_time": 1.264834041,
            "remaining_time": 2.054940344
           },
           {
            "iteration": 381,
            "learn": [
             0.005980991787
            ],
            "passed_time": 1.269222934,
            "remaining_time": 2.053350191
           },
           {
            "iteration": 382,
            "learn": [
             0.005959866842
            ],
            "passed_time": 1.272740252,
            "remaining_time": 2.050341346
           },
           {
            "iteration": 383,
            "learn": [
             0.005952018102
            ],
            "passed_time": 1.277351775,
            "remaining_time": 2.049085139
           },
           {
            "iteration": 384,
            "learn": [
             0.005943249596
            ],
            "passed_time": 1.281261247,
            "remaining_time": 2.046690044
           },
           {
            "iteration": 385,
            "learn": [
             0.005917367935
            ],
            "passed_time": 1.28431428,
            "remaining_time": 2.042924788
           },
           {
            "iteration": 386,
            "learn": [
             0.005895171695
            ],
            "passed_time": 1.287221082,
            "remaining_time": 2.038931585
           },
           {
            "iteration": 387,
            "learn": [
             0.005886208746
            ],
            "passed_time": 1.29037471,
            "remaining_time": 2.035333305
           },
           {
            "iteration": 388,
            "learn": [
             0.005879772504
            ],
            "passed_time": 1.293267608,
            "remaining_time": 2.031327785
           },
           {
            "iteration": 389,
            "learn": [
             0.005862346225
            ],
            "passed_time": 1.296267523,
            "remaining_time": 2.027495356
           },
           {
            "iteration": 390,
            "learn": [
             0.005830295351
            ],
            "passed_time": 1.299290198,
            "remaining_time": 2.023702636
           },
           {
            "iteration": 391,
            "learn": [
             0.005805237558
            ],
            "passed_time": 1.302296869,
            "remaining_time": 2.019889021
           },
           {
            "iteration": 392,
            "learn": [
             0.005797815853
            ],
            "passed_time": 1.305194071,
            "remaining_time": 2.015910435
           },
           {
            "iteration": 393,
            "learn": [
             0.005792285071
            ],
            "passed_time": 1.308093026,
            "remaining_time": 2.011940035
           },
           {
            "iteration": 394,
            "learn": [
             0.005776431825
            ],
            "passed_time": 1.311423744,
            "remaining_time": 2.008636367
           },
           {
            "iteration": 395,
            "learn": [
             0.005775993135
            ],
            "passed_time": 1.313678517,
            "remaining_time": 2.003691475
           },
           {
            "iteration": 396,
            "learn": [
             0.005771350331
            ],
            "passed_time": 1.316478688,
            "remaining_time": 1.999588537
           },
           {
            "iteration": 397,
            "learn": [
             0.0057692443
            ],
            "passed_time": 1.31997998,
            "remaining_time": 1.996552633
           },
           {
            "iteration": 398,
            "learn": [
             0.005765083631
            ],
            "passed_time": 1.323405031,
            "remaining_time": 1.993399558
           },
           {
            "iteration": 399,
            "learn": [
             0.005761469735
            ],
            "passed_time": 1.327105821,
            "remaining_time": 1.990658731
           },
           {
            "iteration": 400,
            "learn": [
             0.005748381615
            ],
            "passed_time": 1.330150481,
            "remaining_time": 1.986933012
           },
           {
            "iteration": 401,
            "learn": [
             0.00574403233
            ],
            "passed_time": 1.333085215,
            "remaining_time": 1.983047161
           },
           {
            "iteration": 402,
            "learn": [
             0.00573029942
            ],
            "passed_time": 1.335994889,
            "remaining_time": 1.979128905
           },
           {
            "iteration": 403,
            "learn": [
             0.005726577441
            ],
            "passed_time": 1.339733539,
            "remaining_time": 1.976438588
           },
           {
            "iteration": 404,
            "learn": [
             0.005706656774
            ],
            "passed_time": 1.34333067,
            "remaining_time": 1.973535182
           },
           {
            "iteration": 405,
            "learn": [
             0.005702788035
            ],
            "passed_time": 1.346245836,
            "remaining_time": 1.969630607
           },
           {
            "iteration": 406,
            "learn": [
             0.00568877697
            ],
            "passed_time": 1.349339632,
            "remaining_time": 1.965991159
           },
           {
            "iteration": 407,
            "learn": [
             0.005671635204
            ],
            "passed_time": 1.352510678,
            "remaining_time": 1.962466474
           },
           {
            "iteration": 408,
            "learn": [
             0.005663541158
            ],
            "passed_time": 1.355511431,
            "remaining_time": 1.958697446
           },
           {
            "iteration": 409,
            "learn": [
             0.005658157667
            ],
            "passed_time": 1.360012863,
            "remaining_time": 1.95709168
           },
           {
            "iteration": 410,
            "learn": [
             0.005635882484
            ],
            "passed_time": 1.363002177,
            "remaining_time": 1.953304822
           },
           {
            "iteration": 411,
            "learn": [
             0.005624634425
            ],
            "passed_time": 1.365947829,
            "remaining_time": 1.949459523
           },
           {
            "iteration": 412,
            "learn": [
             0.005624634955
            ],
            "passed_time": 1.368569376,
            "remaining_time": 1.945157926
           },
           {
            "iteration": 413,
            "learn": [
             0.005610156589
            ],
            "passed_time": 1.372105958,
            "remaining_time": 1.942159641
           },
           {
            "iteration": 414,
            "learn": [
             0.005602068371
            ],
            "passed_time": 1.375713256,
            "remaining_time": 1.939258445
           },
           {
            "iteration": 415,
            "learn": [
             0.005594216453
            ],
            "passed_time": 1.378838724,
            "remaining_time": 1.935677439
           },
           {
            "iteration": 416,
            "learn": [
             0.005580622885
            ],
            "passed_time": 1.381744746,
            "remaining_time": 1.931791815
           },
           {
            "iteration": 417,
            "learn": [
             0.005578103065
            ],
            "passed_time": 1.386125094,
            "remaining_time": 1.929963648
           },
           {
            "iteration": 418,
            "learn": [
             0.005567830404
            ],
            "passed_time": 1.393805957,
            "remaining_time": 1.932699908
           },
           {
            "iteration": 419,
            "learn": [
             0.005560987261
            ],
            "passed_time": 1.402849662,
            "remaining_time": 1.937268581
           },
           {
            "iteration": 420,
            "learn": [
             0.005556990306
            ],
            "passed_time": 1.410114596,
            "remaining_time": 1.939326249
           },
           {
            "iteration": 421,
            "learn": [
             0.005551596748
            ],
            "passed_time": 1.414760525,
            "remaining_time": 1.937752567
           },
           {
            "iteration": 422,
            "learn": [
             0.00554743131
            ],
            "passed_time": 1.417751566,
            "remaining_time": 1.933906982
           },
           {
            "iteration": 423,
            "learn": [
             0.005543368128
            ],
            "passed_time": 1.420847371,
            "remaining_time": 1.930207749
           },
           {
            "iteration": 424,
            "learn": [
             0.005531464153
            ],
            "passed_time": 1.423795499,
            "remaining_time": 1.926311557
           },
           {
            "iteration": 425,
            "learn": [
             0.005524810155
            ],
            "passed_time": 1.427321575,
            "remaining_time": 1.923198554
           },
           {
            "iteration": 426,
            "learn": [
             0.005509273741
            ],
            "passed_time": 1.43122651,
            "remaining_time": 1.920592014
           },
           {
            "iteration": 427,
            "learn": [
             0.005506645838
            ],
            "passed_time": 1.434909301,
            "remaining_time": 1.917682524
           },
           {
            "iteration": 428,
            "learn": [
             0.005506600274
            ],
            "passed_time": 1.437615756,
            "remaining_time": 1.913469922
           },
           {
            "iteration": 429,
            "learn": [
             0.005503411823
            ],
            "passed_time": 1.440629562,
            "remaining_time": 1.909671745
           },
           {
            "iteration": 430,
            "learn": [
             0.005491233402
            ],
            "passed_time": 1.443608383,
            "remaining_time": 1.90583102
           },
           {
            "iteration": 431,
            "learn": [
             0.005485183928
            ],
            "passed_time": 1.446873969,
            "remaining_time": 1.902371329
           },
           {
            "iteration": 432,
            "learn": [
             0.005481449763
            ],
            "passed_time": 1.449967848,
            "remaining_time": 1.89868769
           },
           {
            "iteration": 433,
            "learn": [
             0.005481060876
            ],
            "passed_time": 1.452691569,
            "remaining_time": 1.894524028
           },
           {
            "iteration": 434,
            "learn": [
             0.005464164946
            ],
            "passed_time": 1.455809023,
            "remaining_time": 1.890878386
           },
           {
            "iteration": 435,
            "learn": [
             0.005451116562
            ],
            "passed_time": 1.458767797,
            "remaining_time": 1.887029903
           },
           {
            "iteration": 436,
            "learn": [
             0.005431979497
            ],
            "passed_time": 1.461650257,
            "remaining_time": 1.883087174
           },
           {
            "iteration": 437,
            "learn": [
             0.005428952641
            ],
            "passed_time": 1.464574661,
            "remaining_time": 1.879203104
           },
           {
            "iteration": 438,
            "learn": [
             0.005412766669
            ],
            "passed_time": 1.467427149,
            "remaining_time": 1.875231505
           },
           {
            "iteration": 439,
            "learn": [
             0.005403708352
            ],
            "passed_time": 1.470410647,
            "remaining_time": 1.871431732
           },
           {
            "iteration": 440,
            "learn": [
             0.00539124012
            ],
            "passed_time": 1.473348839,
            "remaining_time": 1.867578233
           },
           {
            "iteration": 441,
            "learn": [
             0.005379458533
            ],
            "passed_time": 1.47634214,
            "remaining_time": 1.863798448
           },
           {
            "iteration": 442,
            "learn": [
             0.005371095339
            ],
            "passed_time": 1.479246557,
            "remaining_time": 1.859910456
           },
           {
            "iteration": 443,
            "learn": [
             0.005364742809
            ],
            "passed_time": 1.482150978,
            "remaining_time": 1.856026901
           },
           {
            "iteration": 444,
            "learn": [
             0.005361324946
            ],
            "passed_time": 1.485211163,
            "remaining_time": 1.852342013
           },
           {
            "iteration": 445,
            "learn": [
             0.005344578425
            ],
            "passed_time": 1.489130605,
            "remaining_time": 1.849727254
           },
           {
            "iteration": 446,
            "learn": [
             0.005332051383
            ],
            "passed_time": 1.492762821,
            "remaining_time": 1.84675132
           },
           {
            "iteration": 447,
            "learn": [
             0.00532485644
            ],
            "passed_time": 1.49597602,
            "remaining_time": 1.843256167
           },
           {
            "iteration": 448,
            "learn": [
             0.005311529371
            ],
            "passed_time": 1.498904183,
            "remaining_time": 1.839412483
           },
           {
            "iteration": 449,
            "learn": [
             0.005310426288
            ],
            "passed_time": 1.501782585,
            "remaining_time": 1.835512048
           },
           {
            "iteration": 450,
            "learn": [
             0.005298493703
            ],
            "passed_time": 1.504829852,
            "remaining_time": 1.831821705
           },
           {
            "iteration": 451,
            "learn": [
             0.005295248032
            ],
            "passed_time": 1.507734611,
            "remaining_time": 1.827961431
           },
           {
            "iteration": 452,
            "learn": [
             0.005284088982
            ],
            "passed_time": 1.511055481,
            "remaining_time": 1.824607832
           },
           {
            "iteration": 453,
            "learn": [
             0.005278361638
            ],
            "passed_time": 1.514126646,
            "remaining_time": 1.820954072
           },
           {
            "iteration": 454,
            "learn": [
             0.005276234415
            ],
            "passed_time": 1.517398024,
            "remaining_time": 1.817542688
           },
           {
            "iteration": 455,
            "learn": [
             0.005271496243
            ],
            "passed_time": 1.520346066,
            "remaining_time": 1.813746184
           },
           {
            "iteration": 456,
            "learn": [
             0.005254708926
            ],
            "passed_time": 1.523556325,
            "remaining_time": 1.810264955
           },
           {
            "iteration": 457,
            "learn": [
             0.005251717038
            ],
            "passed_time": 1.526714161,
            "remaining_time": 1.806722872
           },
           {
            "iteration": 458,
            "learn": [
             0.005240701569
            ],
            "passed_time": 1.529744105,
            "remaining_time": 1.803031723
           },
           {
            "iteration": 459,
            "learn": [
             0.005237867567
            ],
            "passed_time": 1.532789889,
            "remaining_time": 1.799362043
           },
           {
            "iteration": 460,
            "learn": [
             0.005234684414
            ],
            "passed_time": 1.535920915,
            "remaining_time": 1.795794735
           },
           {
            "iteration": 461,
            "learn": [
             0.005216984219
            ],
            "passed_time": 1.538826872,
            "remaining_time": 1.791967223
           },
           {
            "iteration": 462,
            "learn": [
             0.005201642248
            ],
            "passed_time": 1.541780394,
            "remaining_time": 1.788198859
           },
           {
            "iteration": 463,
            "learn": [
             0.005201630063
            ],
            "passed_time": 1.544692381,
            "remaining_time": 1.784386027
           },
           {
            "iteration": 464,
            "learn": [
             0.005175645616
            ],
            "passed_time": 1.547991241,
            "remaining_time": 1.78102218
           },
           {
            "iteration": 465,
            "learn": [
             0.005162140528
            ],
            "passed_time": 1.551045042,
            "remaining_time": 1.777377795
           },
           {
            "iteration": 466,
            "learn": [
             0.005150797632
            ],
            "passed_time": 1.554577907,
            "remaining_time": 1.774282708
           },
           {
            "iteration": 467,
            "learn": [
             0.005148535834
            ],
            "passed_time": 1.557559046,
            "remaining_time": 1.770558573
           },
           {
            "iteration": 468,
            "learn": [
             0.005146854719
            ],
            "passed_time": 1.560472165,
            "remaining_time": 1.766760596
           },
           {
            "iteration": 469,
            "learn": [
             0.005142335892
            ],
            "passed_time": 1.563572918,
            "remaining_time": 1.763177971
           },
           {
            "iteration": 470,
            "learn": [
             0.00513958719
            ],
            "passed_time": 1.566549626,
            "remaining_time": 1.759458073
           },
           {
            "iteration": 471,
            "learn": [
             0.005135613547
            ],
            "passed_time": 1.570745475,
            "remaining_time": 1.757105108
           },
           {
            "iteration": 472,
            "learn": [
             0.005125292672
            ],
            "passed_time": 1.573934745,
            "remaining_time": 1.753622855
           },
           {
            "iteration": 473,
            "learn": [
             0.005109826194
            ],
            "passed_time": 1.576912688,
            "remaining_time": 1.749907329
           },
           {
            "iteration": 474,
            "learn": [
             0.005081590547
            ],
            "passed_time": 1.579940023,
            "remaining_time": 1.746249499
           },
           {
            "iteration": 475,
            "learn": [
             0.005067333645
            ],
            "passed_time": 1.583107028,
            "remaining_time": 1.742748073
           },
           {
            "iteration": 476,
            "learn": [
             0.005057137277
            ],
            "passed_time": 1.586661954,
            "remaining_time": 1.73967338
           },
           {
            "iteration": 477,
            "learn": [
             0.005048220423
            ],
            "passed_time": 1.589810574,
            "remaining_time": 1.73615297
           },
           {
            "iteration": 478,
            "learn": [
             0.005045367877
            ],
            "passed_time": 1.592833413,
            "remaining_time": 1.732497303
           },
           {
            "iteration": 479,
            "learn": [
             0.005042594274
            ],
            "passed_time": 1.59578913,
            "remaining_time": 1.728771557
           },
           {
            "iteration": 480,
            "learn": [
             0.005039434433
            ],
            "passed_time": 1.598953162,
            "remaining_time": 1.725273786
           },
           {
            "iteration": 481,
            "learn": [
             0.005030611886
            ],
            "passed_time": 1.601892717,
            "remaining_time": 1.721536156
           },
           {
            "iteration": 482,
            "learn": [
             0.005027878549
            ],
            "passed_time": 1.605037124,
            "remaining_time": 1.718021104
           },
           {
            "iteration": 483,
            "learn": [
             0.005018999312
            ],
            "passed_time": 1.607962717,
            "remaining_time": 1.714274301
           },
           {
            "iteration": 484,
            "learn": [
             0.004994017283
            ],
            "passed_time": 1.611352851,
            "remaining_time": 1.711024161
           },
           {
            "iteration": 485,
            "learn": [
             0.004987803565
            ],
            "passed_time": 1.614285915,
            "remaining_time": 1.707290042
           },
           {
            "iteration": 486,
            "learn": [
             0.004972721736
            ],
            "passed_time": 1.617173498,
            "remaining_time": 1.703511303
           },
           {
            "iteration": 487,
            "learn": [
             0.004970021778
            ],
            "passed_time": 1.620318658,
            "remaining_time": 1.700006461
           },
           {
            "iteration": 488,
            "learn": [
             0.004967416128
            ],
            "passed_time": 1.624067009,
            "remaining_time": 1.697133418
           },
           {
            "iteration": 489,
            "learn": [
             0.004943119685
            ],
            "passed_time": 1.627259272,
            "remaining_time": 1.693678018
           },
           {
            "iteration": 490,
            "learn": [
             0.004939669503
            ],
            "passed_time": 1.630424285,
            "remaining_time": 1.690195441
           },
           {
            "iteration": 491,
            "learn": [
             0.004926055272
            ],
            "passed_time": 1.633476881,
            "remaining_time": 1.68659808
           },
           {
            "iteration": 492,
            "learn": [
             0.00490480211
            ],
            "passed_time": 1.636563659,
            "remaining_time": 1.683038084
           },
           {
            "iteration": 493,
            "learn": [
             0.004900949266
            ],
            "passed_time": 1.639507942,
            "remaining_time": 1.679334046
           },
           {
            "iteration": 494,
            "learn": [
             0.004893033769
            ],
            "passed_time": 1.642498601,
            "remaining_time": 1.675680391
           },
           {
            "iteration": 495,
            "learn": [
             0.004890222549
            ],
            "passed_time": 1.645802817,
            "remaining_time": 1.672348024
           },
           {
            "iteration": 496,
            "learn": [
             0.004885708491
            ],
            "passed_time": 1.649716952,
            "remaining_time": 1.669633052
           },
           {
            "iteration": 497,
            "learn": [
             0.004877867169
            ],
            "passed_time": 1.652685303,
            "remaining_time": 1.665959884
           },
           {
            "iteration": 498,
            "learn": [
             0.004864474403
            ],
            "passed_time": 1.655631797,
            "remaining_time": 1.662267596
           },
           {
            "iteration": 499,
            "learn": [
             0.004864471224
            ],
            "passed_time": 1.657189048,
            "remaining_time": 1.657189048
           },
           {
            "iteration": 500,
            "learn": [
             0.004861546093
            ],
            "passed_time": 1.661812305,
            "remaining_time": 1.655178323
           },
           {
            "iteration": 501,
            "learn": [
             0.004853578144
            ],
            "passed_time": 1.66502282,
            "remaining_time": 1.651755706
           },
           {
            "iteration": 502,
            "learn": [
             0.004828326437
            ],
            "passed_time": 1.668491406,
            "remaining_time": 1.648588924
           },
           {
            "iteration": 503,
            "learn": [
             0.004825746748
            ],
            "passed_time": 1.671676005,
            "remaining_time": 1.645141465
           },
           {
            "iteration": 504,
            "learn": [
             0.00482574145
            ],
            "passed_time": 1.673237162,
            "remaining_time": 1.640103753
           },
           {
            "iteration": 505,
            "learn": [
             0.004822392994
            ],
            "passed_time": 1.676245634,
            "remaining_time": 1.636492774
           },
           {
            "iteration": 506,
            "learn": [
             0.004805491765
            ],
            "passed_time": 1.679888107,
            "remaining_time": 1.633500664
           },
           {
            "iteration": 507,
            "learn": [
             0.004785983827
            ],
            "passed_time": 1.683155313,
            "remaining_time": 1.630142547
           },
           {
            "iteration": 508,
            "learn": [
             0.004753165775
            ],
            "passed_time": 1.686759075,
            "remaining_time": 1.627109442
           },
           {
            "iteration": 509,
            "learn": [
             0.004753167894
            ],
            "passed_time": 1.689246988,
            "remaining_time": 1.623002008
           },
           {
            "iteration": 510,
            "learn": [
             0.004745717049
            ],
            "passed_time": 1.692278287,
            "remaining_time": 1.619420905
           },
           {
            "iteration": 511,
            "learn": [
             0.0047226376
            ],
            "passed_time": 1.695404027,
            "remaining_time": 1.615931963
           },
           {
            "iteration": 512,
            "learn": [
             0.004720211029
            ],
            "passed_time": 1.698577588,
            "remaining_time": 1.612489835
           },
           {
            "iteration": 513,
            "learn": [
             0.004706568718
            ],
            "passed_time": 1.703110493,
            "remaining_time": 1.610334045
           },
           {
            "iteration": 514,
            "learn": [
             0.004704258707
            ],
            "passed_time": 1.705762447,
            "remaining_time": 1.606397644
           },
           {
            "iteration": 515,
            "learn": [
             0.004704267714
            ],
            "passed_time": 1.707681958,
            "remaining_time": 1.601779201
           },
           {
            "iteration": 516,
            "learn": [
             0.004700123469
            ],
            "passed_time": 1.710770107,
            "remaining_time": 1.598262982
           },
           {
            "iteration": 517,
            "learn": [
             0.004692950779
            ],
            "passed_time": 1.713622807,
            "remaining_time": 1.59452933
           },
           {
            "iteration": 518,
            "learn": [
             0.004689189063
            ],
            "passed_time": 1.716753138,
            "remaining_time": 1.591056376
           },
           {
            "iteration": 519,
            "learn": [
             0.004672622681
            ],
            "passed_time": 1.71973048,
            "remaining_time": 1.58744352
           },
           {
            "iteration": 520,
            "learn": [
             0.004668782552
            ],
            "passed_time": 1.722692667,
            "remaining_time": 1.58381917
           },
           {
            "iteration": 521,
            "learn": [
             0.004664773941
            ],
            "passed_time": 1.725711933,
            "remaining_time": 1.580249624
           },
           {
            "iteration": 522,
            "learn": [
             0.004642898771
            ],
            "passed_time": 1.728695075,
            "remaining_time": 1.576649237
           },
           {
            "iteration": 523,
            "learn": [
             0.004628815121
            ],
            "passed_time": 1.731591474,
            "remaining_time": 1.572972407
           },
           {
            "iteration": 524,
            "learn": [
             0.004607915878
            ],
            "passed_time": 1.734526282,
            "remaining_time": 1.569333303
           },
           {
            "iteration": 525,
            "learn": [
             0.004605414073
            ],
            "passed_time": 1.737437942,
            "remaining_time": 1.565676016
           },
           {
            "iteration": 526,
            "learn": [
             0.004592514038
            ],
            "passed_time": 1.740354203,
            "remaining_time": 1.562025689
           },
           {
            "iteration": 527,
            "learn": [
             0.004589250353
            ],
            "passed_time": 1.743490431,
            "remaining_time": 1.558574779
           },
           {
            "iteration": 528,
            "learn": [
             0.004577922821
            ],
            "passed_time": 1.74639653,
            "remaining_time": 1.554920162
           },
           {
            "iteration": 529,
            "learn": [
             0.004554487864
            ],
            "passed_time": 1.749308448,
            "remaining_time": 1.551273529
           },
           {
            "iteration": 530,
            "learn": [
             0.004546207322
            ],
            "passed_time": 1.752228027,
            "remaining_time": 1.547636431
           },
           {
            "iteration": 531,
            "learn": [
             0.004538955688
            ],
            "passed_time": 1.755558963,
            "remaining_time": 1.5443639
           },
           {
            "iteration": 532,
            "learn": [
             0.004536831114
            ],
            "passed_time": 1.758591436,
            "remaining_time": 1.540829645
           },
           {
            "iteration": 533,
            "learn": [
             0.00453312291
            ],
            "passed_time": 1.761758643,
            "remaining_time": 1.537414846
           },
           {
            "iteration": 534,
            "learn": [
             0.004533111784
            ],
            "passed_time": 1.763335468,
            "remaining_time": 1.532618678
           },
           {
            "iteration": 535,
            "learn": [
             0.004526746538
            ],
            "passed_time": 1.766266878,
            "remaining_time": 1.529007148
           },
           {
            "iteration": 536,
            "learn": [
             0.004508883158
            ],
            "passed_time": 1.769145409,
            "remaining_time": 1.52535256
           },
           {
            "iteration": 537,
            "learn": [
             0.004489569664
            ],
            "passed_time": 1.772045081,
            "remaining_time": 1.52171901
           },
           {
            "iteration": 538,
            "learn": [
             0.004479036331
            ],
            "passed_time": 1.775161064,
            "remaining_time": 1.518273192
           },
           {
            "iteration": 539,
            "learn": [
             0.004470945464
            ],
            "passed_time": 1.778065116,
            "remaining_time": 1.514648062
           },
           {
            "iteration": 540,
            "learn": [
             0.004461304347
            ],
            "passed_time": 1.781038348,
            "remaining_time": 1.511084292
           },
           {
            "iteration": 541,
            "learn": [
             0.004442898168
            ],
            "passed_time": 1.784183868,
            "remaining_time": 1.507668287
           },
           {
            "iteration": 542,
            "learn": [
             0.004429075188
            ],
            "passed_time": 1.787168734,
            "remaining_time": 1.504118069
           },
           {
            "iteration": 543,
            "learn": [
             0.00442681392
            ],
            "passed_time": 1.790050459,
            "remaining_time": 1.500483473
           },
           {
            "iteration": 544,
            "learn": [
             0.004426804913
            ],
            "passed_time": 1.792409714,
            "remaining_time": 1.49641545
           },
           {
            "iteration": 545,
            "learn": [
             0.004405898518
            ],
            "passed_time": 1.795430205,
            "remaining_time": 1.492903503
           },
           {
            "iteration": 546,
            "learn": [
             0.004394809405
            ],
            "passed_time": 1.798236099,
            "remaining_time": 1.489215636
           },
           {
            "iteration": 547,
            "learn": [
             0.004374428855
            ],
            "passed_time": 1.801314467,
            "remaining_time": 1.485755728
           },
           {
            "iteration": 548,
            "learn": [
             0.004372098976
            ],
            "passed_time": 1.804452177,
            "remaining_time": 1.482345959
           },
           {
            "iteration": 549,
            "learn": [
             0.004369350539
            ],
            "passed_time": 1.807358054,
            "remaining_time": 1.478747499
           },
           {
            "iteration": 550,
            "learn": [
             0.004367229939
            ],
            "passed_time": 1.810195127,
            "remaining_time": 1.475095485
           },
           {
            "iteration": 551,
            "learn": [
             0.004360174073
            ],
            "passed_time": 1.813053158,
            "remaining_time": 1.471463432
           },
           {
            "iteration": 552,
            "learn": [
             0.004348862436
            ],
            "passed_time": 1.815887652,
            "remaining_time": 1.467815154
           },
           {
            "iteration": 553,
            "learn": [
             0.004348866675
            ],
            "passed_time": 1.818312586,
            "remaining_time": 1.463840096
           },
           {
            "iteration": 554,
            "learn": [
             0.004331540532
            ],
            "passed_time": 1.821344184,
            "remaining_time": 1.460357048
           },
           {
            "iteration": 555,
            "learn": [
             0.004327842395
            ],
            "passed_time": 1.82421304,
            "remaining_time": 1.456745665
           },
           {
            "iteration": 556,
            "learn": [
             0.004325749609
            ],
            "passed_time": 1.82704756,
            "remaining_time": 1.453109639
           },
           {
            "iteration": 557,
            "learn": [
             0.004314930439
            ],
            "passed_time": 1.830151502,
            "remaining_time": 1.449689899
           },
           {
            "iteration": 558,
            "learn": [
             0.004304413266
            ],
            "passed_time": 1.833055968,
            "remaining_time": 1.446113921
           },
           {
            "iteration": 559,
            "learn": [
             0.004296403991
            ],
            "passed_time": 1.83638778,
            "remaining_time": 1.442876113
           },
           {
            "iteration": 560,
            "learn": [
             0.004290325377
            ],
            "passed_time": 1.839387674,
            "remaining_time": 1.439378233
           },
           {
            "iteration": 561,
            "learn": [
             0.004288486905
            ],
            "passed_time": 1.842549768,
            "remaining_time": 1.436008538
           },
           {
            "iteration": 562,
            "learn": [
             0.004288488494
            ],
            "passed_time": 1.845033203,
            "remaining_time": 1.432112806
           },
           {
            "iteration": 563,
            "learn": [
             0.004285482036
            ],
            "passed_time": 1.848190936,
            "remaining_time": 1.428743348
           },
           {
            "iteration": 564,
            "learn": [
             0.004283559057
            ],
            "passed_time": 1.851314714,
            "remaining_time": 1.425348497
           },
           {
            "iteration": 565,
            "learn": [
             0.004267730713
            ],
            "passed_time": 1.855018438,
            "remaining_time": 1.422399297
           },
           {
            "iteration": 566,
            "learn": [
             0.004256125556
            ],
            "passed_time": 1.858655844,
            "remaining_time": 1.419396791
           },
           {
            "iteration": 567,
            "learn": [
             0.004254274633
            ],
            "passed_time": 1.862178884,
            "remaining_time": 1.416305067
           },
           {
            "iteration": 568,
            "learn": [
             0.004248293506
            ],
            "passed_time": 1.865145433,
            "remaining_time": 1.412790302
           },
           {
            "iteration": 569,
            "learn": [
             0.004246399668
            ],
            "passed_time": 1.868352595,
            "remaining_time": 1.409458975
           },
           {
            "iteration": 570,
            "learn": [
             0.004231177701
            ],
            "passed_time": 1.871292145,
            "remaining_time": 1.405927023
           },
           {
            "iteration": 571,
            "learn": [
             0.004220529927
            ],
            "passed_time": 1.874628182,
            "remaining_time": 1.402693814
           },
           {
            "iteration": 572,
            "learn": [
             0.004218230247
            ],
            "passed_time": 1.877580261,
            "remaining_time": 1.399174121
           },
           {
            "iteration": 573,
            "learn": [
             0.004218234751
            ],
            "passed_time": 1.879202574,
            "remaining_time": 1.394669506
           },
           {
            "iteration": 574,
            "learn": [
             0.004210506015
            ],
            "passed_time": 1.882191902,
            "remaining_time": 1.391185319
           },
           {
            "iteration": 575,
            "learn": [
             0.004207390149
            ],
            "passed_time": 1.885105569,
            "remaining_time": 1.387647155
           },
           {
            "iteration": 576,
            "learn": [
             0.004197439618
            ],
            "passed_time": 1.888245156,
            "remaining_time": 1.384276778
           },
           {
            "iteration": 577,
            "learn": [
             0.004195727507
            ],
            "passed_time": 1.891230788,
            "remaining_time": 1.380794796
           },
           {
            "iteration": 578,
            "learn": [
             0.004188119835
            ],
            "passed_time": 1.894175755,
            "remaining_time": 1.377284962
           },
           {
            "iteration": 579,
            "learn": [
             0.004185167419
            ],
            "passed_time": 1.897026232,
            "remaining_time": 1.373708651
           },
           {
            "iteration": 580,
            "learn": [
             0.004179483785
            ],
            "passed_time": 1.899918924,
            "remaining_time": 1.370165283
           },
           {
            "iteration": 581,
            "learn": [
             0.00417778545
            ],
            "passed_time": 1.902877393,
            "remaining_time": 1.366671392
           },
           {
            "iteration": 582,
            "learn": [
             0.004166832235
            ],
            "passed_time": 1.905748149,
            "remaining_time": 1.363116601
           },
           {
            "iteration": 583,
            "learn": [
             0.00416484144
            ],
            "passed_time": 1.908684496,
            "remaining_time": 1.359610874
           },
           {
            "iteration": 584,
            "learn": [
             0.004160984092
            ],
            "passed_time": 1.912120935,
            "remaining_time": 1.35646186
           },
           {
            "iteration": 585,
            "learn": [
             0.004149124887
            ],
            "passed_time": 1.915198772,
            "remaining_time": 1.353058518
           },
           {
            "iteration": 586,
            "learn": [
             0.004146928787
            ],
            "passed_time": 1.918290736,
            "remaining_time": 1.349666225
           },
           {
            "iteration": 587,
            "learn": [
             0.004138902823
            ],
            "passed_time": 1.921211661,
            "remaining_time": 1.346155109
           },
           {
            "iteration": 588,
            "learn": [
             0.004130327172
            ],
            "passed_time": 1.924226733,
            "remaining_time": 1.342711693
           },
           {
            "iteration": 589,
            "learn": [
             0.004114684264
            ],
            "passed_time": 1.927269791,
            "remaining_time": 1.339289177
           },
           {
            "iteration": 590,
            "learn": [
             0.004102304247
            ],
            "passed_time": 1.930317625,
            "remaining_time": 1.33587125
           },
           {
            "iteration": 591,
            "learn": [
             0.004102305571
            ],
            "passed_time": 1.933465535,
            "remaining_time": 1.332523544
           },
           {
            "iteration": 592,
            "learn": [
             0.004099656211
            ],
            "passed_time": 1.936522602,
            "remaining_time": 1.329114164
           },
           {
            "iteration": 593,
            "learn": [
             0.004089896944
            ],
            "passed_time": 1.939580012,
            "remaining_time": 1.325706203
           },
           {
            "iteration": 594,
            "learn": [
             0.00407793045
            ],
            "passed_time": 1.94272752,
            "remaining_time": 1.322360749
           },
           {
            "iteration": 595,
            "learn": [
             0.004077923828
            ],
            "passed_time": 1.945562513,
            "remaining_time": 1.318804119
           },
           {
            "iteration": 596,
            "learn": [
             0.004067283736
            ],
            "passed_time": 1.968176542,
            "remaining_time": 1.328601585
           },
           {
            "iteration": 597,
            "learn": [
             0.004067288505
            ],
            "passed_time": 1.970372149,
            "remaining_time": 1.324564555
           },
           {
            "iteration": 598,
            "learn": [
             0.004064577421
            ],
            "passed_time": 1.977512148,
            "remaining_time": 1.323843692
           },
           {
            "iteration": 599,
            "learn": [
             0.004053313467
            ],
            "passed_time": 1.982175649,
            "remaining_time": 1.321450432
           },
           {
            "iteration": 600,
            "learn": [
             0.004044222567
            ],
            "passed_time": 1.988349725,
            "remaining_time": 1.32005248
           },
           {
            "iteration": 601,
            "learn": [
             0.004036149184
            ],
            "passed_time": 1.991701709,
            "remaining_time": 1.316772891
           },
           {
            "iteration": 602,
            "learn": [
             0.004022513231
            ],
            "passed_time": 1.994952503,
            "remaining_time": 1.313426441
           },
           {
            "iteration": 603,
            "learn": [
             0.004009355439
            ],
            "passed_time": 1.998115467,
            "remaining_time": 1.310022724
           },
           {
            "iteration": 604,
            "learn": [
             0.004007286231
            ],
            "passed_time": 2.001012528,
            "remaining_time": 1.306446196
           },
           {
            "iteration": 605,
            "learn": [
             0.003996361627
            ],
            "passed_time": 2.003896683,
            "remaining_time": 1.30286352
           },
           {
            "iteration": 606,
            "learn": [
             0.003986155457
            ],
            "passed_time": 2.007135253,
            "remaining_time": 1.29951261
           },
           {
            "iteration": 607,
            "learn": [
             0.00397945616
            ],
            "passed_time": 2.010332691,
            "remaining_time": 1.296135551
           },
           {
            "iteration": 608,
            "learn": [
             0.003977287345
            ],
            "passed_time": 2.013319936,
            "remaining_time": 1.292624129
           },
           {
            "iteration": 609,
            "learn": [
             0.003975658947
            ],
            "passed_time": 2.016384106,
            "remaining_time": 1.289163609
           },
           {
            "iteration": 610,
            "learn": [
             0.00397400962
            ],
            "passed_time": 2.019362634,
            "remaining_time": 1.28564986
           },
           {
            "iteration": 611,
            "learn": [
             0.003971995513
            ],
            "passed_time": 2.022601658,
            "remaining_time": 1.282303012
           },
           {
            "iteration": 612,
            "learn": [
             0.003970031208
            ],
            "passed_time": 2.025511735,
            "remaining_time": 1.278748844
           },
           {
            "iteration": 613,
            "learn": [
             0.003970029884
            ],
            "passed_time": 2.027228657,
            "remaining_time": 1.27444668
           },
           {
            "iteration": 614,
            "learn": [
             0.003964974085
            ],
            "passed_time": 2.030189311,
            "remaining_time": 1.27093152
           },
           {
            "iteration": 615,
            "learn": [
             0.003956623077
            ],
            "passed_time": 2.033162036,
            "remaining_time": 1.267425685
           },
           {
            "iteration": 616,
            "learn": [
             0.00393626531
            ],
            "passed_time": 2.03617528,
            "remaining_time": 1.26394673
           },
           {
            "iteration": 617,
            "learn": [
             0.003934755855
            ],
            "passed_time": 2.039066162,
            "remaining_time": 1.260393647
           },
           {
            "iteration": 618,
            "learn": [
             0.003927867677
            ],
            "passed_time": 2.041941496,
            "remaining_time": 1.256833134
           },
           {
            "iteration": 619,
            "learn": [
             0.003919826084
            ],
            "passed_time": 2.04495223,
            "remaining_time": 1.253357818
           },
           {
            "iteration": 620,
            "learn": [
             0.003913377656
            ],
            "passed_time": 2.048127701,
            "remaining_time": 1.249984539
           },
           {
            "iteration": 621,
            "learn": [
             0.003911750582
            ],
            "passed_time": 2.051357249,
            "remaining_time": 1.246644759
           },
           {
            "iteration": 622,
            "learn": [
             0.003910276095
            ],
            "passed_time": 2.054537293,
            "remaining_time": 1.243275376
           },
           {
            "iteration": 623,
            "learn": [
             0.00390667412
            ],
            "passed_time": 2.057540829,
            "remaining_time": 1.239800243
           },
           {
            "iteration": 624,
            "learn": [
             0.003904708756
            ],
            "passed_time": 2.060453935,
            "remaining_time": 1.236272361
           },
           {
            "iteration": 625,
            "learn": [
             0.00390324831
            ],
            "passed_time": 2.063542968,
            "remaining_time": 1.232851549
           },
           {
            "iteration": 626,
            "learn": [
             0.003903238508
            ],
            "passed_time": 2.06629991,
            "remaining_time": 1.229234237
           },
           {
            "iteration": 627,
            "learn": [
             0.003900807169
            ],
            "passed_time": 2.069323948,
            "remaining_time": 1.22577788
           },
           {
            "iteration": 628,
            "learn": [
             0.003898944325
            ],
            "passed_time": 2.072207004,
            "remaining_time": 1.222239743
           },
           {
            "iteration": 629,
            "learn": [
             0.003897095786
            ],
            "passed_time": 2.075138827,
            "remaining_time": 1.218732327
           },
           {
            "iteration": 630,
            "learn": [
             0.003895971245
            ],
            "passed_time": 2.078977602,
            "remaining_time": 1.215757108
           },
           {
            "iteration": 631,
            "learn": [
             0.003895972835
            ],
            "passed_time": 2.080762738,
            "remaining_time": 1.211583367
           },
           {
            "iteration": 632,
            "learn": [
             0.003893664943
            ],
            "passed_time": 2.083792659,
            "remaining_time": 1.208138872
           },
           {
            "iteration": 633,
            "learn": [
             0.003888787164
            ],
            "passed_time": 2.086666561,
            "remaining_time": 1.204605617
           },
           {
            "iteration": 634,
            "learn": [
             0.003887005647
            ],
            "passed_time": 2.090368357,
            "remaining_time": 1.201550315
           },
           {
            "iteration": 635,
            "learn": [
             0.003873550097
            ],
            "passed_time": 2.093697281,
            "remaining_time": 1.198279576
           },
           {
            "iteration": 636,
            "learn": [
             0.003866514365
            ],
            "passed_time": 2.096580018,
            "remaining_time": 1.19475439
           },
           {
            "iteration": 637,
            "learn": [
             0.003856715096
            ],
            "passed_time": 2.099415506,
            "remaining_time": 1.19120441
           },
           {
            "iteration": 638,
            "learn": [
             0.003837985992
            ],
            "passed_time": 2.105276011,
            "remaining_time": 1.189365634
           },
           {
            "iteration": 639,
            "learn": [
             0.003830542035
            ],
            "passed_time": 2.108623965,
            "remaining_time": 1.18610098
           },
           {
            "iteration": 640,
            "learn": [
             0.003828964233
            ],
            "passed_time": 2.111676069,
            "remaining_time": 1.182670372
           },
           {
            "iteration": 641,
            "learn": [
             0.003828112284
            ],
            "passed_time": 2.114450671,
            "remaining_time": 1.1790862
           },
           {
            "iteration": 642,
            "learn": [
             0.003812865151
            ],
            "passed_time": 2.117493935,
            "remaining_time": 1.175653709
           },
           {
            "iteration": 643,
            "learn": [
             0.003811160723
            ],
            "passed_time": 2.120409796,
            "remaining_time": 1.172151999
           },
           {
            "iteration": 644,
            "learn": [
             0.003811158604
            ],
            "passed_time": 2.122141404,
            "remaining_time": 1.168000308
           },
           {
            "iteration": 645,
            "learn": [
             0.003810323609
            ],
            "passed_time": 2.124947019,
            "remaining_time": 1.164444651
           },
           {
            "iteration": 646,
            "learn": [
             0.003802572886
            ],
            "passed_time": 2.127800326,
            "remaining_time": 1.160917334
           },
           {
            "iteration": 647,
            "learn": [
             0.003796010282
            ],
            "passed_time": 2.13093546,
            "remaining_time": 1.157545188
           },
           {
            "iteration": 648,
            "learn": [
             0.00378967709
            ],
            "passed_time": 2.135633375,
            "remaining_time": 1.155018975
           },
           {
            "iteration": 649,
            "learn": [
             0.003789375623
            ],
            "passed_time": 2.138267066,
            "remaining_time": 1.151374574
           },
           {
            "iteration": 650,
            "learn": [
             0.003784802225
            ],
            "passed_time": 2.141336355,
            "remaining_time": 1.147966802
           },
           {
            "iteration": 651,
            "learn": [
             0.003776387109
            ],
            "passed_time": 2.145325456,
            "remaining_time": 1.14505101
           },
           {
            "iteration": 652,
            "learn": [
             0.003769011497
            ],
            "passed_time": 2.14936569,
            "remaining_time": 1.142159103
           },
           {
            "iteration": 653,
            "learn": [
             0.003762111134
            ],
            "passed_time": 2.152784756,
            "remaining_time": 1.138935055
           },
           {
            "iteration": 654,
            "learn": [
             0.00376114289
            ],
            "passed_time": 2.155595751,
            "remaining_time": 1.135390128
           },
           {
            "iteration": 655,
            "learn": [
             0.003761122492
            ],
            "passed_time": 2.157225113,
            "remaining_time": 1.131227803
           },
           {
            "iteration": 656,
            "learn": [
             0.003760281669
            ],
            "passed_time": 2.160285655,
            "remaining_time": 1.127820365
           },
           {
            "iteration": 657,
            "learn": [
             0.003752768834
            ],
            "passed_time": 2.163924041,
            "remaining_time": 1.124714319
           },
           {
            "iteration": 658,
            "learn": [
             0.003740282589
            ],
            "passed_time": 2.166917182,
            "remaining_time": 1.121272775
           },
           {
            "iteration": 659,
            "learn": [
             0.003733054797
            ],
            "passed_time": 2.170221987,
            "remaining_time": 1.117993145
           },
           {
            "iteration": 660,
            "learn": [
             0.003733061685
            ],
            "passed_time": 2.171926156,
            "remaining_time": 1.113892537
           },
           {
            "iteration": 661,
            "learn": [
             0.003723181354
            ],
            "passed_time": 2.175060302,
            "remaining_time": 1.110529278
           },
           {
            "iteration": 662,
            "learn": [
             0.003707043065
            ],
            "passed_time": 2.177932315,
            "remaining_time": 1.107033469
           },
           {
            "iteration": 663,
            "learn": [
             0.003705590036
            ],
            "passed_time": 2.180927381,
            "remaining_time": 1.103601807
           },
           {
            "iteration": 664,
            "learn": [
             0.003704637686
            ],
            "passed_time": 2.184166918,
            "remaining_time": 1.100294613
           },
           {
            "iteration": 665,
            "learn": [
             0.00370294465
            ],
            "passed_time": 2.187049,
            "remaining_time": 1.096808357
           },
           {
            "iteration": 666,
            "learn": [
             0.003700346682
            ],
            "passed_time": 2.189969454,
            "remaining_time": 1.093343071
           },
           {
            "iteration": 667,
            "learn": [
             0.003693495856
            ],
            "passed_time": 2.193400317,
            "remaining_time": 1.090133092
           },
           {
            "iteration": 668,
            "learn": [
             0.003682380782
            ],
            "passed_time": 2.196344419,
            "remaining_time": 1.086681619
           },
           {
            "iteration": 669,
            "learn": [
             0.003664720853
            ],
            "passed_time": 2.199353455,
            "remaining_time": 1.083263642
           },
           {
            "iteration": 670,
            "learn": [
             0.003664718999
            ],
            "passed_time": 2.201981304,
            "remaining_time": 1.079659984
           },
           {
            "iteration": 671,
            "learn": [
             0.003663816187
            ],
            "passed_time": 2.204863563,
            "remaining_time": 1.076183406
           },
           {
            "iteration": 672,
            "learn": [
             0.003657129871
            ],
            "passed_time": 2.207734211,
            "remaining_time": 1.072702952
           },
           {
            "iteration": 673,
            "learn": [
             0.003650466071
            ],
            "passed_time": 2.210617114,
            "remaining_time": 1.069230236
           },
           {
            "iteration": 674,
            "learn": [
             0.003644504547
            ],
            "passed_time": 2.213559383,
            "remaining_time": 1.065787851
           },
           {
            "iteration": 675,
            "learn": [
             0.003643582662
            ],
            "passed_time": 2.21632006,
            "remaining_time": 1.06225991
           },
           {
            "iteration": 676,
            "learn": [
             0.003642793232
            ],
            "passed_time": 2.219778384,
            "remaining_time": 1.059067087
           },
           {
            "iteration": 677,
            "learn": [
             0.003642796146
            ],
            "passed_time": 2.221367791,
            "remaining_time": 1.054985883
           },
           {
            "iteration": 678,
            "learn": [
             0.003642799589
            ],
            "passed_time": 2.224074173,
            "remaining_time": 1.051440073
           },
           {
            "iteration": 679,
            "learn": [
             0.00364191956
            ],
            "passed_time": 2.226981273,
            "remaining_time": 1.047991187
           },
           {
            "iteration": 680,
            "learn": [
             0.003641925653
            ],
            "passed_time": 2.228688879,
            "remaining_time": 1.043982016
           },
           {
            "iteration": 681,
            "learn": [
             0.0036305862
            ],
            "passed_time": 2.231786959,
            "remaining_time": 1.040627937
           },
           {
            "iteration": 682,
            "learn": [
             0.003624247445
            ],
            "passed_time": 2.234707892,
            "remaining_time": 1.037192389
           },
           {
            "iteration": 683,
            "learn": [
             0.003622853491
            ],
            "passed_time": 2.237649255,
            "remaining_time": 1.033767785
           },
           {
            "iteration": 684,
            "learn": [
             0.003616018295
            ],
            "passed_time": 2.240862239,
            "remaining_time": 1.030469497
           },
           {
            "iteration": 685,
            "learn": [
             0.003610152668
            ],
            "passed_time": 2.245004737,
            "remaining_time": 1.02759692
           },
           {
            "iteration": 686,
            "learn": [
             0.003609271049
            ],
            "passed_time": 2.248064344,
            "remaining_time": 1.024227278
           },
           {
            "iteration": 687,
            "learn": [
             0.003603480127
            ],
            "passed_time": 2.252956937,
            "remaining_time": 1.021689774
           },
           {
            "iteration": 688,
            "learn": [
             0.003600888252
            ],
            "passed_time": 2.255892408,
            "remaining_time": 1.01826203
           },
           {
            "iteration": 689,
            "learn": [
             0.003590273592
            ],
            "passed_time": 2.259977031,
            "remaining_time": 1.015351999
           },
           {
            "iteration": 690,
            "learn": [
             0.003588588503
            ],
            "passed_time": 2.26311968,
            "remaining_time": 1.012017339
           },
           {
            "iteration": 691,
            "learn": [
             0.003587738143
            ],
            "passed_time": 2.266595062,
            "remaining_time": 1.008831328
           },
           {
            "iteration": 692,
            "learn": [
             0.003582665655
            ],
            "passed_time": 2.269695453,
            "remaining_time": 1.005478361
           },
           {
            "iteration": 693,
            "learn": [
             0.003566088147
            ],
            "passed_time": 2.272660859,
            "remaining_time": 1.002066603
           },
           {
            "iteration": 694,
            "learn": [
             0.003565363089
            ],
            "passed_time": 2.275434872,
            "remaining_time": 0.9985721381
           },
           {
            "iteration": 695,
            "learn": [
             0.003561112881
            ],
            "passed_time": 2.278513997,
            "remaining_time": 0.9952130102
           },
           {
            "iteration": 696,
            "learn": [
             0.003561111026
            ],
            "passed_time": 2.281621076,
            "remaining_time": 0.9918668377
           },
           {
            "iteration": 697,
            "learn": [
             0.0035602808
            ],
            "passed_time": 2.285121222,
            "remaining_time": 0.9886914169
           },
           {
            "iteration": 698,
            "learn": [
             0.003553638458
            ],
            "passed_time": 2.288123782,
            "remaining_time": 0.9853007988
           },
           {
            "iteration": 699,
            "learn": [
             0.003547451761
            ],
            "passed_time": 2.293065225,
            "remaining_time": 0.9827422393
           },
           {
            "iteration": 700,
            "learn": [
             0.003534976112
            ],
            "passed_time": 2.296723841,
            "remaining_time": 0.9796297126
           },
           {
            "iteration": 701,
            "learn": [
             0.003528527419
            ],
            "passed_time": 2.299616276,
            "remaining_time": 0.976190385
           },
           {
            "iteration": 702,
            "learn": [
             0.003523994022
            ],
            "passed_time": 2.302558999,
            "remaining_time": 0.9727738588
           },
           {
            "iteration": 703,
            "learn": [
             0.003523770173
            ],
            "passed_time": 2.305801528,
            "remaining_time": 0.9694847333
           },
           {
            "iteration": 704,
            "learn": [
             0.00351751354
            ],
            "passed_time": 2.308852117,
            "remaining_time": 0.9661154247
           },
           {
            "iteration": 705,
            "learn": [
             0.003516805967
            ],
            "passed_time": 2.311644243,
            "remaining_time": 0.9626393874
           },
           {
            "iteration": 706,
            "learn": [
             0.003513768514
            ],
            "passed_time": 2.314538219,
            "remaining_time": 0.959207494
           },
           {
            "iteration": 707,
            "learn": [
             0.003509570758
            ],
            "passed_time": 2.318404104,
            "remaining_time": 0.9561779639
           },
           {
            "iteration": 708,
            "learn": [
             0.003503436512
            ],
            "passed_time": 2.321487819,
            "remaining_time": 0.9528250426
           },
           {
            "iteration": 709,
            "learn": [
             0.003501882023
            ],
            "passed_time": 2.325193416,
            "remaining_time": 0.9497268881
           },
           {
            "iteration": 710,
            "learn": [
             0.003496137195
            ],
            "passed_time": 2.33093718,
            "remaining_time": 0.9474554784
           },
           {
            "iteration": 711,
            "learn": [
             0.003496108055
            ],
            "passed_time": 2.333856542,
            "remaining_time": 0.9440318597
           },
           {
            "iteration": 712,
            "learn": [
             0.003496110704
            ],
            "passed_time": 2.337988091,
            "remaining_time": 0.9410975904
           },
           {
            "iteration": 713,
            "learn": [
             0.003495334254
            ],
            "passed_time": 2.34143045,
            "remaining_time": 0.9378839057
           },
           {
            "iteration": 714,
            "learn": [
             0.00349533293
            ],
            "passed_time": 2.344260114,
            "remaining_time": 0.9344253601
           },
           {
            "iteration": 715,
            "learn": [
             0.003493302398
            ],
            "passed_time": 2.347422148,
            "remaining_time": 0.9311004051
           },
           {
            "iteration": 716,
            "learn": [
             0.003492525419
            ],
            "passed_time": 2.350327028,
            "remaining_time": 0.9276744057
           },
           {
            "iteration": 717,
            "learn": [
             0.003483770159
            ],
            "passed_time": 2.353589663,
            "remaining_time": 0.924390369
           },
           {
            "iteration": 718,
            "learn": [
             0.003483769099
            ],
            "passed_time": 2.356739404,
            "remaining_time": 0.9210622704
           },
           {
            "iteration": 719,
            "learn": [
             0.003473105431
            ],
            "passed_time": 2.360385996,
            "remaining_time": 0.9179278874
           },
           {
            "iteration": 720,
            "learn": [
             0.003463381131
            ],
            "passed_time": 2.364426428,
            "remaining_time": 0.9149444846
           },
           {
            "iteration": 721,
            "learn": [
             0.003457269669
            ],
            "passed_time": 2.367417332,
            "remaining_time": 0.9115540418
           },
           {
            "iteration": 722,
            "learn": [
             0.003457262781
            ],
            "passed_time": 2.369173179,
            "remaining_time": 0.9076915222
           },
           {
            "iteration": 723,
            "learn": [
             0.003454874886
            ],
            "passed_time": 2.372228644,
            "remaining_time": 0.9043302565
           },
           {
            "iteration": 724,
            "learn": [
             0.003444648319
            ],
            "passed_time": 2.375231796,
            "remaining_time": 0.9009499915
           },
           {
            "iteration": 725,
            "learn": [
             0.003443134626
            ],
            "passed_time": 2.381193347,
            "remaining_time": 0.8986872963
           },
           {
            "iteration": 726,
            "learn": [
             0.003440799978
            ],
            "passed_time": 2.385654878,
            "remaining_time": 0.8958511442
           },
           {
            "iteration": 727,
            "learn": [
             0.003440806071
            ],
            "passed_time": 2.392405067,
            "remaining_time": 0.8938656296
           },
           {
            "iteration": 728,
            "learn": [
             0.003432824877
            ],
            "passed_time": 2.401243822,
            "remaining_time": 0.8926434509
           },
           {
            "iteration": 729,
            "learn": [
             0.003427606424
            ],
            "passed_time": 2.408176941,
            "remaining_time": 0.8906955809
           },
           {
            "iteration": 730,
            "learn": [
             0.003424699836
            ],
            "passed_time": 2.414300848,
            "remaining_time": 0.8884362901
           },
           {
            "iteration": 731,
            "learn": [
             0.003416632546
            ],
            "passed_time": 2.417423941,
            "remaining_time": 0.8850677817
           },
           {
            "iteration": 732,
            "learn": [
             0.003416634931
            ],
            "passed_time": 2.419145647,
            "remaining_time": 0.8811894785
           },
           {
            "iteration": 733,
            "learn": [
             0.003416638374
            ],
            "passed_time": 2.421766651,
            "remaining_time": 0.8776429553
           },
           {
            "iteration": 734,
            "learn": [
             0.003406462404
            ],
            "passed_time": 2.424994979,
            "remaining_time": 0.8743179177
           },
           {
            "iteration": 735,
            "learn": [
             0.003398133914
            ],
            "passed_time": 2.427922072,
            "remaining_time": 0.8708850912
           },
           {
            "iteration": 736,
            "learn": [
             0.003395842976
            ],
            "passed_time": 2.431276611,
            "remaining_time": 0.867606172
           },
           {
            "iteration": 737,
            "learn": [
             0.003395839797
            ],
            "passed_time": 2.43377326,
            "remaining_time": 0.8640224852
           },
           {
            "iteration": 738,
            "learn": [
             0.003395843241
            ],
            "passed_time": 2.437009559,
            "remaining_time": 0.86070297
           },
           {
            "iteration": 739,
            "learn": [
             0.003395804034
            ],
            "passed_time": 2.439702931,
            "remaining_time": 0.8571929217
           },
           {
            "iteration": 740,
            "learn": [
             0.003395797412
            ],
            "passed_time": 2.44228144,
            "remaining_time": 0.8536449298
           },
           {
            "iteration": 741,
            "learn": [
             0.003395787875
            ],
            "passed_time": 2.444828424,
            "remaining_time": 0.8500885894
           },
           {
            "iteration": 742,
            "learn": [
             0.003395774364
            ],
            "passed_time": 2.447413152,
            "remaining_time": 0.8465480216
           },
           {
            "iteration": 743,
            "learn": [
             0.003395768801
            ],
            "passed_time": 2.449985293,
            "remaining_time": 0.8430056922
           },
           {
            "iteration": 744,
            "learn": [
             0.00338534885
            ],
            "passed_time": 2.453191087,
            "remaining_time": 0.8396828552
           },
           {
            "iteration": 745,
            "learn": [
             0.003383321497
            ],
            "passed_time": 2.456192817,
            "remaining_time": 0.8362908519
           },
           {
            "iteration": 746,
            "learn": [
             0.003377141158
            ],
            "passed_time": 2.459132968,
            "remaining_time": 0.8328790372
           },
           {
            "iteration": 747,
            "learn": [
             0.003375720713
            ],
            "passed_time": 2.462581652,
            "remaining_time": 0.8296398077
           },
           {
            "iteration": 748,
            "learn": [
             0.00337571303
            ],
            "passed_time": 2.465083444,
            "remaining_time": 0.826082703
           },
           {
            "iteration": 749,
            "learn": [
             0.003375688659
            ],
            "passed_time": 2.467663964,
            "remaining_time": 0.8225546547
           },
           {
            "iteration": 750,
            "learn": [
             0.003375696606
            ],
            "passed_time": 2.470421686,
            "remaining_time": 0.8190878825
           },
           {
            "iteration": 751,
            "learn": [
             0.003375678592
            ],
            "passed_time": 2.473460084,
            "remaining_time": 0.8157155596
           },
           {
            "iteration": 752,
            "learn": [
             0.003371475538
            ],
            "passed_time": 2.476520066,
            "remaining_time": 0.8123512036
           },
           {
            "iteration": 753,
            "learn": [
             0.003371479246
            ],
            "passed_time": 2.478315545,
            "remaining_time": 0.8085750983
           },
           {
            "iteration": 754,
            "learn": [
             0.003363874753
            ],
            "passed_time": 2.481499422,
            "remaining_time": 0.8052547795
           },
           {
            "iteration": 755,
            "learn": [
             0.00335606575
            ],
            "passed_time": 2.484463721,
            "remaining_time": 0.8018639523
           },
           {
            "iteration": 756,
            "learn": [
             0.003348173036
            ],
            "passed_time": 2.48785194,
            "remaining_time": 0.798610332
           },
           {
            "iteration": 757,
            "learn": [
             0.003342853917
            ],
            "passed_time": 2.492237393,
            "remaining_time": 0.7956747348
           },
           {
            "iteration": 758,
            "learn": [
             0.003337110413
            ],
            "passed_time": 2.495230814,
            "remaining_time": 0.7922933153
           },
           {
            "iteration": 759,
            "learn": [
             0.003337107764
            ],
            "passed_time": 2.497747813,
            "remaining_time": 0.7887624674
           },
           {
            "iteration": 760,
            "learn": [
             0.003335146374
            ],
            "passed_time": 2.500775021,
            "remaining_time": 0.7853945203
           },
           {
            "iteration": 761,
            "learn": [
             0.003333948718
            ],
            "passed_time": 2.503795683,
            "remaining_time": 0.7820254234
           },
           {
            "iteration": 762,
            "learn": [
             0.003331385189
            ],
            "passed_time": 2.506808953,
            "remaining_time": 0.7786549434
           },
           {
            "iteration": 763,
            "learn": [
             0.003331370354
            ],
            "passed_time": 2.509399275,
            "remaining_time": 0.7751547498
           },
           {
            "iteration": 764,
            "learn": [
             0.003329496649
            ],
            "passed_time": 2.512394593,
            "remaining_time": 0.7717813456
           },
           {
            "iteration": 765,
            "learn": [
             0.003328228262
            ],
            "passed_time": 2.515299052,
            "remaining_time": 0.7683811727
           },
           {
            "iteration": 766,
            "learn": [
             0.003318765958
            ],
            "passed_time": 2.518251138,
            "remaining_time": 0.7649967604
           },
           {
            "iteration": 767,
            "learn": [
             0.00331877417
            ],
            "passed_time": 2.520662849,
            "remaining_time": 0.7614502355
           },
           {
            "iteration": 768,
            "learn": [
             0.003314768473
            ],
            "passed_time": 2.523681884,
            "remaining_time": 0.7580890965
           },
           {
            "iteration": 769,
            "learn": [
             0.003302868472
            ],
            "passed_time": 2.526651139,
            "remaining_time": 0.7547139766
           },
           {
            "iteration": 770,
            "learn": [
             0.003297316498
            ],
            "passed_time": 2.529540408,
            "remaining_time": 0.7513161522
           },
           {
            "iteration": 771,
            "learn": [
             0.003295400672
            ],
            "passed_time": 2.532525323,
            "remaining_time": 0.7479478933
           },
           {
            "iteration": 772,
            "learn": [
             0.003294389513
            ],
            "passed_time": 2.535285356,
            "remaining_time": 0.7445145871
           },
           {
            "iteration": 773,
            "learn": [
             0.003292368783
            ],
            "passed_time": 2.538216833,
            "remaining_time": 0.7411330804
           },
           {
            "iteration": 774,
            "learn": [
             0.003292380174
            ],
            "passed_time": 2.53976067,
            "remaining_time": 0.7373498721
           },
           {
            "iteration": 775,
            "learn": [
             0.003288487858
            ],
            "passed_time": 2.54309966,
            "remaining_time": 0.7340906235
           },
           {
            "iteration": 776,
            "learn": [
             0.003288477527
            ],
            "passed_time": 2.545528776,
            "remaining_time": 0.7305700349
           },
           {
            "iteration": 777,
            "learn": [
             0.003282649782
            ],
            "passed_time": 2.549643355,
            "remaining_time": 0.7275331939
           },
           {
            "iteration": 778,
            "learn": [
             0.003281246026
            ],
            "passed_time": 2.552990828,
            "remaining_time": 0.7242759602
           },
           {
            "iteration": 779,
            "learn": [
             0.003278795878
            ],
            "passed_time": 2.556360267,
            "remaining_time": 0.7210246907
           },
           {
            "iteration": 780,
            "learn": [
             0.003273458216
            ],
            "passed_time": 2.559296512,
            "remaining_time": 0.7176516468
           },
           {
            "iteration": 781,
            "learn": [
             0.003267074161
            ],
            "passed_time": 2.562476317,
            "remaining_time": 0.7143476177
           },
           {
            "iteration": 782,
            "learn": [
             0.00326086839
            ],
            "passed_time": 2.565386063,
            "remaining_time": 0.7109690622
           },
           {
            "iteration": 783,
            "learn": [
             0.003260864152
            ],
            "passed_time": 2.566931481,
            "remaining_time": 0.7072158162
           },
           {
            "iteration": 784,
            "learn": [
             0.00326085488
            ],
            "passed_time": 2.569619849,
            "remaining_time": 0.7037812324
           },
           {
            "iteration": 785,
            "learn": [
             0.003260865476
            ],
            "passed_time": 2.572408398,
            "remaining_time": 0.7003758234
           },
           {
            "iteration": 786,
            "learn": [
             0.003260865741
            ],
            "passed_time": 2.575013392,
            "remaining_time": 0.696922303
           },
           {
            "iteration": 787,
            "learn": [
             0.003260860443
            ],
            "passed_time": 2.57781923,
            "remaining_time": 0.6935249704
           },
           {
            "iteration": 788,
            "learn": [
             0.003260856469
            ],
            "passed_time": 2.580418621,
            "remaining_time": 0.6900739279
           },
           {
            "iteration": 789,
            "learn": [
             0.003256320953
            ],
            "passed_time": 2.583491878,
            "remaining_time": 0.6867510056
           },
           {
            "iteration": 790,
            "learn": [
             0.003256313801
            ],
            "passed_time": 2.585233341,
            "remaining_time": 0.6830768245
           },
           {
            "iteration": 791,
            "learn": [
             0.003244888783
            ],
            "passed_time": 2.588394981,
            "remaining_time": 0.6797805001
           },
           {
            "iteration": 792,
            "learn": [
             0.003239729669
            ],
            "passed_time": 2.591365709,
            "remaining_time": 0.6764346806
           },
           {
            "iteration": 793,
            "learn": [
             0.003238601949
            ],
            "passed_time": 2.594262948,
            "remaining_time": 0.6730707396
           },
           {
            "iteration": 794,
            "learn": [
             0.003231591913
            ],
            "passed_time": 2.597192058,
            "remaining_time": 0.669716191
           },
           {
            "iteration": 795,
            "learn": [
             0.003231594033
            ],
            "passed_time": 2.599053459,
            "remaining_time": 0.6660890774
           },
           {
            "iteration": 796,
            "learn": [
             0.003229249318
            ],
            "passed_time": 2.602098837,
            "remaining_time": 0.6627679597
           },
           {
            "iteration": 797,
            "learn": [
             0.00322534879
            ],
            "passed_time": 2.605144522,
            "remaining_time": 0.6594476107
           },
           {
            "iteration": 798,
            "learn": [
             0.003224174182
            ],
            "passed_time": 2.608004354,
            "remaining_time": 0.6560811955
           },
           {
            "iteration": 799,
            "learn": [
             0.003216805458
            ],
            "passed_time": 2.611133916,
            "remaining_time": 0.652783479
           },
           {
            "iteration": 800,
            "learn": [
             0.00321676996
            ],
            "passed_time": 2.613693808,
            "remaining_time": 0.6493446539
           },
           {
            "iteration": 801,
            "learn": [
             0.003214476903
            ],
            "passed_time": 2.617099714,
            "remaining_time": 0.646116887
           },
           {
            "iteration": 802,
            "learn": [
             0.003209514353
            ],
            "passed_time": 2.620041553,
            "remaining_time": 0.6427748268
           },
           {
            "iteration": 803,
            "learn": [
             0.003209520976
            ],
            "passed_time": 2.62245708,
            "remaining_time": 0.6393054574
           },
           {
            "iteration": 804,
            "learn": [
             0.003202775584
            ],
            "passed_time": 2.625422689,
            "remaining_time": 0.6359719558
           },
           {
            "iteration": 805,
            "learn": [
             0.003202300602
            ],
            "passed_time": 2.628085613,
            "remaining_time": 0.6325665123
           },
           {
            "iteration": 806,
            "learn": [
             0.0031933456
            ],
            "passed_time": 2.630958062,
            "remaining_time": 0.6292130187
           },
           {
            "iteration": 807,
            "learn": [
             0.00318258418
            ],
            "passed_time": 2.634004481,
            "remaining_time": 0.625902055
           },
           {
            "iteration": 808,
            "learn": [
             0.003173982302
            ],
            "passed_time": 2.637049072,
            "remaining_time": 0.6225913138
           },
           {
            "iteration": 809,
            "learn": [
             0.003172572984
            ],
            "passed_time": 2.640079907,
            "remaining_time": 0.6192780028
           },
           {
            "iteration": 810,
            "learn": [
             0.003172577752
            ],
            "passed_time": 2.641663566,
            "remaining_time": 0.6156281307
           },
           {
            "iteration": 811,
            "learn": [
             0.003167071607
            ],
            "passed_time": 2.644704171,
            "remaining_time": 0.6123206701
           },
           {
            "iteration": 812,
            "learn": [
             0.003164692985
            ],
            "passed_time": 2.647532224,
            "remaining_time": 0.6089649764
           },
           {
            "iteration": 813,
            "learn": [
             0.003159257571
            ],
            "passed_time": 2.65057887,
            "remaining_time": 0.6056605281
           },
           {
            "iteration": 814,
            "learn": [
             0.003153361744
            ],
            "passed_time": 2.653604307,
            "remaining_time": 0.6023518979
           },
           {
            "iteration": 815,
            "learn": [
             0.003153356976
            ],
            "passed_time": 2.655167408,
            "remaining_time": 0.5987142195
           },
           {
            "iteration": 816,
            "learn": [
             0.003148550457
            ],
            "passed_time": 2.65815201,
            "remaining_time": 0.5954000218
           },
           {
            "iteration": 817,
            "learn": [
             0.003144006464
            ],
            "passed_time": 2.661027582,
            "remaining_time": 0.5920623715
           },
           {
            "iteration": 818,
            "learn": [
             0.003143998782
            ],
            "passed_time": 2.663472209,
            "remaining_time": 0.5886306103
           },
           {
            "iteration": 819,
            "learn": [
             0.003137811555
            ],
            "passed_time": 2.6665194,
            "remaining_time": 0.5853335268
           },
           {
            "iteration": 820,
            "learn": [
             0.003135206964
            ],
            "passed_time": 2.66937839,
            "remaining_time": 0.5819960193
           },
           {
            "iteration": 821,
            "learn": [
             0.00313520352
            ],
            "passed_time": 2.671795216,
            "remaining_time": 0.5785639276
           },
           {
            "iteration": 822,
            "learn": [
             0.003133474191
            ],
            "passed_time": 2.674840808,
            "remaining_time": 0.5752695297
           },
           {
            "iteration": 823,
            "learn": [
             0.003129172855
            ],
            "passed_time": 2.677693842,
            "remaining_time": 0.571934607
           },
           {
            "iteration": 824,
            "learn": [
             0.003127985001
            ],
            "passed_time": 2.680643029,
            "remaining_time": 0.5686212487
           },
           {
            "iteration": 825,
            "learn": [
             0.003126608266
            ],
            "passed_time": 2.683591588,
            "remaining_time": 0.5653086397
           },
           {
            "iteration": 826,
            "learn": [
             0.00312661171
            ],
            "passed_time": 2.686048224,
            "remaining_time": 0.5618940058
           },
           {
            "iteration": 827,
            "learn": [
             0.003114299509
            ],
            "passed_time": 2.689094485,
            "remaining_time": 0.5586041683
           },
           {
            "iteration": 828,
            "learn": [
             0.003113251262
            ],
            "passed_time": 2.692017045,
            "remaining_time": 0.5552894024
           },
           {
            "iteration": 829,
            "learn": [
             0.003111057811
            ],
            "passed_time": 2.694905798,
            "remaining_time": 0.5519686575
           },
           {
            "iteration": 830,
            "learn": [
             0.00311106205
            ],
            "passed_time": 2.697376538,
            "remaining_time": 0.5485639408
           },
           {
            "iteration": 831,
            "learn": [
             0.003099900087
            ],
            "passed_time": 2.700415928,
            "remaining_time": 0.5452762932
           },
           {
            "iteration": 832,
            "learn": [
             0.00309413698
            ],
            "passed_time": 2.703472486,
            "remaining_time": 0.5419926832
           },
           {
            "iteration": 833,
            "learn": [
             0.003089336819
            ],
            "passed_time": 2.706962621,
            "remaining_time": 0.5387959174
           },
           {
            "iteration": 834,
            "learn": [
             0.003087637689
            ],
            "passed_time": 2.710238661,
            "remaining_time": 0.5355561425
           },
           {
            "iteration": 835,
            "learn": [
             0.003085555236
            ],
            "passed_time": 2.713202583,
            "remaining_time": 0.5322550521
           },
           {
            "iteration": 836,
            "learn": [
             0.003078590234
            ],
            "passed_time": 2.716795571,
            "remaining_time": 0.5290772736
           },
           {
            "iteration": 837,
            "learn": [
             0.003071263631
            ],
            "passed_time": 2.719684467,
            "remaining_time": 0.525762391
           },
           {
            "iteration": 838,
            "learn": [
             0.00306466394
            ],
            "passed_time": 2.722629836,
            "remaining_time": 0.5224593606
           },
           {
            "iteration": 839,
            "learn": [
             0.003064332538
            ],
            "passed_time": 2.725247918,
            "remaining_time": 0.5190948415
           },
           {
            "iteration": 840,
            "learn": [
             0.003059784571
            ],
            "passed_time": 2.728136028,
            "remaining_time": 0.5157831492
           },
           {
            "iteration": 841,
            "learn": [
             0.003055659135
            ],
            "passed_time": 2.731608311,
            "remaining_time": 0.5125820822
           },
           {
            "iteration": 842,
            "learn": [
             0.00305495686
            ],
            "passed_time": 2.734435569,
            "remaining_time": 0.5092602424
           },
           {
            "iteration": 843,
            "learn": [
             0.003051708539
            ],
            "passed_time": 2.737470295,
            "remaining_time": 0.5059779219
           },
           {
            "iteration": 844,
            "learn": [
             0.003051711718
            ],
            "passed_time": 2.739958958,
            "remaining_time": 0.502596022
           },
           {
            "iteration": 845,
            "learn": [
             0.003049765163
            ],
            "passed_time": 2.742925244,
            "remaining_time": 0.4993031769
           },
           {
            "iteration": 846,
            "learn": [
             0.003046103319
            ],
            "passed_time": 2.745838603,
            "remaining_time": 0.4960015422
           },
           {
            "iteration": 847,
            "learn": [
             0.003044235177
            ],
            "passed_time": 2.748810708,
            "remaining_time": 0.4927113533
           },
           {
            "iteration": 848,
            "learn": [
             0.003042359087
            ],
            "passed_time": 2.752054526,
            "remaining_time": 0.4894702397
           },
           {
            "iteration": 849,
            "learn": [
             0.003042361206
            ],
            "passed_time": 2.753790101,
            "remaining_time": 0.485962959
           },
           {
            "iteration": 850,
            "learn": [
             0.003041276402
            ],
            "passed_time": 2.756884697,
            "remaining_time": 0.4826977906
           },
           {
            "iteration": 851,
            "learn": [
             0.003041100237
            ],
            "passed_time": 2.759593583,
            "remaining_time": 0.4793660215
           },
           {
            "iteration": 852,
            "learn": [
             0.003039629724
            ],
            "passed_time": 2.762650566,
            "remaining_time": 0.4760957014
           },
           {
            "iteration": 853,
            "learn": [
             0.003035265605
            ],
            "passed_time": 2.765521533,
            "remaining_time": 0.4727940795
           },
           {
            "iteration": 854,
            "learn": [
             0.003034239345
            ],
            "passed_time": 2.768469747,
            "remaining_time": 0.4695065653
           },
           {
            "iteration": 855,
            "learn": [
             0.003029690848
            ],
            "passed_time": 2.771372348,
            "remaining_time": 0.4662121706
           },
           {
            "iteration": 856,
            "learn": [
             0.003028346697
            ],
            "passed_time": 2.774279616,
            "remaining_time": 0.4629194692
           },
           {
            "iteration": 857,
            "learn": [
             0.003028328154
            ],
            "passed_time": 2.776779633,
            "remaining_time": 0.4595602655
           },
           {
            "iteration": 858,
            "learn": [
             0.003028333187
            ],
            "passed_time": 2.779366661,
            "remaining_time": 0.4562173449
           },
           {
            "iteration": 859,
            "learn": [
             0.003023342556
            ],
            "passed_time": 2.782309793,
            "remaining_time": 0.4529341524
           },
           {
            "iteration": 860,
            "learn": [
             0.003023348384
            ],
            "passed_time": 2.784821044,
            "remaining_time": 0.4495820269
           },
           {
            "iteration": 861,
            "learn": [
             0.003023351563
            ],
            "passed_time": 2.787303878,
            "remaining_time": 0.446227303
           },
           {
            "iteration": 862,
            "learn": [
             0.003023347855
            ],
            "passed_time": 2.789758093,
            "remaining_time": 0.4428700566
           },
           {
            "iteration": 863,
            "learn": [
             0.003023336728
            ],
            "passed_time": 2.792287013,
            "remaining_time": 0.4395266595
           },
           {
            "iteration": 864,
            "learn": [
             0.003023345735
            ],
            "passed_time": 2.794772769,
            "remaining_time": 0.436178409
           },
           {
            "iteration": 865,
            "learn": [
             0.003023316065
            ],
            "passed_time": 2.797287629,
            "remaining_time": 0.4328366539
           },
           {
            "iteration": 866,
            "learn": [
             0.00302331633
            ],
            "passed_time": 2.799754578,
            "remaining_time": 0.4294894567
           },
           {
            "iteration": 867,
            "learn": [
             0.003023312357
            ],
            "passed_time": 2.802266723,
            "remaining_time": 0.4261511606
           },
           {
            "iteration": 868,
            "learn": [
             0.003023295932
            ],
            "passed_time": 2.804776856,
            "remaining_time": 0.4228144628
           },
           {
            "iteration": 869,
            "learn": [
             0.003023295403
            ],
            "passed_time": 2.807251833,
            "remaining_time": 0.4194744119
           },
           {
            "iteration": 870,
            "learn": [
             0.003023296992
            ],
            "passed_time": 2.809864916,
            "remaining_time": 0.4161568016
           },
           {
            "iteration": 871,
            "learn": [
             0.003023292489
            ],
            "passed_time": 2.812349057,
            "remaining_time": 0.4128218799
           },
           {
            "iteration": 872,
            "learn": [
             0.003023287985
            ],
            "passed_time": 2.814857986,
            "remaining_time": 0.4094925134
           },
           {
            "iteration": 873,
            "learn": [
             0.003023295403
            ],
            "passed_time": 2.817383145,
            "remaining_time": 0.4061673642
           },
           {
            "iteration": 874,
            "learn": [
             0.003020390934
            ],
            "passed_time": 2.820331003,
            "remaining_time": 0.4029044289
           },
           {
            "iteration": 875,
            "learn": [
             0.003019338714
            ],
            "passed_time": 2.824319767,
            "remaining_time": 0.399789556
           },
           {
            "iteration": 876,
            "learn": [
             0.003017171754
            ],
            "passed_time": 2.827184888,
            "remaining_time": 0.3965150984
           },
           {
            "iteration": 877,
            "learn": [
             0.003009391626
            ],
            "passed_time": 2.830070443,
            "remaining_time": 0.3932444124
           },
           {
            "iteration": 878,
            "learn": [
             0.003006190459
            ],
            "passed_time": 2.834681969,
            "remaining_time": 0.3902121938
           },
           {
            "iteration": 879,
            "learn": [
             0.003004711469
            ],
            "passed_time": 2.837518836,
            "remaining_time": 0.3869343867
           },
           {
            "iteration": 880,
            "learn": [
             0.003004711734
            ],
            "passed_time": 2.839911698,
            "remaining_time": 0.3835976074
           },
           {
            "iteration": 881,
            "learn": [
             0.003004702462
            ],
            "passed_time": 2.842388389,
            "remaining_time": 0.3802741835
           },
           {
            "iteration": 882,
            "learn": [
             0.003004688157
            ],
            "passed_time": 2.844862266,
            "remaining_time": 0.3769523047
           },
           {
            "iteration": 883,
            "learn": [
             0.003004682859
            ],
            "passed_time": 2.847329194,
            "remaining_time": 0.3736314327
           },
           {
            "iteration": 884,
            "learn": [
             0.00300467968
            ],
            "passed_time": 2.849749084,
            "remaining_time": 0.3703063781
           },
           {
            "iteration": 885,
            "learn": [
             0.00300467915
            ],
            "passed_time": 2.852189617,
            "remaining_time": 0.366986023
           },
           {
            "iteration": 886,
            "learn": [
             0.003004677561
            ],
            "passed_time": 2.854639974,
            "remaining_time": 0.3636689032
           },
           {
            "iteration": 887,
            "learn": [
             0.00300466564
            ],
            "passed_time": 2.857093907,
            "remaining_time": 0.3603541865
           },
           {
            "iteration": 888,
            "learn": [
             0.003004673057
            ],
            "passed_time": 2.859969391,
            "remaining_time": 0.3570940409
           },
           {
            "iteration": 889,
            "learn": [
             0.00300466458
            ],
            "passed_time": 2.862740164,
            "remaining_time": 0.3538218181
           },
           {
            "iteration": 890,
            "learn": [
             0.003004681269
            ],
            "passed_time": 2.865312806,
            "remaining_time": 0.3505264824
           },
           {
            "iteration": 891,
            "learn": [
             0.003000283241
            ],
            "passed_time": 2.868379709,
            "remaining_time": 0.3472926105
           },
           {
            "iteration": 892,
            "learn": [
             0.003000283506
            ],
            "passed_time": 2.870824511,
            "remaining_time": 0.3439845719
           },
           {
            "iteration": 893,
            "learn": [
             0.002998492718
            ],
            "passed_time": 2.874577952,
            "remaining_time": 0.3408336274
           },
           {
            "iteration": 894,
            "learn": [
             0.002990646627
            ],
            "passed_time": 2.877444813,
            "remaining_time": 0.3375773245
           },
           {
            "iteration": 895,
            "learn": [
             0.002979924679
            ],
            "passed_time": 2.880299904,
            "remaining_time": 0.3343205245
           },
           {
            "iteration": 896,
            "learn": [
             0.002978883055
            ],
            "passed_time": 2.88313207,
            "remaining_time": 0.331061988
           },
           {
            "iteration": 897,
            "learn": [
             0.002973777453
            ],
            "passed_time": 2.885909495,
            "remaining_time": 0.3277981832
           },
           {
            "iteration": 898,
            "learn": [
             0.002972431713
            ],
            "passed_time": 2.888805099,
            "remaining_time": 0.3245487375
           },
           {
            "iteration": 899,
            "learn": [
             0.002970210446
            ],
            "passed_time": 2.891696375,
            "remaining_time": 0.3212995972
           },
           {
            "iteration": 900,
            "learn": [
             0.002968971994
            ],
            "passed_time": 2.894587454,
            "remaining_time": 0.3180512297
           },
           {
            "iteration": 901,
            "learn": [
             0.002963671684
            ],
            "passed_time": 2.897409525,
            "remaining_time": 0.3147961568
           },
           {
            "iteration": 902,
            "learn": [
             0.002959479226
            ],
            "passed_time": 2.90037825,
            "remaining_time": 0.3115577965
           },
           {
            "iteration": 903,
            "learn": [
             0.002947347429
            ],
            "passed_time": 2.903490131,
            "remaining_time": 0.3083352351
           },
           {
            "iteration": 904,
            "learn": [
             0.002941785389
            ],
            "passed_time": 2.90650836,
            "remaining_time": 0.3051030876
           },
           {
            "iteration": 905,
            "learn": [
             0.002938915624
            ],
            "passed_time": 2.909362133,
            "remaining_time": 0.3018543494
           },
           {
            "iteration": 906,
            "learn": [
             0.002938745022
            ],
            "passed_time": 2.911949787,
            "remaining_time": 0.2985791954
           },
           {
            "iteration": 907,
            "learn": [
             0.002933750153
            ],
            "passed_time": 2.914984393,
            "remaining_time": 0.2953508416
           },
           {
            "iteration": 908,
            "learn": [
             0.002933754921
            ],
            "passed_time": 2.917567924,
            "remaining_time": 0.292077757
           },
           {
            "iteration": 909,
            "learn": [
             0.002933760484
            ],
            "passed_time": 2.920172457,
            "remaining_time": 0.288808265
           },
           {
            "iteration": 910,
            "learn": [
             0.002933746444
            ],
            "passed_time": 2.922770591,
            "remaining_time": 0.2855396077
           },
           {
            "iteration": 911,
            "learn": [
             0.00293374194
            ],
            "passed_time": 2.925394193,
            "remaining_time": 0.2822748783
           },
           {
            "iteration": 912,
            "learn": [
             0.002933753861
            ],
            "passed_time": 2.928077737,
            "remaining_time": 0.2790172652
           },
           {
            "iteration": 913,
            "learn": [
             0.00293343597
            ],
            "passed_time": 2.930912806,
            "remaining_time": 0.2757751656
           },
           {
            "iteration": 914,
            "learn": [
             0.002933131854
            ],
            "passed_time": 2.933541398,
            "remaining_time": 0.2725147746
           },
           {
            "iteration": 915,
            "learn": [
             0.002933121257
            ],
            "passed_time": 2.936062077,
            "remaining_time": 0.2692458673
           },
           {
            "iteration": 916,
            "learn": [
             0.002932626936
            ],
            "passed_time": 2.962779906,
            "remaining_time": 0.2681687374
           },
           {
            "iteration": 917,
            "learn": [
             0.002931212849
            ],
            "passed_time": 2.970035523,
            "remaining_time": 0.2652972907
           },
           {
            "iteration": 918,
            "learn": [
             0.002931212054
            ],
            "passed_time": 2.972938519,
            "remaining_time": 0.262032666
           },
           {
            "iteration": 919,
            "learn": [
             0.002931200133
            ],
            "passed_time": 2.981263504,
            "remaining_time": 0.2592403047
           },
           {
            "iteration": 920,
            "learn": [
             0.002928463618
            ],
            "passed_time": 2.992404446,
            "remaining_time": 0.2566774715
           },
           {
            "iteration": 921,
            "learn": [
             0.002925180859
            ],
            "passed_time": 2.997868802,
            "remaining_time": 0.2536157989
           },
           {
            "iteration": 922,
            "learn": [
             0.00292519331
            ],
            "passed_time": 3.000751725,
            "remaining_time": 0.2503335675
           },
           {
            "iteration": 923,
            "learn": [
             0.002925175031
            ],
            "passed_time": 3.003434135,
            "remaining_time": 0.2470357081
           },
           {
            "iteration": 924,
            "learn": [
             0.002921219932
            ],
            "passed_time": 3.006503988,
            "remaining_time": 0.2437705937
           },
           {
            "iteration": 925,
            "learn": [
             0.002918753094
            ],
            "passed_time": 3.009423041,
            "remaining_time": 0.2404938499
           },
           {
            "iteration": 926,
            "learn": [
             0.002918752035
            ],
            "passed_time": 3.01096436,
            "remaining_time": 0.2371093832
           },
           {
            "iteration": 927,
            "learn": [
             0.002913695441
            ],
            "passed_time": 3.013910822,
            "remaining_time": 0.2338379086
           },
           {
            "iteration": 928,
            "learn": [
             0.00291173617
            ],
            "passed_time": 3.016736585,
            "remaining_time": 0.2305579091
           },
           {
            "iteration": 929,
            "learn": [
             0.002908366521
            ],
            "passed_time": 3.021081895,
            "remaining_time": 0.2273932609
           },
           {
            "iteration": 930,
            "learn": [
             0.002908356984
            ],
            "passed_time": 3.023561928,
            "remaining_time": 0.2240878336
           },
           {
            "iteration": 931,
            "learn": [
             0.002906452285
            ],
            "passed_time": 3.026481225,
            "remaining_time": 0.2208162267
           },
           {
            "iteration": 932,
            "learn": [
             0.002901628282
            ],
            "passed_time": 3.029311877,
            "remaining_time": 0.2175390094
           },
           {
            "iteration": 933,
            "learn": [
             0.002901616891
            ],
            "passed_time": 3.031708949,
            "remaining_time": 0.2142321099
           },
           {
            "iteration": 934,
            "learn": [
             0.002892499235
            ],
            "passed_time": 3.034696582,
            "remaining_time": 0.2109682116
           },
           {
            "iteration": 935,
            "learn": [
             0.002890836398
            ],
            "passed_time": 3.037521387,
            "remaining_time": 0.2076937701
           },
           {
            "iteration": 936,
            "learn": [
             0.002886768977
            ],
            "passed_time": 3.040390496,
            "remaining_time": 0.2044232671
           },
           {
            "iteration": 937,
            "learn": [
             0.002879771656
            ],
            "passed_time": 3.043586982,
            "remaining_time": 0.2011752589
           },
           {
            "iteration": 938,
            "learn": [
             0.002867474026
            ],
            "passed_time": 3.046521257,
            "remaining_time": 0.1979103266
           },
           {
            "iteration": 939,
            "learn": [
             0.002863688999
            ],
            "passed_time": 3.049493077,
            "remaining_time": 0.1946484943
           },
           {
            "iteration": 940,
            "learn": [
             0.00286368476
            ],
            "passed_time": 3.051035514,
            "remaining_time": 0.1912976571
           },
           {
            "iteration": 941,
            "learn": [
             0.002863692707
            ],
            "passed_time": 3.053815247,
            "remaining_time": 0.1880268411
           },
           {
            "iteration": 942,
            "learn": [
             0.002863695357
            ],
            "passed_time": 3.056937716,
            "remaining_time": 0.1847777834
           },
           {
            "iteration": 943,
            "learn": [
             0.002863673104
            ],
            "passed_time": 3.059698845,
            "remaining_time": 0.1815075586
           },
           {
            "iteration": 944,
            "learn": [
             0.002859073745
            ],
            "passed_time": 3.062788395,
            "remaining_time": 0.1782575257
           },
           {
            "iteration": 945,
            "learn": [
             0.002859086461
            ],
            "passed_time": 3.065474299,
            "remaining_time": 0.1749847908
           },
           {
            "iteration": 946,
            "learn": [
             0.002850336234
            ],
            "passed_time": 3.068483998,
            "remaining_time": 0.171731417
           },
           {
            "iteration": 947,
            "learn": [
             0.002846806579
            ],
            "passed_time": 3.071312241,
            "remaining_time": 0.1684686039
           },
           {
            "iteration": 948,
            "learn": [
             0.00284517871
            ],
            "passed_time": 3.074326016,
            "remaining_time": 0.1652166774
           },
           {
            "iteration": 949,
            "learn": [
             0.002843897608
            ],
            "passed_time": 3.077168813,
            "remaining_time": 0.1619562533
           },
           {
            "iteration": 950,
            "learn": [
             0.002839280234
            ],
            "passed_time": 3.080001912,
            "remaining_time": 0.1586962079
           },
           {
            "iteration": 951,
            "learn": [
             0.002839283413
            ],
            "passed_time": 3.082420712,
            "remaining_time": 0.1554161703
           },
           {
            "iteration": 952,
            "learn": [
             0.00283929348
            ],
            "passed_time": 3.085015628,
            "remaining_time": 0.1521466259
           },
           {
            "iteration": 953,
            "learn": [
             0.00283910301
            ],
            "passed_time": 3.087620454,
            "remaining_time": 0.1488789737
           },
           {
            "iteration": 954,
            "learn": [
             0.002838835716
            ],
            "passed_time": 3.090254938,
            "remaining_time": 0.145614107
           },
           {
            "iteration": 955,
            "learn": [
             0.002838845783
            ],
            "passed_time": 3.092633346,
            "remaining_time": 0.1423387733
           },
           {
            "iteration": 956,
            "learn": [
             0.002838374509
            ],
            "passed_time": 3.095470484,
            "remaining_time": 0.1390859256
           },
           {
            "iteration": 957,
            "learn": [
             0.002836636967
            ],
            "passed_time": 3.098267697,
            "remaining_time": 0.1358321955
           },
           {
            "iteration": 958,
            "learn": [
             0.002836460272
            ],
            "passed_time": 3.100824736,
            "remaining_time": 0.1325691493
           },
           {
            "iteration": 959,
            "learn": [
             0.002836458948
            ],
            "passed_time": 3.103205009,
            "remaining_time": 0.1293002087
           },
           {
            "iteration": 960,
            "learn": [
             0.002830167876
            ],
            "passed_time": 3.106167654,
            "remaining_time": 0.1260567518
           },
           {
            "iteration": 961,
            "learn": [
             0.002830174764
            ],
            "passed_time": 3.108542742,
            "remaining_time": 0.1227906697
           },
           {
            "iteration": 962,
            "learn": [
             0.002825231552
            ],
            "passed_time": 3.112458882,
            "remaining_time": 0.1195856476
           },
           {
            "iteration": 963,
            "learn": [
             0.00282017284
            ],
            "passed_time": 3.115745028,
            "remaining_time": 0.1163556234
           },
           {
            "iteration": 964,
            "learn": [
             0.002817376984
            ],
            "passed_time": 3.119549627,
            "remaining_time": 0.113144287
           },
           {
            "iteration": 965,
            "learn": [
             0.002814145618
            ],
            "passed_time": 3.122520028,
            "remaining_time": 0.1099023612
           },
           {
            "iteration": 966,
            "learn": [
             0.0028112687
            ],
            "passed_time": 3.125393083,
            "remaining_time": 0.106657675
           },
           {
            "iteration": 967,
            "learn": [
             0.002806549867
            ],
            "passed_time": 3.128284052,
            "remaining_time": 0.1034143488
           },
           {
            "iteration": 968,
            "learn": [
             0.002806549867
            ],
            "passed_time": 3.130718859,
            "remaining_time": 0.1001571565
           },
           {
            "iteration": 969,
            "learn": [
             0.002806549072
            ],
            "passed_time": 3.133106464,
            "remaining_time": 0.09690019991
           },
           {
            "iteration": 970,
            "learn": [
             0.002806542185
            ],
            "passed_time": 3.135452056,
            "remaining_time": 0.09364377922
           },
           {
            "iteration": 971,
            "learn": [
             0.002798381382
            ],
            "passed_time": 3.138391619,
            "remaining_time": 0.09040634295
           },
           {
            "iteration": 972,
            "learn": [
             0.002794678211
            ],
            "passed_time": 3.141180835,
            "remaining_time": 0.08716534691
           },
           {
            "iteration": 973,
            "learn": [
             0.002791133192
            ],
            "passed_time": 3.143960241,
            "remaining_time": 0.0839250167
           },
           {
            "iteration": 974,
            "learn": [
             0.002785597377
            ],
            "passed_time": 3.146779417,
            "remaining_time": 0.08068665171
           },
           {
            "iteration": 975,
            "learn": [
             0.002783905665
            ],
            "passed_time": 3.149741102,
            "remaining_time": 0.07745265004
           },
           {
            "iteration": 976,
            "learn": [
             0.00278389136
            ],
            "passed_time": 3.152185514,
            "remaining_time": 0.07420702848
           },
           {
            "iteration": 977,
            "learn": [
             0.002781385846
            ],
            "passed_time": 3.155135601,
            "remaining_time": 0.07097442046
           },
           {
            "iteration": 978,
            "learn": [
             0.002778669993
            ],
            "passed_time": 3.157913603,
            "remaining_time": 0.06773869832
           },
           {
            "iteration": 979,
            "learn": [
             0.002772259712
            ],
            "passed_time": 3.160714974,
            "remaining_time": 0.06450438721
           },
           {
            "iteration": 980,
            "learn": [
             0.002770987882
            ],
            "passed_time": 3.16352775,
            "remaining_time": 0.06127117966
           },
           {
            "iteration": 981,
            "learn": [
             0.002760615879
            ],
            "passed_time": 3.166516293,
            "remaining_time": 0.05804205018
           },
           {
            "iteration": 982,
            "learn": [
             0.002760556539
            ],
            "passed_time": 3.169076258,
            "remaining_time": 0.05480599836
           },
           {
            "iteration": 983,
            "learn": [
             0.002756335206
            ],
            "passed_time": 3.171979365,
            "remaining_time": 0.05157690025
           },
           {
            "iteration": 984,
            "learn": [
             0.002755060726
            ],
            "passed_time": 3.174848467,
            "remaining_time": 0.0483479462
           },
           {
            "iteration": 985,
            "learn": [
             0.002754114469
            ],
            "passed_time": 3.177560542,
            "remaining_time": 0.04511749249
           },
           {
            "iteration": 986,
            "learn": [
             0.002751605776
            ],
            "passed_time": 3.180536765,
            "remaining_time": 0.04189156833
           },
           {
            "iteration": 987,
            "learn": [
             0.002751614783
            ],
            "passed_time": 3.182265728,
            "remaining_time": 0.03865100075
           },
           {
            "iteration": 988,
            "learn": [
             0.002751598888
            ],
            "passed_time": 3.184742281,
            "remaining_time": 0.03542180494
           },
           {
            "iteration": 989,
            "learn": [
             0.002751603127
            ],
            "passed_time": 3.187274861,
            "remaining_time": 0.03219469557
           },
           {
            "iteration": 990,
            "learn": [
             0.002751608955
            ],
            "passed_time": 3.189757627,
            "remaining_time": 0.02896853546
           },
           {
            "iteration": 991,
            "learn": [
             0.002751593855
            ],
            "passed_time": 3.192895002,
            "remaining_time": 0.02574915324
           },
           {
            "iteration": 992,
            "learn": [
             0.002751597828
            ],
            "passed_time": 3.195660617,
            "remaining_time": 0.02252731553
           },
           {
            "iteration": 993,
            "learn": [
             0.002751588821
            ],
            "passed_time": 3.198231616,
            "remaining_time": 0.01930522102
           },
           {
            "iteration": 994,
            "learn": [
             0.002751579285
            ],
            "passed_time": 3.200875921,
            "remaining_time": 0.01608480362
           },
           {
            "iteration": 995,
            "learn": [
             0.002751583523
            ],
            "passed_time": 3.203396995,
            "remaining_time": 0.01286504817
           },
           {
            "iteration": 996,
            "learn": [
             0.002751576106
            ],
            "passed_time": 3.205920298,
            "remaining_time": 0.009646700997
           },
           {
            "iteration": 997,
            "learn": [
             0.00275159253
            ],
            "passed_time": 3.208408174,
            "remaining_time": 0.0064296757
           },
           {
            "iteration": 998,
            "learn": [
             0.002751559681
            ],
            "passed_time": 3.210940841,
            "remaining_time": 0.003214154996
           },
           {
            "iteration": 999,
            "learn": [
             0.002749992477
            ],
            "passed_time": 3.214084241,
            "remaining_time": 0
           }
          ],
          "meta": {
           "iteration_count": 1000,
           "launch_mode": "Train",
           "learn_metrics": [
            {
             "best_value": "Min",
             "name": "Logloss"
            }
           ],
           "learn_sets": [
            "learn"
           ],
           "name": "experiment",
           "parameters": "",
           "test_metrics": [],
           "test_sets": []
          }
         },
         "passed_iterations": 999,
         "total_iterations": 1000
        },
        "name": "catboost_info",
        "path": "catboost_info"
       }
      },
      "layout": "IPY_MODEL_3000e50ad83d45f897ac102d1c7448c7"
     }
    }
   }
  }
 },
 "nbformat": 4,
 "nbformat_minor": 4
}
