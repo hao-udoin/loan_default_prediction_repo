{
 "cells": [
  {
   "cell_type": "markdown",
   "id": "337d296d",
   "metadata": {},
   "source": [
    "# Loan Default Prediction\n",
    "## Step 2: Data Wrangling"
   ]
  },
  {
   "cell_type": "markdown",
   "id": "09478649",
   "metadata": {},
   "source": [
    "## Table of Content\n",
    "1. Introduction\n",
    "2. Imports\n",
    "3. Data Loading and Preview\n",
    "4. YData Profiling Report\n",
    "5. Test/Train Split\n",
    "6. Summary"
   ]
  },
  {
   "cell_type": "markdown",
   "id": "d05efecc",
   "metadata": {},
   "source": [
    "## 2.1 Introduction\n",
    "Loans makes for an important source of revnue for retail banks, but it has an associated risk of borrowers defaulting on their loans. Defaulting happens when the borrower stops making required payments on the loan. The purpose of this data science project is to build a predictive model which estimates the probability of default based on customer characteristics.\n",
    "\n",
    "The dataset we will use to train this model is called Customer Loan Data, which has a column indicating if the customer has previously defaulted. Other columns contain information on the borrower as well as some other metrics. We are primarily interested in generating a PD (probability of default) which would be a floating point value between 0 and 1, given the details of the loan as described. We will also note down any other pattern that emerges."
   ]
  },
  {
   "cell_type": "markdown",
   "id": "2803a0de",
   "metadata": {},
   "source": [
    "## 2.2 Imports"
   ]
  },
  {
   "cell_type": "code",
   "execution_count": 1,
   "id": "c611b33e",
   "metadata": {},
   "outputs": [],
   "source": [
    "import os\n",
    "import pandas as pd\n",
    "from ydata_profiling import ProfileReport\n",
    "from sklearn.model_selection import train_test_split"
   ]
  },
  {
   "cell_type": "markdown",
   "id": "3078e3af",
   "metadata": {},
   "source": [
    "## 2.3 Data Loading and Preview"
   ]
  },
  {
   "cell_type": "code",
   "execution_count": 2,
   "id": "fe492452",
   "metadata": {},
   "outputs": [],
   "source": [
    "path = '/Users/hao/loan_default_prediction_repo/data/raw/'\n",
    "filename = 'Customer Loan Data.csv'\n",
    "df = pd.read_csv(path+filename)"
   ]
  },
  {
   "cell_type": "code",
   "execution_count": 3,
   "id": "3f26ccaa",
   "metadata": {},
   "outputs": [
    {
     "name": "stdout",
     "output_type": "stream",
     "text": [
      "<class 'pandas.core.frame.DataFrame'>\n",
      "RangeIndex: 10000 entries, 0 to 9999\n",
      "Data columns (total 8 columns):\n",
      " #   Column                    Non-Null Count  Dtype  \n",
      "---  ------                    --------------  -----  \n",
      " 0   customer_id               10000 non-null  int64  \n",
      " 1   credit_lines_outstanding  10000 non-null  int64  \n",
      " 2   loan_amt_outstanding      10000 non-null  float64\n",
      " 3   total_debt_outstanding    10000 non-null  float64\n",
      " 4   income                    10000 non-null  float64\n",
      " 5   years_employed            10000 non-null  int64  \n",
      " 6   fico_score                10000 non-null  int64  \n",
      " 7   default                   10000 non-null  int64  \n",
      "dtypes: float64(3), int64(5)\n",
      "memory usage: 625.1 KB\n"
     ]
    }
   ],
   "source": [
    "df.info()"
   ]
  },
  {
   "cell_type": "code",
   "execution_count": 4,
   "id": "3327d91d",
   "metadata": {},
   "outputs": [
    {
     "data": {
      "text/html": [
       "<div>\n",
       "<style scoped>\n",
       "    .dataframe tbody tr th:only-of-type {\n",
       "        vertical-align: middle;\n",
       "    }\n",
       "\n",
       "    .dataframe tbody tr th {\n",
       "        vertical-align: top;\n",
       "    }\n",
       "\n",
       "    .dataframe thead th {\n",
       "        text-align: right;\n",
       "    }\n",
       "</style>\n",
       "<table border=\"1\" class=\"dataframe\">\n",
       "  <thead>\n",
       "    <tr style=\"text-align: right;\">\n",
       "      <th></th>\n",
       "      <th>customer_id</th>\n",
       "      <th>credit_lines_outstanding</th>\n",
       "      <th>loan_amt_outstanding</th>\n",
       "      <th>total_debt_outstanding</th>\n",
       "      <th>income</th>\n",
       "      <th>years_employed</th>\n",
       "      <th>fico_score</th>\n",
       "      <th>default</th>\n",
       "    </tr>\n",
       "  </thead>\n",
       "  <tbody>\n",
       "    <tr>\n",
       "      <th>0</th>\n",
       "      <td>8153374</td>\n",
       "      <td>0</td>\n",
       "      <td>5221.545193</td>\n",
       "      <td>3915.471226</td>\n",
       "      <td>78039.38546</td>\n",
       "      <td>5</td>\n",
       "      <td>605</td>\n",
       "      <td>0</td>\n",
       "    </tr>\n",
       "    <tr>\n",
       "      <th>1</th>\n",
       "      <td>7442532</td>\n",
       "      <td>5</td>\n",
       "      <td>1958.928726</td>\n",
       "      <td>8228.752520</td>\n",
       "      <td>26648.43525</td>\n",
       "      <td>2</td>\n",
       "      <td>572</td>\n",
       "      <td>1</td>\n",
       "    </tr>\n",
       "    <tr>\n",
       "      <th>2</th>\n",
       "      <td>2256073</td>\n",
       "      <td>0</td>\n",
       "      <td>3363.009259</td>\n",
       "      <td>2027.830850</td>\n",
       "      <td>65866.71246</td>\n",
       "      <td>4</td>\n",
       "      <td>602</td>\n",
       "      <td>0</td>\n",
       "    </tr>\n",
       "    <tr>\n",
       "      <th>3</th>\n",
       "      <td>4885975</td>\n",
       "      <td>0</td>\n",
       "      <td>4766.648001</td>\n",
       "      <td>2501.730397</td>\n",
       "      <td>74356.88347</td>\n",
       "      <td>5</td>\n",
       "      <td>612</td>\n",
       "      <td>0</td>\n",
       "    </tr>\n",
       "    <tr>\n",
       "      <th>4</th>\n",
       "      <td>4700614</td>\n",
       "      <td>1</td>\n",
       "      <td>1345.827718</td>\n",
       "      <td>1768.826187</td>\n",
       "      <td>23448.32631</td>\n",
       "      <td>6</td>\n",
       "      <td>631</td>\n",
       "      <td>0</td>\n",
       "    </tr>\n",
       "  </tbody>\n",
       "</table>\n",
       "</div>"
      ],
      "text/plain": [
       "   customer_id  credit_lines_outstanding  loan_amt_outstanding  \\\n",
       "0      8153374                         0           5221.545193   \n",
       "1      7442532                         5           1958.928726   \n",
       "2      2256073                         0           3363.009259   \n",
       "3      4885975                         0           4766.648001   \n",
       "4      4700614                         1           1345.827718   \n",
       "\n",
       "   total_debt_outstanding       income  years_employed  fico_score  default  \n",
       "0             3915.471226  78039.38546               5         605        0  \n",
       "1             8228.752520  26648.43525               2         572        1  \n",
       "2             2027.830850  65866.71246               4         602        0  \n",
       "3             2501.730397  74356.88347               5         612        0  \n",
       "4             1768.826187  23448.32631               6         631        0  "
      ]
     },
     "execution_count": 4,
     "metadata": {},
     "output_type": "execute_result"
    }
   ],
   "source": [
    "df.head()"
   ]
  },
  {
   "cell_type": "markdown",
   "id": "5ac08a47",
   "metadata": {},
   "source": [
    "We can see that we have 10000 datapoints and no missing value. There are 8 columns, the first being the customer_id which is just indexing and should have no influence on the output; this we will verify through a correlation matrix later. The last column default, which should be a value of either 0 or 1 as they indicate known outcomes (either the customer defaulted or they did not). Here we have done some research into the reaining 6 columns in order to better understand them in later analysis.\n",
    "\n",
    "1. credit_lines_outstanding: Line of credit is one way the customer could borrow funds. They will receive a credit limit and make regular payments on principal and interest. They have continuous and repeated access to funds.\n",
    "\n",
    "2. loan_amt_outstanding: Loan is the other way the customer could borrow funds. They will only have access to the fund once and make payments on principal and interest until the loan is paid off.\n",
    "\n",
    "3. total_debt_outstanding: potentially referring only to the debt through line of credit.\n",
    "\n",
    "4. income: self-explanatory\n",
    "\n",
    "5. years_employed: self-explanatory\n",
    "\n",
    "6. fico_score: FICO scores take into account data in five areas to determine a borrower's credit worthiness: payment history, the current level of indebtedness, types of credit used, length of credit history, and new credit accounts. Scores range from 300 to 850."
   ]
  },
  {
   "cell_type": "markdown",
   "id": "688bd018",
   "metadata": {},
   "source": [
    "## 2.4 YData Profiling Report"
   ]
  },
  {
   "cell_type": "code",
   "execution_count": null,
   "id": "171c8286",
   "metadata": {},
   "outputs": [
    {
     "data": {
      "application/vnd.jupyter.widget-view+json": {
       "model_id": "5697c3bf99ed4ac38e145bd52d57ac46",
       "version_major": 2,
       "version_minor": 0
      },
      "text/plain": [
       "Summarize dataset:   0%|          | 0/5 [00:00<?, ?it/s]"
      ]
     },
     "metadata": {},
     "output_type": "display_data"
    },
    {
     "data": {
      "application/vnd.jupyter.widget-view+json": {
       "model_id": "ef66681d8aa34865a711e6825dd27839",
       "version_major": 2,
       "version_minor": 0
      },
      "text/plain": [
       "Generate report structure:   0%|          | 0/1 [00:00<?, ?it/s]"
      ]
     },
     "metadata": {},
     "output_type": "display_data"
    }
   ],
   "source": [
    "profile = ProfileReport(df, title=\"Profiling Report\")\n",
    "profile.to_notebook_iframe()"
   ]
  },
  {
   "cell_type": "markdown",
   "id": "48814386",
   "metadata": {},
   "source": [
    "### Variables\n",
    "0. customer_id: all unique as expected.\n",
    "\n",
    "1. credit_lines_outstanding: Integer values, from 0 to 5. Although 41.3% has value zero, it is unclear if any of them indicate unknown values.\n",
    "\n",
    "2. loan_amt_outstanding: Floating point values, from roughly 47 to 10,751 with a mean of 4160. Bell-shaped. All unique values.\n",
    "\n",
    "3. total_debt_outstanding: Floating point values, from roughly 32 to 43,689 with a mean of 8719. Negatively skewed, although no negative values. All unique values.\n",
    "\n",
    "4. income: Floating point values, from roughly 100 to 148,412 with a mean of 70,040. Bell-shaped. Values are mostly distinct except for 6 occurrencies of 1,000, which might be a place-holder value and might call for special considerations in later analysis.\n",
    "\n",
    "5. years_employed: Interger values, from 0 to 10. Bell-shaped which makes the zeros likely meaningful values.\n",
    "\n",
    "6. fico_score: Integer values, from 408 to 850, agreeing with range previously stated. \n",
    "\n",
    "7. default: 0 or 1 as expected. Roughtly 80:20 not default to default.\n",
    "\n",
    "### Correlations\n",
    "1. Variable of interest, default, positively correlated with credit_line_outstanding as well as total_debt_outstanding. Somewhat negatively correlated with fico_score and years_employed.\n",
    "\n",
    "2. total_debt_outstanding and credit_line_outstanding positively correlated.\n",
    "\n",
    "3. income and loan_amt_outstanding positively correlated."
   ]
  },
  {
   "cell_type": "markdown",
   "id": "e83178ce",
   "metadata": {},
   "source": [
    "## 2.5 Train/Test Split\n",
    "\n",
    "Given the number of observations in the dataset (n=10,000), and no significant outliers, a reasonable split maybe 80/20. We will perform the split, verify the results, and save the data as csv files for later use."
   ]
  },
  {
   "cell_type": "code",
   "execution_count": null,
   "id": "09ff1504",
   "metadata": {},
   "outputs": [],
   "source": [
    "df_train, df_test = train_test_split(df, train_size=0.8)"
   ]
  },
  {
   "cell_type": "code",
   "execution_count": null,
   "id": "0500effc",
   "metadata": {
    "scrolled": true
   },
   "outputs": [],
   "source": [
    "profile_train = ProfileReport(df_train, title=\"Profiling Report on Training Set\")\n",
    "profile_train.to_notebook_iframe()"
   ]
  },
  {
   "cell_type": "code",
   "execution_count": null,
   "id": "3036561b",
   "metadata": {},
   "outputs": [],
   "source": [
    "saving_path = '/Users/hao/loan_default_prediction_repo/data/interim/'\n",
    "filename1 = 'Training Set.csv'\n",
    "filename2 = 'Testing Set.csv'\n",
    "\n",
    "os.makedirs(saving_path, exist_ok=True)  \n",
    "df_train.to_csv(saving_path+filename1)\n",
    "df_test.to_csv(saving_path+filename2)"
   ]
  },
  {
   "cell_type": "markdown",
   "id": "6e0d61c3",
   "metadata": {},
   "source": [
    "## 2.6 Summary\n",
    "In this step of the project we loaded and investigated the dataset for missing values and outliers; then we performed a train/test split and saved the datasets as csv files for later use. We also investigated the variables individually as well as some correlations to get a better sense of the data. Overall the dataset is of high quality and now ready for exploratory analysis."
   ]
  }
 ],
 "metadata": {
  "kernelspec": {
   "display_name": "Python 3 (ipykernel)",
   "language": "python",
   "name": "python3"
  },
  "language_info": {
   "codemirror_mode": {
    "name": "ipython",
    "version": 3
   },
   "file_extension": ".py",
   "mimetype": "text/x-python",
   "name": "python",
   "nbconvert_exporter": "python",
   "pygments_lexer": "ipython3",
   "version": "3.11.5"
  }
 },
 "nbformat": 4,
 "nbformat_minor": 5
}
