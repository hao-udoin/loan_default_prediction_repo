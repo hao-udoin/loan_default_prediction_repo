{
 "cells": [
  {
   "cell_type": "markdown",
   "id": "ae8e3395-f9ed-46c2-a17b-86c7a47108df",
   "metadata": {},
   "source": [
    "# Loan Default Prediction\n",
    "## Step 5: Modelling (KNN)\n",
    "## Table of Content\n",
    "11. Imports and Data Loading\n",
    "12. Test KNN\n",
    "13. Hyperparameter Tuning\n",
    "14. Final KNN Model"
   ]
  },
  {
   "cell_type": "markdown",
   "id": "a56f5162-e446-477a-b910-b6c3a938b5d4",
   "metadata": {},
   "source": [
    "## 5.7 Imports and Data Loading"
   ]
  },
  {
   "cell_type": "code",
   "execution_count": 1,
   "id": "32c9a52c-162a-4130-b22a-18e96401d854",
   "metadata": {},
   "outputs": [],
   "source": [
    "import os\n",
    "import numpy as np\n",
    "import pandas as pd\n",
    "import matplotlib.pyplot as plt\n",
    "import seaborn as sns"
   ]
  },
  {
   "cell_type": "code",
   "execution_count": 2,
   "id": "cbbafab4-dcee-4d1e-88bc-d3dabaa42b7a",
   "metadata": {},
   "outputs": [],
   "source": [
    "from sklearn.metrics import confusion_matrix, ConfusionMatrixDisplay\n",
    "from sklearn.metrics import classification_report\n",
    "from sklearn.metrics import brier_score_loss, log_loss\n",
    "from sklearn.metrics import roc_auc_score, RocCurveDisplay"
   ]
  },
  {
   "cell_type": "code",
   "execution_count": 3,
   "id": "fd6051dd-1b96-404b-9597-aa5520c8c5a0",
   "metadata": {},
   "outputs": [
    {
     "data": {
      "text/html": [
       "<div>\n",
       "<style scoped>\n",
       "    .dataframe tbody tr th:only-of-type {\n",
       "        vertical-align: middle;\n",
       "    }\n",
       "\n",
       "    .dataframe tbody tr th {\n",
       "        vertical-align: top;\n",
       "    }\n",
       "\n",
       "    .dataframe thead th {\n",
       "        text-align: right;\n",
       "    }\n",
       "</style>\n",
       "<table border=\"1\" class=\"dataframe\">\n",
       "  <thead>\n",
       "    <tr style=\"text-align: right;\">\n",
       "      <th></th>\n",
       "      <th>Unnamed: 0</th>\n",
       "      <th>customer_id</th>\n",
       "      <th>credit_lines_outstanding</th>\n",
       "      <th>loan_amt_outstanding</th>\n",
       "      <th>total_debt_outstanding</th>\n",
       "      <th>income</th>\n",
       "      <th>years_employed</th>\n",
       "      <th>fico_score</th>\n",
       "      <th>default</th>\n",
       "    </tr>\n",
       "  </thead>\n",
       "  <tbody>\n",
       "    <tr>\n",
       "      <th>0</th>\n",
       "      <td>5038</td>\n",
       "      <td>6071496</td>\n",
       "      <td>3</td>\n",
       "      <td>2507.210974</td>\n",
       "      <td>8599.977362</td>\n",
       "      <td>47737.07095</td>\n",
       "      <td>6</td>\n",
       "      <td>618</td>\n",
       "      <td>0</td>\n",
       "    </tr>\n",
       "    <tr>\n",
       "      <th>1</th>\n",
       "      <td>8929</td>\n",
       "      <td>5006576</td>\n",
       "      <td>0</td>\n",
       "      <td>3879.481181</td>\n",
       "      <td>4894.867489</td>\n",
       "      <td>70287.44380</td>\n",
       "      <td>4</td>\n",
       "      <td>631</td>\n",
       "      <td>0</td>\n",
       "    </tr>\n",
       "    <tr>\n",
       "      <th>2</th>\n",
       "      <td>9024</td>\n",
       "      <td>3181518</td>\n",
       "      <td>0</td>\n",
       "      <td>2517.012371</td>\n",
       "      <td>2958.774379</td>\n",
       "      <td>39506.04322</td>\n",
       "      <td>5</td>\n",
       "      <td>763</td>\n",
       "      <td>0</td>\n",
       "    </tr>\n",
       "    <tr>\n",
       "      <th>3</th>\n",
       "      <td>3218</td>\n",
       "      <td>3770987</td>\n",
       "      <td>2</td>\n",
       "      <td>6581.765984</td>\n",
       "      <td>9023.147830</td>\n",
       "      <td>84959.97714</td>\n",
       "      <td>8</td>\n",
       "      <td>711</td>\n",
       "      <td>0</td>\n",
       "    </tr>\n",
       "    <tr>\n",
       "      <th>4</th>\n",
       "      <td>8550</td>\n",
       "      <td>3481740</td>\n",
       "      <td>5</td>\n",
       "      <td>5243.031680</td>\n",
       "      <td>27422.854140</td>\n",
       "      <td>85183.17609</td>\n",
       "      <td>4</td>\n",
       "      <td>586</td>\n",
       "      <td>1</td>\n",
       "    </tr>\n",
       "  </tbody>\n",
       "</table>\n",
       "</div>"
      ],
      "text/plain": [
       "   Unnamed: 0  customer_id  credit_lines_outstanding  loan_amt_outstanding  \\\n",
       "0        5038      6071496                         3           2507.210974   \n",
       "1        8929      5006576                         0           3879.481181   \n",
       "2        9024      3181518                         0           2517.012371   \n",
       "3        3218      3770987                         2           6581.765984   \n",
       "4        8550      3481740                         5           5243.031680   \n",
       "\n",
       "   total_debt_outstanding       income  years_employed  fico_score  default  \n",
       "0             8599.977362  47737.07095               6         618        0  \n",
       "1             4894.867489  70287.44380               4         631        0  \n",
       "2             2958.774379  39506.04322               5         763        0  \n",
       "3             9023.147830  84959.97714               8         711        0  \n",
       "4            27422.854140  85183.17609               4         586        1  "
      ]
     },
     "execution_count": 3,
     "metadata": {},
     "output_type": "execute_result"
    }
   ],
   "source": [
    "# As before, load training data\n",
    "df = pd.read_csv('../data/interim/train.csv')\n",
    "df.head()"
   ]
  },
  {
   "cell_type": "code",
   "execution_count": 4,
   "id": "2c961f83-66de-4f7e-8587-f938e8ca9204",
   "metadata": {},
   "outputs": [],
   "source": [
    "# Apply the same feature reduction as before to draw comparison\n",
    "X = df[['income', 'years_employed', 'fico_score']]\n",
    "y = df['default']"
   ]
  },
  {
   "cell_type": "markdown",
   "id": "3e7d8d94-37c5-4679-8129-d52ede2c6d62",
   "metadata": {},
   "source": [
    "## 5.8 Test KNN\n",
    "\n",
    "We have loaded the training data into variables X and y. Here we will:\n",
    "1. perform a train/test split\n",
    "2. build a first LogReg model using default parameters\n",
    "3. examine the performance of the model"
   ]
  },
  {
   "cell_type": "code",
   "execution_count": 5,
   "id": "021b5f3a-b524-4e59-8910-b7de803febe0",
   "metadata": {},
   "outputs": [],
   "source": [
    "# Perform train/test split\n",
    "from sklearn.model_selection import train_test_split\n",
    "\n",
    "X_train, X_test, y_train, y_test = \\\n",
    "    train_test_split(X, y, test_size=0.1, random_state=23)"
   ]
  },
  {
   "cell_type": "markdown",
   "id": "85b301c2-e66b-41db-8724-9a108574a7ee",
   "metadata": {},
   "source": [
    "class sklearn.neighbors.KNeighborsClassifier(n_neighbors=5, *, weights='uniform', algorithm='auto', leaf_size=30, p=2, metric='minkowski', metric_params=None, n_jobs=None)"
   ]
  },
  {
   "cell_type": "code",
   "execution_count": 6,
   "id": "976a09fb-28a2-4a2b-a8ab-99c31e5eabcf",
   "metadata": {},
   "outputs": [],
   "source": [
    "# Train a first model using default parameters\n",
    "from sklearn.neighbors import KNeighborsClassifier\n",
    "\n",
    "model = KNeighborsClassifier()\n",
    "fit_model = model.fit(X_train, y_train)"
   ]
  },
  {
   "cell_type": "code",
   "execution_count": 7,
   "id": "3347c9ef-1c20-484a-a6a1-16cdef91caa7",
   "metadata": {},
   "outputs": [],
   "source": [
    "# Use this model to predict on the test set\n",
    "y_pred = fit_model.predict(X_test)\n",
    "y_proba = fit_model.predict_proba(X_test)[:,1]"
   ]
  },
  {
   "cell_type": "code",
   "execution_count": 8,
   "id": "32a64e01-67d8-401f-a851-febf23d54bb1",
   "metadata": {},
   "outputs": [
    {
     "name": "stdout",
     "output_type": "stream",
     "text": [
      "               precision    recall  f1-score   support\n",
      "\n",
      "0(no default)       0.83      0.96      0.89       653\n",
      "   1(default)       0.39      0.12      0.18       147\n",
      "\n",
      "     accuracy                           0.80       800\n",
      "    macro avg       0.61      0.54      0.53       800\n",
      " weighted avg       0.75      0.80      0.76       800\n",
      "\n",
      "Brier score loss: \t0.16185000000000002\n",
      "log loss: \t\t2.343419837488838\n",
      "ROC_AUC score:  0.6038743215509788\n"
     ]
    },
    {
     "data": {
      "image/png": "[encoded data removed]",
      "text/plain": [
       "<Figure size 640x480 with 2 Axes>"
      ]
     },
     "metadata": {},
     "output_type": "display_data"
    },
    {
     "data": {
      "image/png": "[encoded data removed]",
      "text/plain": [
       "<Figure size 640x480 with 1 Axes>"
      ]
     },
     "metadata": {},
     "output_type": "display_data"
    }
   ],
   "source": [
    "# Take a look at performance metrics\n",
    "cm = confusion_matrix(y_test, y_pred)\n",
    "cm_display = ConfusionMatrixDisplay(cm).plot()\n",
    "\n",
    "target_names = ['0(no default)', '1(default)']\n",
    "print(classification_report(y_test, y_pred, target_names=target_names))\n",
    "\n",
    "print('Brier score loss: \\t' + str(brier_score_loss(y_test, y_proba)))\n",
    "print('log loss: \\t\\t' + str(log_loss(y_test, y_proba)))\n",
    "\n",
    "print('ROC_AUC score: ', str(roc_auc_score(y_test, y_proba)))\n",
    "RocCurveDisplay.from_estimator(model, X_test, y_test)\n",
    "plt.show()"
   ]
  },
  {
   "cell_type": "markdown",
   "id": "d53c3fb1-6045-4259-b763-3e13e350eda5",
   "metadata": {},
   "source": [
    "## 5.9 Hyperparameter Tuning\n",
    "As we can see already, the default LogReg model is performing worse than the default CatBoost model. It will be worthwhile to see if some hyperparameter tuning would improve the performance and by how much.\n",
    "\n",
    "Here are the default hyperparameters:\n",
    "penalty='l2', *, dual=False, tol=0.0001, C=1.0, fit_intercept=True, intercept_scaling=1, class_weight=None, random_state=None, solver='lbfgs', max_iter=100, multi_class='deprecated', verbose=0, warm_start=False, n_jobs=None, l1_ratio=None"
   ]
  },
  {
   "cell_type": "code",
   "execution_count": 9,
   "id": "13c2c8a3-4f39-4c86-9318-68ac082a3632",
   "metadata": {},
   "outputs": [
    {
     "ename": "NameError",
     "evalue": "name 'LogisticRegression' is not defined",
     "output_type": "error",
     "traceback": [
      "\u001b[0;31m---------------------------------------------------------------------------\u001b[0m",
      "\u001b[0;31mNameError\u001b[0m                                 Traceback (most recent call last)",
      "Cell \u001b[0;32mIn[9], line 7\u001b[0m\n\u001b[1;32m      3\u001b[0m ConvergenceWarning(\u001b[38;5;124m'\u001b[39m\u001b[38;5;124mignore\u001b[39m\u001b[38;5;124m'\u001b[39m)\n\u001b[1;32m      5\u001b[0m \u001b[38;5;28;01mfrom\u001b[39;00m \u001b[38;5;21;01msklearn\u001b[39;00m\u001b[38;5;21;01m.\u001b[39;00m\u001b[38;5;21;01mmodel_selection\u001b[39;00m \u001b[38;5;28;01mimport\u001b[39;00m RandomizedSearchCV\n\u001b[0;32m----> 7\u001b[0m clf \u001b[38;5;241m=\u001b[39m LogisticRegression(max_iter\u001b[38;5;241m=\u001b[39m\u001b[38;5;241m500\u001b[39m, penalty\u001b[38;5;241m=\u001b[39m\u001b[38;5;124m'\u001b[39m\u001b[38;5;124ml2\u001b[39m\u001b[38;5;124m'\u001b[39m)\n\u001b[1;32m      9\u001b[0m param_distributions \u001b[38;5;241m=\u001b[39m {\u001b[38;5;124m'\u001b[39m\u001b[38;5;124msolver\u001b[39m\u001b[38;5;124m'\u001b[39m: [\u001b[38;5;124m'\u001b[39m\u001b[38;5;124mlbfgs\u001b[39m\u001b[38;5;124m'\u001b[39m, \u001b[38;5;124m'\u001b[39m\u001b[38;5;124mnewton-cholesky\u001b[39m\u001b[38;5;124m'\u001b[39m],\n\u001b[1;32m     10\u001b[0m                        \u001b[38;5;124m'\u001b[39m\u001b[38;5;124mC\u001b[39m\u001b[38;5;124m'\u001b[39m: [\u001b[38;5;241m0.1\u001b[39m, \u001b[38;5;241m0.5\u001b[39m, \u001b[38;5;241m0.75\u001b[39m, \u001b[38;5;241m1\u001b[39m, \u001b[38;5;241m5\u001b[39m, \u001b[38;5;241m10\u001b[39m]}\n\u001b[1;32m     12\u001b[0m search \u001b[38;5;241m=\u001b[39m RandomizedSearchCV(clf, param_distributions, scoring\u001b[38;5;241m=\u001b[39m\u001b[38;5;124m'\u001b[39m\u001b[38;5;124mroc_auc\u001b[39m\u001b[38;5;124m'\u001b[39m)\u001b[38;5;241m.\u001b[39mfit(X_train, y_train)\n",
      "\u001b[0;31mNameError\u001b[0m: name 'LogisticRegression' is not defined"
     ]
    }
   ],
   "source": [
    "# Suppress convergence warnings\n",
    "from sklearn.exceptions import ConvergenceWarning\n",
    "ConvergenceWarning('ignore')\n",
    "\n",
    "from sklearn.model_selection import RandomizedSearchCV\n",
    "\n",
    "clf = LogisticRegression(max_iter=500, penalty='l2')\n",
    "\n",
    "param_distributions = {'solver': ['lbfgs', 'newton-cholesky'],\n",
    "                       'C': [0.1, 0.5, 0.75, 1, 5, 10]}\n",
    "\n",
    "search = RandomizedSearchCV(clf, param_distributions, scoring='roc_auc').fit(X_train, y_train)\n",
    "print('search done')\n",
    "print(search.best_params_)"
   ]
  },
  {
   "cell_type": "markdown",
   "id": "f3ab21d0-657e-4836-bb7d-2190274955cf",
   "metadata": {},
   "source": [
    "## 5.6 Final LogReg Model\n",
    "Using the results of the last section, the best values for the test parameters are:\n",
    "solver = 'newton-cholesky' (default 'lbfgs')\n",
    "C = 0.75 (default 1)\n",
    "Using these parameters, we will train the model and calculate metrics on the validation set."
   ]
  },
  {
   "cell_type": "code",
   "execution_count": null,
   "id": "bade38de-8659-415e-8fec-9c749ba1b5e8",
   "metadata": {},
   "outputs": [],
   "source": [
    "# Import validation data\n",
    "df_valid = pd.read_csv('../data/interim/validation.csv')\n",
    "X_valid = df_valid[['income', 'years_employed', 'fico_score']]\n",
    "y_valid = df_valid['default']"
   ]
  },
  {
   "cell_type": "code",
   "execution_count": null,
   "id": "cc99e8c0-30a1-4614-bb5a-ab39441e3f31",
   "metadata": {},
   "outputs": [],
   "source": [
    "# Let us examine the performance using this set of hyperparameters\n",
    "model = LogisticRegression(solver='newton-cholesky', penalty='l2', C=0.75, max_iter=500)\n",
    "fit_model = model.fit(X, y)"
   ]
  },
  {
   "cell_type": "code",
   "execution_count": null,
   "id": "c9041f83-a4a8-4bbb-9f44-0e349969d9d2",
   "metadata": {},
   "outputs": [],
   "source": [
    "# Use the trained model to make predictions\n",
    "y_pred = fit_model.predict(X_valid)\n",
    "y_proba = fit_model.predict_proba(X_valid)[:,1]"
   ]
  },
  {
   "cell_type": "code",
   "execution_count": null,
   "id": "13fb0283-56df-49d5-9894-1bd03f9d1ada",
   "metadata": {},
   "outputs": [],
   "source": [
    "# Generate performance metrics from the predictions\n",
    "cm = confusion_matrix(y_valid, y_pred)\n",
    "cm_display = ConfusionMatrixDisplay(cm).plot()\n",
    "\n",
    "target_names = ['0(no default)', '1(default)']\n",
    "print(classification_report(y_valid, y_pred, target_names=target_names))\n",
    "\n",
    "print('Brier score loss: \\t' + str(brier_score_loss(y_valid, y_proba)))\n",
    "print('log loss: \\t\\t' + str(log_loss(y_valid, y_proba)))\n",
    "\n",
    "print('ROC_AUC score: ', str(roc_auc_score(y_valid, y_proba)))\n",
    "RocCurveDisplay.from_estimator(model, X_valid, y_valid)\n",
    "plt.show()"
   ]
  },
  {
   "cell_type": "code",
   "execution_count": null,
   "id": "17217fc2-361e-45c7-bc08-c467c0cb2eec",
   "metadata": {},
   "outputs": [],
   "source": []
  }
 ],
 "metadata": {
  "kernelspec": {
   "display_name": "Python 3 (ipykernel)",
   "language": "python",
   "name": "python3"
  },
  "language_info": {
   "codemirror_mode": {
    "name": "ipython",
    "version": 3
   },
   "file_extension": ".py",
   "mimetype": "text/x-python",
   "name": "python",
   "nbconvert_exporter": "python",
   "pygments_lexer": "ipython3",
   "version": "3.11.5"
  }
 },
 "nbformat": 4,
 "nbformat_minor": 5
}
