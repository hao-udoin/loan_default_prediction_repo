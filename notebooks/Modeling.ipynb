{
 "cells": [
  {
   "cell_type": "markdown",
   "id": "e5406ad9",
   "metadata": {},
   "source": [
    "# Loan Default Prediction\n",
    "## Step 5: Modeling"
   ]
  },
  {
   "cell_type": "markdown",
   "id": "e7b94bd6",
   "metadata": {},
   "source": [
    "## Table of Content\n",
    "1. Overview\n",
    "2. Imports and Data Loading\n",
    "3. Logistic Regression\n",
    "4. \n",
    "5. Summary\n",
    "6. "
   ]
  },
  {
   "cell_type": "markdown",
   "id": "1844ec76",
   "metadata": {},
   "source": [
    "## 5.1 Overview\n",
    "\n",
    "### Evaluation Metrics\n",
    "The data is now ready for use in training models. But before training the models it is important to consider the evaluation metrics in the context of the problem. Without a reasonable evaluation metric, it would not be possible to track the progress of model training (underfitting or overfitting?) or select the most effective amongst various models. The goal of the model is to identify possible defaults based on some information on the borrowers. Therefore the "
   ]
  }
 ],
 "metadata": {
  "kernelspec": {
   "display_name": "Python 3 (ipykernel)",
   "language": "python",
   "name": "python3"
  },
  "language_info": {
   "codemirror_mode": {
    "name": "ipython",
    "version": 3
   },
   "file_extension": ".py",
   "mimetype": "text/x-python",
   "name": "python",
   "nbconvert_exporter": "python",
   "pygments_lexer": "ipython3",
   "version": "3.11.5"
  }
 },
 "nbformat": 4,
 "nbformat_minor": 5
}
